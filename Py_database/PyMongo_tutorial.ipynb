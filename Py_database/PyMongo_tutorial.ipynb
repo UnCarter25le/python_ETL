{
 "cells": [
  {
   "cell_type": "markdown",
   "metadata": {},
   "source": [
    "# 安裝mongoDB"
   ]
  },
  {
   "cell_type": "code",
   "execution_count": null,
   "metadata": {
    "collapsed": true
   },
   "outputs": [],
   "source": [
    "https://docs.mongodb.com/manual/tutorial/install-mongodb-on-ubuntu/\n",
    "按照官網的教學安裝"
   ]
  },
  {
   "cell_type": "code",
   "execution_count": null,
   "metadata": {
    "collapsed": true
   },
   "outputs": [],
   "source": [
    "安裝完後，相關指令\n",
    "mongo -version 查版本\n",
    "\n",
    "sudo service mongod start 啟動\n",
    "\n",
    "sudo service mongod stop  關閉\n",
    "\n",
    "sudo service mongod restart"
   ]
  },
  {
   "cell_type": "code",
   "execution_count": null,
   "metadata": {
    "collapsed": true
   },
   "outputs": [],
   "source": [
    "在terminal中，直接打mongo，可以進入互動模式"
   ]
  },
  {
   "cell_type": "code",
   "execution_count": null,
   "metadata": {
    "collapsed": true
   },
   "outputs": [],
   "source": [
    "# before install mongo, maybe u can update soft package overall by the command as bellow:\n",
    "#!sudo apt-get upgrade\n",
    "#!sudo apt-get update"
   ]
  },
  {
   "cell_type": "markdown",
   "metadata": {},
   "source": [
    "# 安裝pymongo"
   ]
  },
  {
   "cell_type": "code",
   "execution_count": 4,
   "metadata": {
    "scrolled": true
   },
   "outputs": [
    {
     "name": "stdout",
     "output_type": "stream",
     "text": [
      "Collecting pymongo\n",
      "  Downloading pymongo-3.5.1-cp36-cp36m-manylinux1_x86_64.whl (365kB)\n",
      "\u001b[K    100% |████████████████████████████████| 368kB 934kB/s ta 0:00:01\n",
      "\u001b[?25hInstalling collected packages: pymongo\n",
      "Successfully installed pymongo-3.5.1\n"
     ]
    }
   ],
   "source": [
    "!pip install pymongo"
   ]
  },
  {
   "cell_type": "markdown",
   "metadata": {},
   "source": [
    "# Making a Connection with MongoClient¶"
   ]
  },
  {
   "cell_type": "code",
   "execution_count": null,
   "metadata": {
    "collapsed": true
   },
   "outputs": [],
   "source": [
    "from pymongo import MongoClient\n",
    "client = MongoClient()\n",
    "#creating a charactor, named client, to visit mongoDB\n",
    "#The above code will connect on the default host and port. "
   ]
  },
  {
   "cell_type": "code",
   "execution_count": null,
   "metadata": {
    "collapsed": true
   },
   "outputs": [],
   "source": [
    "#the programs as bellow are the same as \"client = MongoClient(). \n",
    "#to put that way is for sure, we are suggested to set as bellow: \n",
    "client = MongoClient('localhost', 27017)              #localhost = ip address\n",
    "#or\n",
    "client = MongoClient('mongodb://localhost:27017/')"
   ]
  },
  {
   "cell_type": "code",
   "execution_count": null,
   "metadata": {
    "collapsed": true
   },
   "outputs": [],
   "source": [
    "#test\n",
    "from pymongo import MongoClient\n",
    "client = MongoClient('10.0.2.15', 27017)"
   ]
  },
  {
   "cell_type": "markdown",
   "metadata": {},
   "source": [
    "# Creating a Database"
   ]
  },
  {
   "cell_type": "code",
   "execution_count": 19,
   "metadata": {
    "collapsed": true
   },
   "outputs": [],
   "source": [
    "#by \"client\", creating the db,named test_database\n",
    "db = client.test_database"
   ]
  },
  {
   "cell_type": "markdown",
   "metadata": {},
   "source": [
    "# Creating a Collection "
   ]
  },
  {
   "cell_type": "code",
   "execution_count": 20,
   "metadata": {
    "collapsed": true
   },
   "outputs": [],
   "source": [
    "#by \"db\", creating the collection,named test_collection, to accomodate json files.\n",
    "#once json file is inserted into this collection, then it show up in mongod in bash.\n",
    "collection = db.test_collection"
   ]
  },
  {
   "cell_type": "markdown",
   "metadata": {
    "collapsed": true
   },
   "source": [
    "# Documents"
   ]
  },
  {
   "cell_type": "code",
   "execution_count": 21,
   "metadata": {
    "collapsed": true
   },
   "outputs": [],
   "source": [
    "import datetime\n",
    "post = {\"author\": \"Mike\",\n",
    "      \"text\": \"My first blog post!\",\n",
    "       \"tags\": [\"mongodb\", \"python\", \"pymongo\"],\n",
    "       \"date\": datetime.datetime.utcnow()}"
   ]
  },
  {
   "cell_type": "code",
   "execution_count": 22,
   "metadata": {
    "collapsed": true
   },
   "outputs": [],
   "source": [
    "post1 = {\"author\": \"Carter\",\n",
    "      \"text\": \"My first blog post!\",\n",
    "       \"tags\": [\"mongodb\", \"python\", \"pymongo\"],\n",
    "       \"date\": datetime.datetime.utcnow()}"
   ]
  },
  {
   "cell_type": "markdown",
   "metadata": {},
   "source": [
    "# Inserting a Document"
   ]
  },
  {
   "cell_type": "code",
   "execution_count": 23,
   "metadata": {
    "collapsed": true
   },
   "outputs": [],
   "source": [
    "#collections 1\n",
    "collection = db.test_collection\n",
    "collection_id = collection.insert_one(post).inserted_id"
   ]
  },
  {
   "cell_type": "code",
   "execution_count": 24,
   "metadata": {},
   "outputs": [
    {
     "data": {
      "text/plain": [
       "ObjectId('59b6593731eddd3ede4a9289')"
      ]
     },
     "execution_count": 24,
     "metadata": {},
     "output_type": "execute_result"
    }
   ],
   "source": [
    "#When a document is inserted a \"special\" key, \"_id\", is automatically added if the document\n",
    "#doesn’t already contain an \"_id\" key. \n",
    "collection_id"
   ]
  },
  {
   "cell_type": "code",
   "execution_count": 25,
   "metadata": {
    "collapsed": true
   },
   "outputs": [],
   "source": [
    "#collections 2\n",
    "posts = db.posts\n",
    "post_id = posts.insert_one(post).inserted_id"
   ]
  },
  {
   "cell_type": "code",
   "execution_count": 26,
   "metadata": {
    "scrolled": true
   },
   "outputs": [
    {
     "data": {
      "text/plain": [
       "ObjectId('59b6593731eddd3ede4a9289')"
      ]
     },
     "execution_count": 26,
     "metadata": {},
     "output_type": "execute_result"
    }
   ],
   "source": [
    "post_id"
   ]
  },
  {
   "cell_type": "code",
   "execution_count": 27,
   "metadata": {
    "collapsed": true,
    "scrolled": true
   },
   "outputs": [],
   "source": [
    "#collections 2, insert another json\n",
    "post_id1 = posts.insert_one(post1).inserted_id"
   ]
  },
  {
   "cell_type": "code",
   "execution_count": 28,
   "metadata": {},
   "outputs": [
    {
     "data": {
      "text/plain": [
       "ObjectId('59b6594731eddd3ede4a928a')"
      ]
     },
     "execution_count": 28,
     "metadata": {},
     "output_type": "execute_result"
    }
   ],
   "source": [
    "post_id1"
   ]
  },
  {
   "cell_type": "markdown",
   "metadata": {},
   "source": [
    "# showing all collections of current db"
   ]
  },
  {
   "cell_type": "code",
   "execution_count": 29,
   "metadata": {},
   "outputs": [
    {
     "data": {
      "text/plain": [
       "['posts', 'test_collection']"
      ]
     },
     "execution_count": 29,
     "metadata": {},
     "output_type": "execute_result"
    }
   ],
   "source": [
    "db.collection_names(include_system_collections=False)"
   ]
  },
  {
   "cell_type": "code",
   "execution_count": null,
   "metadata": {
    "collapsed": true
   },
   "outputs": [],
   "source": [
    "#看目前的dbs\n",
    "clinet.database_names()"
   ]
  },
  {
   "cell_type": "markdown",
   "metadata": {},
   "source": [
    "# Getting a Single Document With find_one()"
   ]
  },
  {
   "cell_type": "code",
   "execution_count": 30,
   "metadata": {},
   "outputs": [
    {
     "data": {
      "text/plain": [
       "<pymongo.cursor.Cursor at 0x7fd6ec260470>"
      ]
     },
     "execution_count": 30,
     "metadata": {},
     "output_type": "execute_result"
    }
   ],
   "source": [
    "posts.find()"
   ]
  },
  {
   "cell_type": "code",
   "execution_count": 31,
   "metadata": {
    "scrolled": true
   },
   "outputs": [
    {
     "data": {
      "text/plain": [
       "{'_id': ObjectId('59b6593731eddd3ede4a9289'),\n",
       " 'author': 'Mike',\n",
       " 'date': datetime.datetime(2017, 9, 11, 9, 36, 51, 381000),\n",
       " 'tags': ['mongodb', 'python', 'pymongo'],\n",
       " 'text': 'My first blog post!'}"
      ]
     },
     "execution_count": 31,
     "metadata": {},
     "output_type": "execute_result"
    }
   ],
   "source": [
    "#collection'name + find_one()\n",
    "posts.find_one()"
   ]
  },
  {
   "cell_type": "code",
   "execution_count": 32,
   "metadata": {},
   "outputs": [
    {
     "data": {
      "text/plain": [
       "{'_id': ObjectId('59b6593731eddd3ede4a9289'),\n",
       " 'author': 'Mike',\n",
       " 'date': datetime.datetime(2017, 9, 11, 9, 36, 51, 381000),\n",
       " 'tags': ['mongodb', 'python', 'pymongo'],\n",
       " 'text': 'My first blog post!'}"
      ]
     },
     "execution_count": 32,
     "metadata": {},
     "output_type": "execute_result"
    }
   ],
   "source": [
    "#To get our results from a document, we can do with  putting author “Mike”:\n",
    "posts.find_one({\"author\":'Mike'})"
   ]
  },
  {
   "cell_type": "code",
   "execution_count": 33,
   "metadata": {},
   "outputs": [
    {
     "data": {
      "text/plain": [
       "{'_id': ObjectId('59b6594731eddd3ede4a928a'),\n",
       " 'author': 'Carter',\n",
       " 'date': datetime.datetime(2017, 9, 11, 9, 36, 52, 816000),\n",
       " 'tags': ['mongodb', 'python', 'pymongo'],\n",
       " 'text': 'My first blog post!'}"
      ]
     },
     "execution_count": 33,
     "metadata": {},
     "output_type": "execute_result"
    }
   ],
   "source": [
    "posts.find_one({\"author\":'Carter'})"
   ]
  },
  {
   "cell_type": "markdown",
   "metadata": {},
   "source": [
    "# Querying By ObjectId"
   ]
  },
  {
   "cell_type": "code",
   "execution_count": 38,
   "metadata": {},
   "outputs": [
    {
     "data": {
      "text/plain": [
       "[ObjectId('59b6593731eddd3ede4a9289'),\n",
       " ObjectId('59b6594731eddd3ede4a928a'),\n",
       " ObjectId('59b6593731eddd3ede4a9289')]"
      ]
     },
     "execution_count": 38,
     "metadata": {},
     "output_type": "execute_result"
    }
   ],
   "source": [
    "[post_id,post_id1,collection_id]"
   ]
  },
  {
   "cell_type": "code",
   "execution_count": 35,
   "metadata": {},
   "outputs": [
    {
     "name": "stdout",
     "output_type": "stream",
     "text": [
      "{'_id': ObjectId('59b6593731eddd3ede4a9289'),\n",
      " 'author': 'Mike',\n",
      " 'date': datetime.datetime(2017, 9, 11, 9, 36, 51, 381000),\n",
      " 'tags': ['mongodb', 'python', 'pymongo'],\n",
      " 'text': 'My first blog post!'}\n"
     ]
    }
   ],
   "source": [
    "#we are capable of querying document by a set of key-value \n",
    "import pprint\n",
    "pprint.pprint(posts.find_one({'_id':post_id}))"
   ]
  },
  {
   "cell_type": "code",
   "execution_count": 46,
   "metadata": {},
   "outputs": [
    {
     "name": "stdout",
     "output_type": "stream",
     "text": [
      "{'_id': ObjectId('59b6594731eddd3ede4a928a'),\n",
      " 'author': 'Carter',\n",
      " 'date': datetime.datetime(2017, 9, 11, 9, 36, 52, 816000),\n",
      " 'tags': ['mongodb', 'python', 'pymongo'],\n",
      " 'text': 'My first blog post!'}\n"
     ]
    }
   ],
   "source": [
    "#it's OKKK\n",
    "from bson import ObjectId\n",
    "pprint.pprint(posts.find_one({'_id': ObjectId('59b6594731eddd3ede4a928a')}))"
   ]
  },
  {
   "cell_type": "code",
   "execution_count": 40,
   "metadata": {},
   "outputs": [
    {
     "name": "stdout",
     "output_type": "stream",
     "text": [
      "None\n"
     ]
    }
   ],
   "source": [
    "#Note that an ObjectId is not the same as its string representation:\n",
    "pprint.pprint(posts.find_one({'_id':'59b55e1c31eddd7f04fe9138'}))"
   ]
  },
  {
   "cell_type": "code",
   "execution_count": null,
   "metadata": {
    "collapsed": true
   },
   "outputs": [],
   "source": [
    "A Note On Unicode Strings¶\n",
    "You probably noticed that the regular Python strings we stored earlier look different when\n",
    "retrieved from the server (e.g. u’Mike’ instead of ‘Mike’). A short explanation is in order.\n",
    "\n",
    "MongoDB stores data in BSON format. BSON strings are UTF-8 encoded so PyMongo must ensure that \n",
    "any strings it stores contain only valid UTF-8 data. Regular strings (<type ‘str’>) are validated\n",
    "and stored unaltered. Unicode strings (<type ‘unicode’>) are encoded UTF-8 first. The reason our example\n",
    "string is represented in the Python shell as u’Mike’ instead of ‘Mike’ is that\n",
    "PyMongo decodes each BSON string to a Python unicode string, not a regular str.\n",
    "\n",
    "====================\n",
    "so,\n",
    "the document stored in MongoDB is encoded by UTF-8,and it's name BSON. \n",
    "(BSON strings, not equal to regular string.)"
   ]
  },
  {
   "cell_type": "markdown",
   "metadata": {},
   "source": [
    "# Bulk Inserts   {  insert_many(jsonarray)  }"
   ]
  },
  {
   "cell_type": "code",
   "execution_count": 47,
   "metadata": {
    "collapsed": true
   },
   "outputs": [],
   "source": [
    "new_posts = [\n",
    "                {\"author\": \"Mike\",\n",
    "               \"text\": \"Another post!\",\n",
    "               \"tags\": [\"bulk\", \"insert\"],\n",
    "               \"date\": datetime.datetime(2009, 11, 12, 11, 14)},\n",
    "    \n",
    "              {\"author\": \"Eliot\",\n",
    "               \"title\": \"MongoDB is fun\",\n",
    "               \"text\": \"and pretty easy too!\",\n",
    "               \"date\": datetime.datetime(2009, 11, 10, 10, 45)}\n",
    "                                                                    ]"
   ]
  },
  {
   "cell_type": "code",
   "execution_count": 48,
   "metadata": {
    "collapsed": true
   },
   "outputs": [],
   "source": [
    "result = posts.insert_many(new_posts)"
   ]
  },
  {
   "cell_type": "code",
   "execution_count": 49,
   "metadata": {},
   "outputs": [
    {
     "data": {
      "text/plain": [
       "[ObjectId('59b65a8331eddd3ede4a928b'), ObjectId('59b65a8331eddd3ede4a928c')]"
      ]
     },
     "execution_count": 49,
     "metadata": {},
     "output_type": "execute_result"
    }
   ],
   "source": [
    "#知道bulk insert 的jsonarray的object_ID\n",
    "result.inserted_ids"
   ]
  },
  {
   "cell_type": "code",
   "execution_count": 50,
   "metadata": {},
   "outputs": [
    {
     "data": {
      "text/plain": [
       "{'_id': ObjectId('59b6593731eddd3ede4a9289'),\n",
       " 'author': 'Mike',\n",
       " 'date': datetime.datetime(2017, 9, 11, 9, 36, 51, 381000),\n",
       " 'tags': ['mongodb', 'python', 'pymongo'],\n",
       " 'text': 'My first blog post!'}"
      ]
     },
     "execution_count": 50,
     "metadata": {},
     "output_type": "execute_result"
    }
   ],
   "source": [
    "posts.find_one({\"author\" : \"Mike\"})"
   ]
  },
  {
   "cell_type": "markdown",
   "metadata": {},
   "source": [
    "# Querying for More Than One Document"
   ]
  },
  {
   "cell_type": "code",
   "execution_count": null,
   "metadata": {
    "collapsed": true
   },
   "outputs": [],
   "source": [
    "To get more than a single document as the result of a query we use the find() method.\n",
    "find() returns a \"Cursor\" instance, which allows us to __iterate__ over all matching documents.\n",
    "For example, we can iterate over every document in the posts collection:"
   ]
  },
  {
   "cell_type": "code",
   "execution_count": 51,
   "metadata": {
    "scrolled": true
   },
   "outputs": [
    {
     "name": "stdout",
     "output_type": "stream",
     "text": [
      "{'_id': ObjectId('59b6593731eddd3ede4a9289'),\n",
      " 'author': 'Mike',\n",
      " 'date': datetime.datetime(2017, 9, 11, 9, 36, 51, 381000),\n",
      " 'tags': ['mongodb', 'python', 'pymongo'],\n",
      " 'text': 'My first blog post!'}\n",
      "{'_id': ObjectId('59b6594731eddd3ede4a928a'),\n",
      " 'author': 'Carter',\n",
      " 'date': datetime.datetime(2017, 9, 11, 9, 36, 52, 816000),\n",
      " 'tags': ['mongodb', 'python', 'pymongo'],\n",
      " 'text': 'My first blog post!'}\n",
      "{'_id': ObjectId('59b65a8331eddd3ede4a928b'),\n",
      " 'author': 'Mike',\n",
      " 'date': datetime.datetime(2009, 11, 12, 11, 14),\n",
      " 'tags': ['bulk', 'insert'],\n",
      " 'text': 'Another post!'}\n",
      "{'_id': ObjectId('59b65a8331eddd3ede4a928c'),\n",
      " 'author': 'Eliot',\n",
      " 'date': datetime.datetime(2009, 11, 10, 10, 45),\n",
      " 'text': 'and pretty easy too!',\n",
      " 'title': 'MongoDB is fun'}\n"
     ]
    }
   ],
   "source": [
    "for post in posts.find():\n",
    "    pprint.pprint(post)"
   ]
  },
  {
   "cell_type": "code",
   "execution_count": null,
   "metadata": {
    "collapsed": true
   },
   "outputs": [],
   "source": [
    "Just like we did with find_one(), we can pass a document to find() to limit the returned results.\n",
    "Here, we get only those documents whose author is “Carter”:"
   ]
  },
  {
   "cell_type": "code",
   "execution_count": 52,
   "metadata": {},
   "outputs": [
    {
     "name": "stdout",
     "output_type": "stream",
     "text": [
      "{'_id': ObjectId('59b6594731eddd3ede4a928a'),\n",
      " 'author': 'Carter',\n",
      " 'date': datetime.datetime(2017, 9, 11, 9, 36, 52, 816000),\n",
      " 'tags': ['mongodb', 'python', 'pymongo'],\n",
      " 'text': 'My first blog post!'}\n"
     ]
    }
   ],
   "source": [
    "for post in posts.find({'author':'Carter'}):\n",
    "    pprint.pprint(post)"
   ]
  },
  {
   "cell_type": "markdown",
   "metadata": {},
   "source": [
    "# Count"
   ]
  },
  {
   "cell_type": "code",
   "execution_count": null,
   "metadata": {
    "collapsed": true
   },
   "outputs": [],
   "source": [
    "If we just want to know \"how many\" documents match a query we can perform a count()\n",
    "operation instead of a full query. We can get a count of all of the documents in a collection:"
   ]
  },
  {
   "cell_type": "code",
   "execution_count": 53,
   "metadata": {},
   "outputs": [
    {
     "data": {
      "text/plain": [
       "4"
      ]
     },
     "execution_count": 53,
     "metadata": {},
     "output_type": "execute_result"
    }
   ],
   "source": [
    "#count the result of find()\n",
    "posts.find().count()"
   ]
  },
  {
   "cell_type": "code",
   "execution_count": null,
   "metadata": {
    "collapsed": true
   },
   "outputs": [],
   "source": [
    "posts.find({}).count()"
   ]
  },
  {
   "cell_type": "code",
   "execution_count": 54,
   "metadata": {},
   "outputs": [
    {
     "data": {
      "text/plain": [
       "1"
      ]
     },
     "execution_count": 54,
     "metadata": {},
     "output_type": "execute_result"
    }
   ],
   "source": [
    "posts.find({'author':'Carter'}).count()"
   ]
  },
  {
   "cell_type": "markdown",
   "metadata": {},
   "source": [
    "# Range Queries¶"
   ]
  },
  {
   "cell_type": "code",
   "execution_count": 55,
   "metadata": {},
   "outputs": [
    {
     "data": {
      "text/plain": [
       "datetime.datetime(2009, 11, 12, 12, 56)"
      ]
     },
     "execution_count": 55,
     "metadata": {},
     "output_type": "execute_result"
    }
   ],
   "source": [
    "datetime.datetime(2009, 11,   12,  12,   56)\n",
    "                 #year month date hour minute"
   ]
  },
  {
   "cell_type": "code",
   "execution_count": 56,
   "metadata": {},
   "outputs": [
    {
     "name": "stdout",
     "output_type": "stream",
     "text": [
      "{'_id': ObjectId('59b65a8331eddd3ede4a928c'),\n",
      " 'author': 'Eliot',\n",
      " 'date': datetime.datetime(2009, 11, 10, 10, 45),\n",
      " 'text': 'and pretty easy too!',\n",
      " 'title': 'MongoDB is fun'}\n",
      "{'_id': ObjectId('59b65a8331eddd3ede4a928b'),\n",
      " 'author': 'Mike',\n",
      " 'date': datetime.datetime(2009, 11, 12, 11, 14),\n",
      " 'tags': ['bulk', 'insert'],\n",
      " 'text': 'Another post!'}\n"
     ]
    }
   ],
   "source": [
    "d = datetime.datetime(2009, 11, 12, 12)\n",
    "for post in posts.find({\"date\": {\"$lt\": d}}).sort('date'):\n",
    "    pprint.pprint(post)                      #sort the result of find() by 'author'\n",
    "    \n",
    "#lt = less than\n"
   ]
  },
  {
   "cell_type": "markdown",
   "metadata": {},
   "source": [
    "# Indexing  ::create_index():: "
   ]
  },
  {
   "cell_type": "code",
   "execution_count": null,
   "metadata": {
    "collapsed": true
   },
   "outputs": [],
   "source": [
    "Adding indexes can help accelerate certain queries and can also add additional functionality\n",
    "to querying and storing documents. In this example, we’ll demonstrate how to create a unique \n",
    "index on a key that rejects documents whose value for that key already exists in the index."
   ]
  },
  {
   "cell_type": "code",
   "execution_count": 57,
   "metadata": {
    "collapsed": true
   },
   "outputs": [],
   "source": [
    "import pymongo   #profiles 是collections\n",
    "result = db.profiles.create_index([('user_id', pymongo.ASCENDING)],unique = True)"
   ]
  },
  {
   "cell_type": "code",
   "execution_count": 58,
   "metadata": {},
   "outputs": [
    {
     "data": {
      "text/plain": [
       "['_id_', 'user_id_1']"
      ]
     },
     "execution_count": 58,
     "metadata": {},
     "output_type": "execute_result"
    }
   ],
   "source": [
    "#the original id for mongo, _id, is left; the customized one for user is right. \n",
    "sorted(list(db.profiles.index_information()))"
   ]
  },
  {
   "cell_type": "code",
   "execution_count": null,
   "metadata": {
    "collapsed": true
   },
   "outputs": [],
   "source": [
    "Notice that we have two indexes now: one is the index on _id that MongoDB \n",
    "creates automatically,\n",
    "and the other is the index on user_id we just created."
   ]
  },
  {
   "cell_type": "code",
   "execution_count": 59,
   "metadata": {
    "collapsed": true
   },
   "outputs": [],
   "source": [
    "user_profiles = [\n",
    "      {'user_id': 211, 'name': 'Luke'},\n",
    "        {'user_id': 212, 'name': 'Ziltoid'}]"
   ]
  },
  {
   "cell_type": "code",
   "execution_count": 60,
   "metadata": {
    "collapsed": true
   },
   "outputs": [],
   "source": [
    "result = db.profiles.insert_many(user_profiles)"
   ]
  },
  {
   "cell_type": "code",
   "execution_count": 61,
   "metadata": {
    "scrolled": true
   },
   "outputs": [
    {
     "ename": "DuplicateKeyError",
     "evalue": "E11000 duplicate key error collection: test_database.profiles index: user_id_1 dup key: { : 212 }",
     "output_type": "error",
     "traceback": [
      "\u001b[0;31m---------------------------------------------------------------------------\u001b[0m",
      "\u001b[0;31mDuplicateKeyError\u001b[0m                         Traceback (most recent call last)",
      "\u001b[0;32m<ipython-input-61-fd7bb849056e>\u001b[0m in \u001b[0;36m<module>\u001b[0;34m()\u001b[0m\n\u001b[1;32m      4\u001b[0m \u001b[0;34m\u001b[0m\u001b[0m\n\u001b[1;32m      5\u001b[0m \u001b[0mresult\u001b[0m \u001b[0;34m=\u001b[0m \u001b[0mdb\u001b[0m\u001b[0;34m.\u001b[0m\u001b[0mprofiles\u001b[0m\u001b[0;34m.\u001b[0m\u001b[0minsert_one\u001b[0m\u001b[0;34m(\u001b[0m\u001b[0mnew_profile\u001b[0m\u001b[0;34m)\u001b[0m  \u001b[0;31m# This is fine.\u001b[0m\u001b[0;34m\u001b[0m\u001b[0m\n\u001b[0;32m----> 6\u001b[0;31m \u001b[0mresult\u001b[0m \u001b[0;34m=\u001b[0m \u001b[0mdb\u001b[0m\u001b[0;34m.\u001b[0m\u001b[0mprofiles\u001b[0m\u001b[0;34m.\u001b[0m\u001b[0minsert_one\u001b[0m\u001b[0;34m(\u001b[0m\u001b[0mduplicate_profile\u001b[0m\u001b[0;34m)\u001b[0m\u001b[0;34m\u001b[0m\u001b[0m\n\u001b[0m\u001b[1;32m      7\u001b[0m \u001b[0;31m# Traceback (most recent call last):\u001b[0m\u001b[0;34m\u001b[0m\u001b[0;34m\u001b[0m\u001b[0m\n\u001b[1;32m      8\u001b[0m \u001b[0;31m# DuplicateKeyError: E11000 duplicate key error index: test_database.profiles.$user_id_1 dup key: { : 212 }\u001b[0m\u001b[0;34m\u001b[0m\u001b[0;34m\u001b[0m\u001b[0m\n",
      "\u001b[0;32m~/.pyenv/versions/3.6.1/lib/python3.6/site-packages/pymongo/collection.py\u001b[0m in \u001b[0;36minsert_one\u001b[0;34m(self, document, bypass_document_validation)\u001b[0m\n\u001b[1;32m    668\u001b[0m             return InsertOneResult(\n\u001b[1;32m    669\u001b[0m                 self._insert(sock_info, document,\n\u001b[0;32m--> 670\u001b[0;31m                              bypass_doc_val=bypass_document_validation),\n\u001b[0m\u001b[1;32m    671\u001b[0m                 self.write_concern.acknowledged)\n\u001b[1;32m    672\u001b[0m \u001b[0;34m\u001b[0m\u001b[0m\n",
      "\u001b[0;32m~/.pyenv/versions/3.6.1/lib/python3.6/site-packages/pymongo/collection.py\u001b[0m in \u001b[0;36m_insert\u001b[0;34m(self, sock_info, docs, ordered, check_keys, manipulate, write_concern, op_id, bypass_doc_val)\u001b[0m\n\u001b[1;32m    573\u001b[0m             return self._insert_one(\n\u001b[1;32m    574\u001b[0m                 \u001b[0msock_info\u001b[0m\u001b[0;34m,\u001b[0m \u001b[0mdocs\u001b[0m\u001b[0;34m,\u001b[0m \u001b[0mordered\u001b[0m\u001b[0;34m,\u001b[0m\u001b[0;34m\u001b[0m\u001b[0m\n\u001b[0;32m--> 575\u001b[0;31m                 check_keys, manipulate, write_concern, op_id, bypass_doc_val)\n\u001b[0m\u001b[1;32m    576\u001b[0m \u001b[0;34m\u001b[0m\u001b[0m\n\u001b[1;32m    577\u001b[0m         \u001b[0mids\u001b[0m \u001b[0;34m=\u001b[0m \u001b[0;34m[\u001b[0m\u001b[0;34m]\u001b[0m\u001b[0;34m\u001b[0m\u001b[0m\n",
      "\u001b[0;32m~/.pyenv/versions/3.6.1/lib/python3.6/site-packages/pymongo/collection.py\u001b[0m in \u001b[0;36m_insert_one\u001b[0;34m(self, sock_info, doc, ordered, check_keys, manipulate, write_concern, op_id, bypass_doc_val)\u001b[0m\n\u001b[1;32m    555\u001b[0m                 \u001b[0mcodec_options\u001b[0m\u001b[0;34m=\u001b[0m\u001b[0mself\u001b[0m\u001b[0;34m.\u001b[0m\u001b[0m__write_response_codec_options\u001b[0m\u001b[0;34m,\u001b[0m\u001b[0;34m\u001b[0m\u001b[0m\n\u001b[1;32m    556\u001b[0m                 check_keys=check_keys)\n\u001b[0;32m--> 557\u001b[0;31m             \u001b[0m_check_write_command_response\u001b[0m\u001b[0;34m(\u001b[0m\u001b[0;34m[\u001b[0m\u001b[0;34m(\u001b[0m\u001b[0;36m0\u001b[0m\u001b[0;34m,\u001b[0m \u001b[0mresult\u001b[0m\u001b[0;34m)\u001b[0m\u001b[0;34m]\u001b[0m\u001b[0;34m)\u001b[0m\u001b[0;34m\u001b[0m\u001b[0m\n\u001b[0m\u001b[1;32m    558\u001b[0m         \u001b[0;32melse\u001b[0m\u001b[0;34m:\u001b[0m\u001b[0;34m\u001b[0m\u001b[0m\n\u001b[1;32m    559\u001b[0m             \u001b[0;31m# Legacy OP_INSERT.\u001b[0m\u001b[0;34m\u001b[0m\u001b[0;34m\u001b[0m\u001b[0m\n",
      "\u001b[0;32m~/.pyenv/versions/3.6.1/lib/python3.6/site-packages/pymongo/helpers.py\u001b[0m in \u001b[0;36m_check_write_command_response\u001b[0;34m(results)\u001b[0m\n\u001b[1;32m    312\u001b[0m             \u001b[0merror\u001b[0m\u001b[0;34m[\u001b[0m\u001b[0;34m\"index\"\u001b[0m\u001b[0;34m]\u001b[0m \u001b[0;34m+=\u001b[0m \u001b[0moffset\u001b[0m\u001b[0;34m\u001b[0m\u001b[0m\n\u001b[1;32m    313\u001b[0m             \u001b[0;32mif\u001b[0m \u001b[0merror\u001b[0m\u001b[0;34m.\u001b[0m\u001b[0mget\u001b[0m\u001b[0;34m(\u001b[0m\u001b[0;34m\"code\"\u001b[0m\u001b[0;34m)\u001b[0m \u001b[0;34m==\u001b[0m \u001b[0;36m11000\u001b[0m\u001b[0;34m:\u001b[0m\u001b[0;34m\u001b[0m\u001b[0m\n\u001b[0;32m--> 314\u001b[0;31m                 \u001b[0;32mraise\u001b[0m \u001b[0mDuplicateKeyError\u001b[0m\u001b[0;34m(\u001b[0m\u001b[0merror\u001b[0m\u001b[0;34m.\u001b[0m\u001b[0mget\u001b[0m\u001b[0;34m(\u001b[0m\u001b[0;34m\"errmsg\"\u001b[0m\u001b[0;34m)\u001b[0m\u001b[0;34m,\u001b[0m \u001b[0;36m11000\u001b[0m\u001b[0;34m,\u001b[0m \u001b[0merror\u001b[0m\u001b[0;34m)\u001b[0m\u001b[0;34m\u001b[0m\u001b[0m\n\u001b[0m\u001b[1;32m    315\u001b[0m             \u001b[0;32mraise\u001b[0m \u001b[0mWriteError\u001b[0m\u001b[0;34m(\u001b[0m\u001b[0merror\u001b[0m\u001b[0;34m.\u001b[0m\u001b[0mget\u001b[0m\u001b[0;34m(\u001b[0m\u001b[0;34m\"errmsg\"\u001b[0m\u001b[0;34m)\u001b[0m\u001b[0;34m,\u001b[0m \u001b[0merror\u001b[0m\u001b[0;34m.\u001b[0m\u001b[0mget\u001b[0m\u001b[0;34m(\u001b[0m\u001b[0;34m\"code\"\u001b[0m\u001b[0;34m)\u001b[0m\u001b[0;34m,\u001b[0m \u001b[0merror\u001b[0m\u001b[0;34m)\u001b[0m\u001b[0;34m\u001b[0m\u001b[0m\n\u001b[1;32m    316\u001b[0m         \u001b[0;32melse\u001b[0m\u001b[0;34m:\u001b[0m\u001b[0;34m\u001b[0m\u001b[0m\n",
      "\u001b[0;31mDuplicateKeyError\u001b[0m: E11000 duplicate key error collection: test_database.profiles index: user_id_1 dup key: { : 212 }"
     ]
    }
   ],
   "source": [
    "new_profile = {'user_id': 213, 'name': 'Drew'}\n",
    "\n",
    "duplicate_profile = {'user_id': 212, 'name': 'Tommy'}\n",
    "\n",
    "result = db.profiles.insert_one(new_profile)  # This is fine.\n",
    "result = db.profiles.insert_one(duplicate_profile)\n",
    "# Traceback (most recent call last):\n",
    "# DuplicateKeyError: E11000 duplicate key error index: test_database.profiles.$user_id_1 dup key: { : 212 }"
   ]
  },
  {
   "cell_type": "code",
   "execution_count": 62,
   "metadata": {},
   "outputs": [
    {
     "name": "stdout",
     "output_type": "stream",
     "text": [
      "{'_id': ObjectId('59b65ae431eddd3ede4a928d'), 'user_id': 211, 'name': 'Luke'}\n",
      "{'_id': ObjectId('59b65ae431eddd3ede4a928e'), 'user_id': 212, 'name': 'Ziltoid'}\n",
      "{'_id': ObjectId('59b65b3931eddd3ede4a928f'), 'user_id': 213, 'name': 'Drew'}\n"
     ]
    }
   ],
   "source": [
    "#we won't query anything from collection profiles until we make programming as follows:\n",
    "profile = db.profiles\n",
    "for row in profile.find():\n",
    "    print(row)"
   ]
  },
  {
   "cell_type": "code",
   "execution_count": null,
   "metadata": {
    "collapsed": true
   },
   "outputs": [],
   "source": []
  },
  {
   "cell_type": "markdown",
   "metadata": {
    "collapsed": true
   },
   "source": [
    "# 創建使用DB的權限帳戶----在shell互動模式的設定"
   ]
  },
  {
   "cell_type": "code",
   "execution_count": null,
   "metadata": {
    "collapsed": true
   },
   "outputs": [],
   "source": [
    "參考網址\n",
    "https://medium.com/@adelinewei/mongodb-%E6%AC%8A%E9%99%90%E8%A8%AD%E5%AE%9A-%E4%BD%BF%E7%94%A8-python-%E9%80%A3%E6%8E%A5-2edd1513e19e\n",
    "    \n",
    "https://medium.com/@raj_adroit/mongodb-enable-authentication-enable-access-control-e8a75a26d332"
   ]
  },
  {
   "cell_type": "code",
   "execution_count": null,
   "metadata": {
    "collapsed": true
   },
   "outputs": [],
   "source": [
    "===Step1. 建立一個管理所有帳號的人(在db admin裡創建帳戶)============\n",
    "\n",
    "(1)開啟terminal   mongo--->進入互動模式\n",
    ">>>use admin   \n",
    ">>>db.createUser(\n",
    "                    { user: \"superuser\", pwd: \"yourpwd\", \n",
    "                     roles: [ { role: \"root\", db: \"admin\" } ] }\n",
    "                )\n",
    "\n",
    "(2)修改檔案\n",
    ">>> sudo vim /etc/mongod.conf\n",
    "新增\n",
    "security:\n",
    " authorization: enabled\n",
    "\n",
    "重起mongodb\n",
    ">>>sudo service mongod restart\n",
    "\n",
    "(3)以帳號密碼登入mongo方式\n",
    "-----1\n",
    ">>> mongo -u \"superuser\" -p \"yourpwd\" --authenticationDatabase \"admin\"\n",
    "\n",
    "------2\n",
    ">>> mongo\n",
    ">>> use admin\n",
    ">>> db.auth(\"superuser\", \"yourpwd\")\n",
    "如果回傳 1 的話，即代表登入成功\n",
    "db.auth() ----- 方法，以帳號密碼授權認證取得db的使用權\n",
    "\n",
    "after completing authorization, then we can examine data from DB.\n",
    "\n",
    "====Step2. 在其他db建立一般用戶(read,readWrite)===============\n",
    "更多用戶設定的說明\n",
    "https://docs.mongodb.com/manual/core/security-built-in-roles/\n",
    "https://docs.mongodb.com/manual/tutorial/manage-users-and-roles/\n",
    "    \n",
    "(1)開啟terminal   mongo--->進入互動模式\n",
    ">>>use test(任一個db)   \n",
    ">>>db.createUser(\n",
    "                    { user: \"test\", pwd: \"yourpwd\", \n",
    "                     roles: [ { role: \"read\", db: \"test\" } ] }\n",
    "                                                                )\n",
    "#db.createUser({user:\"test\",pwd:\"1234\",roles:[{role:\"read\",db:\"test\"}]})\n",
    "(2)以帳號密碼登入mongo方式\n",
    "------1\n",
    ">>> mongo -u \"test\" -p \"yourpwd\" --authenticationDatabase \"test\"\n",
    "\n",
    "------2\n",
    ">>> mongo\n",
    ">>> use admin\n",
    ">>> db.auth(\"test\", \"yourpwd\")\n",
    "\n",
    "====Step3.  刪除用戶==============\n",
    ">>> use 'dbname'\n",
    ">>> db.dropUser(\"username\", {w: \"majority\", wtimeout: 5000})\n",
    "                         \"{w:...}  內容固定\"\n",
    "note that: do not drop admin account exactly before droping normal account!! \n",
    "            That would be difficult for u to drop normal one and recreate another new admin account."
   ]
  },
  {
   "cell_type": "markdown",
   "metadata": {},
   "source": [
    "# 如果要連上設有帳戶的DB，只要在連上 mongoDB 的client後加入帳號密碼資料即可"
   ]
  },
  {
   "cell_type": "code",
   "execution_count": null,
   "metadata": {
    "collapsed": true
   },
   "outputs": [],
   "source": [
    "# 導入 Package\n",
    "from pymongo import MongoClient\n",
    "# 連接 mongoDB\n",
    "client = MongoClient(<ip>, <port>)\n",
    "# 驗證身份（如果不要進admin資料庫，那就要換成要進去的db）\n",
    "client.admin.authenticate(<user_name>, <user_pwd>)\n",
    "# 操作資料庫(database)、集合(collection)\n",
    "db = client[<db_name>]\n",
    "collection = db[<collection_name>]"
   ]
  },
  {
   "cell_type": "code",
   "execution_count": 16,
   "metadata": {
    "collapsed": true
   },
   "outputs": [],
   "source": [
    "#練習\n",
    "from pymongo import MongoClient\n",
    "client = MongoClient('localhost', 27017)\n",
    "client.admin.authenticate('Carter','1234')\n",
    "#選擇資料庫'admin'\n",
    "db = client['admin']"
   ]
  },
  {
   "cell_type": "code",
   "execution_count": 17,
   "metadata": {
    "collapsed": true
   },
   "outputs": [],
   "source": [
    "#選擇collection\n",
    "collection = db['system.users']"
   ]
  },
  {
   "cell_type": "code",
   "execution_count": 18,
   "metadata": {},
   "outputs": [
    {
     "data": {
      "text/plain": [
       "{'_id': 'admin.Carter',\n",
       " 'credentials': {'SCRAM-SHA-1': {'iterationCount': 10000,\n",
       "   'salt': 'pe49hgSe3tdMXP525GObPg==',\n",
       "   'serverKey': '2sPA6CYw3r8Zki0FxQ5AOzqiLxU=',\n",
       "   'storedKey': '8JlbSq7JgYiS9+qU/nq+C8WD+C0='}},\n",
       " 'db': 'admin',\n",
       " 'roles': [{'db': 'admin', 'role': 'root'}],\n",
       " 'user': 'Carter'}"
      ]
     },
     "execution_count": 18,
     "metadata": {},
     "output_type": "execute_result"
    }
   ],
   "source": [
    "collection.find_one()"
   ]
  },
  {
   "cell_type": "code",
   "execution_count": 7,
   "metadata": {
    "collapsed": true
   },
   "outputs": [],
   "source": [
    "#練習(請事先創建資料庫'test'，並在其中創立帳戶)\n",
    "from pymongo import MongoClient\n",
    "client = MongoClient('localhost', 27017)\n",
    "client.test.authenticate('test','1234')\n",
    "#選擇資料庫'test'\n",
    "db = client['test']\n"
   ]
  },
  {
   "cell_type": "code",
   "execution_count": 8,
   "metadata": {
    "collapsed": true
   },
   "outputs": [],
   "source": [
    "#選擇collection\n",
    "collection = db['test']"
   ]
  },
  {
   "cell_type": "code",
   "execution_count": 10,
   "metadata": {},
   "outputs": [
    {
     "data": {
      "text/plain": [
       "{'Carter': 'wowo', '_id': ObjectId('59b6499334eb234bad0d4f67')}"
      ]
     },
     "execution_count": 10,
     "metadata": {},
     "output_type": "execute_result"
    }
   ],
   "source": [
    "collection.find_one()"
   ]
  }
 ],
 "metadata": {
  "kernelspec": {
   "display_name": "Python 3",
   "language": "python",
   "name": "python3"
  },
  "language_info": {
   "codemirror_mode": {
    "name": "ipython",
    "version": 3
   },
   "file_extension": ".py",
   "mimetype": "text/x-python",
   "name": "python",
   "nbconvert_exporter": "python",
   "pygments_lexer": "ipython3",
   "version": "3.6.1"
  }
 },
 "nbformat": 4,
 "nbformat_minor": 2
}
