{
 "cells": [
  {
   "cell_type": "code",
   "execution_count": null,
   "metadata": {
    "collapsed": true
   },
   "outputs": [],
   "source": [
    "from datetime import date\n",
    "import time\n",
    "\n",
    "while True:\n",
    "    if str(date.today()) == '2017-09-07':\n",
    "        print('自動化測試成功')\n",
    "        print(time.ctime())\n",
    "        break\n",
    "        "
   ]
  },
  {
   "cell_type": "code",
   "execution_count": 7,
   "metadata": {},
   "outputs": [
    {
     "name": "stdout",
     "output_type": "stream",
     "text": [
      "自動化測試\n",
      "自動化測試\n",
      "自動化測試\n",
      "自動化測試\n",
      "自動化測試\n",
      "自動化測試\n"
     ]
    }
   ],
   "source": [
    "from datetime import date\n",
    "import time\n",
    "\n",
    "while str(date.today()) < '2017-09-07':\n",
    "    print('自動化測試')\n",
    "    time.sleep(3600)"
   ]
  },
  {
   "cell_type": "code",
   "execution_count": 8,
   "metadata": {},
   "outputs": [
    {
     "data": {
      "text/plain": [
       "'Sun Sep 10 22:47:39 2017'"
      ]
     },
     "execution_count": 8,
     "metadata": {},
     "output_type": "execute_result"
    }
   ],
   "source": [
    "import time \n",
    "time.ctime()"
   ]
  },
  {
   "cell_type": "code",
   "execution_count": null,
   "metadata": {
    "collapsed": true
   },
   "outputs": [],
   "source": [
    "from bs4 import BeautifulSoup\n",
    "from splinter import Browser\n",
    "from datetime import date\n",
    "import requests\n",
    "import splinter\n",
    "import json\n",
    "import time\n",
    "\n",
    "\n",
    "while True:\n",
    "    while str(date.today()) > '2017-09-10':\n",
    "        print(time.ctime())\n",
    "        jsonarray = [] \n",
    "\n",
    "        t1 = time.time()\n",
    "        i = 0\n",
    "        while i < 41:\n",
    "            time.sleep(3)\n",
    "            try:\n",
    "                url = 'https://www.google.com.tw/search?q=%E7%A7%9F%E5%B1%8B%E7%B3%BE%E7%B4%9B&tbm=\\\n",
    "                nws&ei=MiaoWafBNsKM8gXVmrKAAQ&start='+str(i)+'&sa=N&biw=1295&bih=565&dpr=1'\n",
    "\n",
    "                browser = splinter.Browser(driver_name='chrome')\n",
    "        #         executable_path = {'executable_path':'/usr/local/bin/phantomjs'}\n",
    "        #         browser = Browser('phantomjs', **executable_path)\n",
    "                browser.visit(url)\n",
    "                browser.wait_time\n",
    "\n",
    "                for w in range(1,11):\n",
    "\n",
    "                    try:\n",
    "                        element = browser.find_by_xpath('//*[@id=\"rso\"]/div[1]/div['+str(w)+']/div/div/h3/a')\n",
    "                        jsonarray.append(element['href'])\n",
    "                        time.sleep(2)\n",
    "                        browser.find_by_xpath('//*[@id=\"hdtb-msb-vis\"]/div[1]/a').click()\n",
    "                        time.sleep(2)\n",
    "                        browser.find_by_xpath('//*[@id=\"hdtb-msb-vis\"]/div[4]/a').mouse_out()\n",
    "                        browser.execute_script('window.scrollTo(0, document.body.scrollHeight);')\n",
    "                        time.sleep(2)\n",
    "\n",
    "                        browser.back()\n",
    "\n",
    "                        browser.find_by_xpath('//*[@id=\"hdtb-msb-vis\"]/div[5]/a').click()\n",
    "                        time.sleep(2)\n",
    "                        browser.find_by_xpath('//*[@id=\"hdtb-msb-vis\"]/div[3]/a').mouse_out()\n",
    "                        browser.execute_script('window.scrollTo(0, document.body.scrollHeight);')\n",
    "                        time.sleep(2)\n",
    "\n",
    "                        browser.back()\n",
    "\n",
    "                        browser.find_by_xpath('//*[@id=\"lst-ib\"]').fill(' ') \n",
    "\n",
    "                        time.sleep(2)\n",
    "                        print(len(jsonarray))\n",
    "                    except:\n",
    "                        print('error    '+str(i))\n",
    "                        pass\n",
    "\n",
    "                browser.quit()\n",
    "                i += 10\n",
    "            except:\n",
    "                print('error    '+str(i))\n",
    "                pass\n",
    "                browser.quit()\n",
    "                i += 10\n",
    "\n",
    "        with open('租屋糾紛googlenews_{0}_{1}筆_0_{2}頁.json'.format(date.today().isoformat(),len(set(jsonarray)),i),'w') as f:\n",
    "            json.dump(sorted(set(jsonarray)),f)\n",
    "\n",
    "        t2 = time.time()\n",
    "        print(t2-t1)\n",
    "        print(time.ctime())\n",
    "        \n",
    "        time.sleep(86400)"
   ]
  }
 ],
 "metadata": {
  "kernelspec": {
   "display_name": "Python 3",
   "language": "python",
   "name": "python3"
  },
  "language_info": {
   "codemirror_mode": {
    "name": "ipython",
    "version": 3
   },
   "file_extension": ".py",
   "mimetype": "text/x-python",
   "name": "python",
   "nbconvert_exporter": "python",
   "pygments_lexer": "ipython3",
   "version": "3.6.1"
  }
 },
 "nbformat": 4,
 "nbformat_minor": 2
}
