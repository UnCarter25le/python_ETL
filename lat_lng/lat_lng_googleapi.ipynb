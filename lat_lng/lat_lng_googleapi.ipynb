{
 "cells": [
  {
   "cell_type": "markdown",
   "metadata": {},
   "source": [
    "# acquire lng and lat by means of google api\n"
   ]
  },
  {
   "cell_type": "code",
   "execution_count": null,
   "metadata": {
    "collapsed": true
   },
   "outputs": [],
   "source": [
    "#google api 轉經緯度，郵遞區號\n",
    "\n",
    "import requests\n",
    "\n",
    "\n",
    "api_url= \"https://maps.googleapis.com/maps/api/geocode/json?address={}&key=\"\n",
    "def get_location(address):\n",
    "    URL=api_url.format(address)\n",
    "    res= requests.get(URL)\n",
    "    location_dict = res.json()\n",
    "    lat = location_dict['results'][0]['geometry']['location']['lat']\n",
    "    lng = location_dict['results'][0]['geometry']['location']['lng']\n",
    "    cityID = location_dict['results'][0]['address_components'][-1]['short_name']\n",
    "    res.close()\n",
    "    return lat,lng,cityID\n",
    "\n",
    "address = '台北市信義區永吉路30巷'      #the first thing u are supposed to giving\n",
    "get_location(address)  #tuple"
   ]
  },
  {
   "cell_type": "code",
   "execution_count": null,
   "metadata": {
    "collapsed": true
   },
   "outputs": [],
   "source": [
    "taipei_postal_code = {'臺北市中正區':100,'臺北市大同區':103,'臺北市中山區':104,'臺北市松山區':105,'臺北市大安區':106,'臺北市萬華區':108,\\\n",
    "                      '臺北市信義區':110,'臺北市士林區':111,'臺北市北投區':112,'臺北市內湖區':114,'臺北市南港區':115,'臺北市文山區':116}\n",
    "\n",
    "taipei_postal_code1 = {'台北市中正區':100,'台北市大同區':103,'台北市中山區':104,'台北市松山區':105,'台北市大安區':106,'台北市萬華區':108,\\\n",
    "                      '台北市信義區':110,'台北市士林區':111,'台北市北投區':112,'台北市內湖區':114,'台北市南港區':115,'台北市文山區':116}\n",
    "\n",
    "newtaipei_postal_code = {'新北市萬里區':207,'新北市金山區':208,'新北市板橋區':220,'新北市汐止區':221,'新北市深坑區':222,\\\n",
    "                         '新北市石碇區':223,'新北市瑞芳區':224,'新北市平溪區':226,'新北市雙溪區':227,'新北市貢寮區':228,\\\n",
    "                         '新北市新店區':231,'新北市坪林區':232,'新北市烏來區':233,'新北市永和區':234,'新北市中和區':235,\\\n",
    "                         '新北市土城區':236,'新北市三峽區':237,'新北市樹林區':238,'新北市鶯歌區':239,'新北市三重區':241,\\\n",
    "                         '新北市新莊區':242,'新北市泰山區':243,'新北市林口區':244,'新北市蘆洲區':247,'新北市五股區':248,\\\n",
    "                         '新北市八里區':249,'新北市淡水區':251,'新北市三芝區':252,'新北市石門區':253}"
   ]
  },
  {
   "cell_type": "code",
   "execution_count": null,
   "metadata": {
    "collapsed": true
   },
   "outputs": [],
   "source": [
    "taipei_postal_code = {'TNUA':112,'CUTE':116,'TCMT':111,'TMUST':114,'USCTP':104,'TPCU':112,'NTCB':100,\\\n",
    "                      'NTUNHS':112,'NTUT':106,'NTNU':106,'NTUST':106,'YM':112,'UTP':100,'PCCU':111,\\\n",
    "                      'TCPA':116,'MCU':111,'NTUE':106,'NCCU':116,'CUST':115,'SLHS':0,'Daan':0,'CCSH':0,\\\n",
    "                      'SAIHS':0,'FHSH':0,'HPSH':0,'DCSH':0,'TFVS':0,'CYHStp':0,'TMU':110}\n",
    "newtaipei_postal_code = {'AU':251,'HWH':235,'MMC':252,'HFU':223,'FJU':242,'NTPU':237,'MMNMC':112,'SJU':251,\\\n",
    "                         'TKU':251,'HWU':244,'NTUA':220,'JUST':231,'CLUT':220,'TNU':222,'OIT':220,\\\n",
    "                         'MCUT':243,'DLIT':236,'CTCN':231,'LITTP':243}"
   ]
  }
 ],
 "metadata": {
  "kernelspec": {
   "display_name": "Python 3",
   "language": "python",
   "name": "python3"
  },
  "language_info": {
   "codemirror_mode": {
    "name": "ipython",
    "version": 3
   },
   "file_extension": ".py",
   "mimetype": "text/x-python",
   "name": "python",
   "nbconvert_exporter": "python",
   "pygments_lexer": "ipython3",
   "version": "3.6.1"
  }
 },
 "nbformat": 4,
 "nbformat_minor": 2
}
