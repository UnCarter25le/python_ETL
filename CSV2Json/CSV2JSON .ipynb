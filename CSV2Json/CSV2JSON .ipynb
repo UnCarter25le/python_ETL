{
 "cells": [
  {
   "cell_type": "markdown",
   "metadata": {},
   "source": [
    "# import os用法----操作資料夾，與資料夾檔案的套件"
   ]
  },
  {
   "cell_type": "code",
   "execution_count": null,
   "metadata": {},
   "outputs": [],
   "source": [
    "!pwd"
   ]
  },
  {
   "cell_type": "code",
   "execution_count": null,
   "metadata": {},
   "outputs": [],
   "source": [
    "\n",
    "import os\n",
    "import json\n",
    "import time\n",
    "\n",
    "st = time.time()\n",
    "path = './CSV_Json/django用/dep_and_tem/temple/data/'\n",
    "savepath = './CSV_Json/django用/dep_and_tem/'\n",
    "filename = 'bigtaipei_temples_complete.json'\n",
    "\n",
    "\n",
    "jsonarray = []\n",
    "for file in os.listdir(path):                      #is going to control single file in the folder\n",
    "    filepath = path + file                          #define every combinition of filename and fileroute\n",
    "    with open(filepath,encoding = 'utf-8') as f:   #open exclusive file\n",
    "        inn = f.read()\n",
    "        trans = json.loads(inn)\n",
    "    jsonarray.append(trans)\n",
    "print(len(jsonarray))\n",
    "\n",
    "with open(savepath+filename,'w')as F:              #define filename and fileroute i am going to save file in\n",
    "    json.dump(jsonarray,F)\n",
    "\n",
    "end = time.time()\n",
    "\n",
    "print(end - st)"
   ]
  },
  {
   "cell_type": "markdown",
   "metadata": {},
   "source": [
    "# 將json檔轉成txt"
   ]
  },
  {
   "cell_type": "code",
   "execution_count": null,
   "metadata": {
    "collapsed": true
   },
   "outputs": [],
   "source": [
    "\n",
    "\n",
    "import json\n",
    "with open('./textmining/法規/崔媽媽租屋法律_complete.json',encoding = 'utf-8') as f:\n",
    "    inn = f.read()\n",
    "    outt = json.loads(inn)\n",
    "with open('sdfsdfsdf.txt','w',encoding = 'utf-8') as F:\n",
    "    F.write(str(outt))\n",
    "    "
   ]
  },
  {
   "cell_type": "markdown",
   "metadata": {},
   "source": [
    "# Json檔轉存CSV"
   ]
  },
  {
   "cell_type": "code",
   "execution_count": null,
   "metadata": {},
   "outputs": [],
   "source": [
    "#單一json object轉csv\n",
    "import json\n",
    "import csv\n",
    "\n",
    "    \n",
    "with open('newTaipeiHospital_1.json') as f:   #read in json file\n",
    "    inn = f.read()                            # string formation\n",
    "    trans = json.loads(inn)                   # json object formation\n",
    "print(trans)                                  #examine content       \n",
    "\n",
    "print(len(trans.keys()))                      #examine keys\n",
    "\n",
    "with open(\"data.csv\", \"w\") as file:           #ready to write json object to csv\n",
    "    csv_file = csv.writer(file)\n",
    "#     for item in trans:\n",
    "    csv_file.writerow(trans)                  #write out json's key\n",
    "    csv_file.writerow(trans.values())         #write out json's value\n",
    "    "
   ]
  },
  {
   "cell_type": "code",
   "execution_count": 1,
   "metadata": {},
   "outputs": [
    {
     "name": "stdout",
     "output_type": "stream",
     "text": [
      "dict_keys(['name', 'address', 'description', 'lat', 'lng', 'cityID'])\n"
     ]
    }
   ],
   "source": [
    "#單一json object轉csv       精通python的解法\n",
    "import json\n",
    "import csv\n",
    "import sys\n",
    "    \n",
    "with open('newTaipeiHospital_1.json') as f:\n",
    "    inn = f.read()\n",
    "    trans = json.loads(inn)\n",
    "print(trans.keys())\n",
    "\n",
    "with open(\"data.csv\", \"w\") as file:\n",
    "    csv_file = csv.DictWriter(file,['name', 'address', 'description', 'lat', 'lng', 'cityID'])   #json object's keys\n",
    "    csv_file.writeheader()                                #write out columns\n",
    "    csv_file.writerow(trans)                              #write out values\n",
    "   "
   ]
  },
  {
   "cell_type": "code",
   "execution_count": null,
   "metadata": {},
   "outputs": [],
   "source": [
    "#jsonarray(multiple json object in one list)轉csv\n",
    "import json\n",
    "import csv\n",
    "\n",
    "    \n",
    "with open('taipeiHospital_Complete.json') as f:\n",
    "    inn = f.read()\n",
    "    trans = json.loads(inn)\n",
    "print(trans[0].keys())\n",
    "\n",
    "\n",
    "with open(\"data.csv\", \"w\") as file:            #ready to save file out\n",
    "    csv_file = csv.writer(file)                 #declare\n",
    "    csv_file.writerow(['name', 'address', 'description', 'lat', 'lng', 'cityID'])  #json object's keys\n",
    "    for item in trans:                         #write out values\n",
    "        csv_file.writerow([item['name'],item['address'],item['description'],item['lat'],\n",
    "                          item['lng'],item['cityID']])\n"
   ]
  },
  {
   "cell_type": "code",
   "execution_count": null,
   "metadata": {
    "collapsed": true
   },
   "outputs": [],
   "source": [
    "#jsonarray轉csv   精通python的解法\n",
    "import json\n",
    "import csv\n",
    "\n",
    "    \n",
    "with open('taipeiHospital_Complete.json') as f:\n",
    "    inn = f.read()\n",
    "    trans = json.loads(inn)\n",
    "\n",
    "with open(\"data.csv\", \"w\") as file:\n",
    "    csv_file = csv.DictWriter(file,['name', 'address', 'description', 'lat', 'lng', 'cityID'])#json object's keys\n",
    "    csv_file.writeheader()     #write out columns\n",
    "    csv_file.writerows(trans)  #write out values"
   ]
  },
  {
   "cell_type": "code",
   "execution_count": null,
   "metadata": {
    "collapsed": true
   },
   "outputs": [],
   "source": [
    "#jsonarray轉csv   value is multiple-value\n",
    "import json\n",
    "import csv\n",
    "\n",
    "aaa = [ \n",
    "{\"pk\": 22, \"model\": \"auth.permission\", \"fields\": \n",
    "  {\"codename\": \"add_logentry\", \"name\": \"Can add log entry\", \"content_type\": 8 } }, \n",
    "{\"pk\": 23, \"model\": \"auth.permission\", \"fields\": \n",
    "  {\"codename\": \"change_logentry\", \"name\": \"Can change log entry\", \"content_type\": 8 } },\n",
    "{\"pk\": 24, \"model\": \"auth.permission\", \"fields\": \n",
    "  {\"codename\": \"delete_logentry\", \"name\": \"Can delete log entry\", \"content_type\": 8 } }\n",
    "]\n",
    "\n",
    "with open('wowowoowowoow.csv','w') as f:\n",
    "    csv_out = csv.DictWriter(f,['pk','model','fields'])#json object's keys\n",
    "    csv_out.writeheader()                              #write out columns\n",
    "    csv_out.writerows(aaa)                             #write out values"
   ]
  },
  {
   "cell_type": "markdown",
   "metadata": {},
   "source": [
    "# acquire lng and lat by means of google api"
   ]
  },
  {
   "cell_type": "code",
   "execution_count": null,
   "metadata": {},
   "outputs": [],
   "source": [
    "#google api 轉經緯度，郵遞區號\n",
    "\n",
    "import requests\n",
    "\n",
    "\n",
    "api_url= \"https://maps.googleapis.com/maps/api/geocode/json?address={}&key=\"\n",
    "def get_location(address):\n",
    "    URL=api_url.format(address)\n",
    "    res= requests.get(URL)\n",
    "    location_dict = res.json()\n",
    "    lat = location_dict['results'][0]['geometry']['location']['lat']\n",
    "    lng = location_dict['results'][0]['geometry']['location']['lng']\n",
    "    cityID = location_dict['results'][0]['address_components'][-1]['short_name']\n",
    "    res.close()\n",
    "    return lat,lng,cityID\n",
    "\n",
    "address = '台北市信義區永吉路30巷'\n",
    "get_location(address)  #tuple"
   ]
  },
  {
   "cell_type": "code",
   "execution_count": null,
   "metadata": {
    "collapsed": true
   },
   "outputs": [],
   "source": [
    "taipei_postal_code = {'臺北市中正區':100,'臺北市大同區':103,'臺北市中山區':104,'臺北市松山區':105,'臺北市大安區':106,'臺北市萬華區':108,\\\n",
    "                      '臺北市信義區':110,'臺北市士林區':111,'臺北市北投區':112,'臺北市內湖區':114,'臺北市南港區':115,'臺北市文山區':116}\n",
    "\n",
    "taipei_postal_code1 = {'台北市中正區':100,'台北市大同區':103,'台北市中山區':104,'台北市松山區':105,'台北市大安區':106,'台北市萬華區':108,\\\n",
    "                      '台北市信義區':110,'台北市士林區':111,'台北市北投區':112,'台北市內湖區':114,'台北市南港區':115,'台北市文山區':116}\n",
    "\n",
    "newtaipei_postal_code = {'新北市萬里區':207,'新北市金山區':208,'新北市板橋區':220,'新北市汐止區':221,'新北市深坑區':222,\\\n",
    "                         '新北市石碇區':223,'新北市瑞芳區':224,'新北市平溪區':226,'新北市雙溪區':227,'新北市貢寮區':228,\\\n",
    "                         '新北市新店區':231,'新北市坪林區':232,'新北市烏來區':233,'新北市永和區':234,'新北市中和區':235,\\\n",
    "                         '新北市土城區':236,'新北市三峽區':237,'新北市樹林區':238,'新北市鶯歌區':239,'新北市三重區':241,\\\n",
    "                         '新北市新莊區':242,'新北市泰山區':243,'新北市林口區':244,'新北市蘆洲區':247,'新北市五股區':248,\\\n",
    "                         '新北市八里區':249,'新北市淡水區':251,'新北市三芝區':252,'新北市石門區':253}"
   ]
  },
  {
   "cell_type": "markdown",
   "metadata": {},
   "source": [
    "# CSV2Json"
   ]
  },
  {
   "cell_type": "code",
   "execution_count": null,
   "metadata": {
    "scrolled": true
   },
   "outputs": [],
   "source": [
    "#台北市藥局\n",
    "\n",
    "import requests\n",
    "import csv\n",
    "import json\n",
    "import time\n",
    "\n",
    "#windows系統編譯的檔案，編碼多大是windows950=cp950，所以windows 下的anaconda的jupyter可以無痛開啟\n",
    "#with open 裡的encoding設定要跟來源檔案一致。\n",
    "#在ubantu裡讀進的csv，在轉成json出去，json的格式就變成utf-8\n",
    "\n",
    "with open('./CSV_Json/臺北市藥局清冊10512.csv',encoding = 'cp950') as f:\n",
    "    inn = csv.DictReader(f)\n",
    "    trans = list(inn)\n",
    "    print(len(trans))\n",
    "\n",
    "t1 = time.time() \n",
    "jsonarray = []\n",
    "for i in range(810):\n",
    "    try:\n",
    "        jsondict = {}\n",
    "        jsondict['name'] = trans[i]['name']\n",
    "        jsondict['address'] = trans[i]['addr']\n",
    "\n",
    "        time.sleep(1)   #ready for collecting lat and lng\n",
    "        api_url= \"https://maps.googleapis.com/maps/api/geocode/json?address={}&key=\"\n",
    "        get_location(jsondict['address'])\n",
    "        time.sleep(2)\n",
    "        jsondict['lat'] = get_location(jsondict['address'])[0]\n",
    "        jsondict['lng'] = get_location(jsondict['address'])[1]\n",
    "        jsondict['cityID'] = get_location(jsondict['address'])[2]\n",
    "\n",
    "        jsonarray.append(jsondict)\n",
    "\n",
    "        print(len(jsonarray)) #to see how many i complete\n",
    "\n",
    "        with open('./CSV_Json/Phar/Taipei/taipeiPhar{}.json'.format(i),'w') as F:  #one jason object, one file\n",
    "            json.dump(jsondict,F)\n",
    "    except:\n",
    "        print('error' +'  '+str(i))\n",
    "            \n",
    "with open('./CSV_Json/Phar/Taipei/taipeiPharComplete_rest.json','w') as D:     #jsonarray file\n",
    "    json.dump(jsonarray,D)\n",
    "t2 = time.time()\n",
    "print(t2-t1)"
   ]
  },
  {
   "cell_type": "code",
   "execution_count": null,
   "metadata": {
    "scrolled": true
   },
   "outputs": [],
   "source": [
    "#整理郵遞區號\n",
    "\n",
    "import re\n",
    "\n",
    "with open('./CSV_Json/Phar/taipeiPharComplete_808.json') as D:\n",
    "    inn = D.read()\n",
    "    trans = json.loads(inn)\n",
    "\n",
    "tool = []\n",
    "for i in range(808):\n",
    "    if re.findall('.....',trans[i]['cityID']) == re.findall('.+',trans[i]['cityID']):\n",
    "        trans[i]['cityID'] =  re.findall('...',trans[i]['cityID'])[0]\n",
    "    else:\n",
    "        print('------')\n",
    "for w in range(808):\n",
    "    print(trans[w]['cityID'])\n",
    "\n",
    "with open('./CSV_Json/Phar/taipeiPharComplete_808_1.json','w') as F:\n",
    "    json.dump(trans,F)\n",
    "   "
   ]
  },
  {
   "cell_type": "code",
   "execution_count": null,
   "metadata": {
    "collapsed": true
   },
   "outputs": [],
   "source": []
  },
  {
   "cell_type": "code",
   "execution_count": null,
   "metadata": {
    "scrolled": true
   },
   "outputs": [],
   "source": [
    "#台北市醫院\n",
    "\n",
    "import requests\n",
    "import csv\n",
    "import json\n",
    "import time\n",
    "import re\n",
    "#windows系統編譯的檔案，編碼多大是windows950=cp950，所以windows 下的anaconda的jupyter可以無痛開啟\n",
    "#with open 裡的encoding設定要跟來源檔案一致。\n",
    "#在ubantu裡讀進的csv，在轉成json出去，json的格式就變成utf-8\n",
    "\n",
    "with open('/home/ubuntu/Documents/Project_f/臺北市公立醫院10607.csv',encoding = 'cp950') as f:\n",
    "    inn = csv.DictReader(f)\n",
    "    trans = list(inn)\n",
    "    print(len(trans))\n",
    "    print(trans[0])\n",
    "#     print(re.findall('\\w+\\區',trans[0]['address'])[0])\n",
    "#     print(trans[1])\n",
    "\n",
    "    \n",
    "t1 = time.time() \n",
    "jsonarray = []\n",
    "for i in range(52):\n",
    "    try:\n",
    "        jsondict = {}\n",
    "        jsondict['name'] = trans[i]['name']\n",
    "        jsondict['address'] = re.findall('\\w+',trans[i]['address'])[0]  #custumize values by regex\n",
    "        jsondict['description'] = trans[i]['phone']\n",
    "\n",
    "        time.sleep(1)\n",
    "        api_url= \"https://maps.googleapis.com/maps/api/geocode/json?address={}&key=\"\n",
    "        get_location(jsondict['address'])\n",
    "        time.sleep(2)\n",
    "        jsondict['lat'] = get_location(jsondict['address'])[0]\n",
    "        jsondict['lng'] = get_location(jsondict['address'])[1]\n",
    "        jsondict['cityID'] = taipei_postal_code[re.findall('\\w+\\區',trans[i]['address'])[0]]#custumize values by regex\n",
    "        time.sleep(1)\n",
    "        jsonarray.append(jsondict)\n",
    "\n",
    "        print(len(jsonarray)) #to see how many i complete\n",
    "\n",
    "        with open('./CSV_Json/Hospital/Taipei/taipeiHospital_{}.json'.format(i),'w') as F:\n",
    "            json.dump(jsondict,F)\n",
    "    except:\n",
    "        print('error' +'  '+str(i))\n",
    "            \n",
    "with open('./CSV_Json/Hospital/Taipei/taipeiHospital_Complete.json','w') as D:\n",
    "    json.dump(jsonarray,D)\n",
    "t2 = time.time()\n",
    "print(t2-t1)\n"
   ]
  },
  {
   "cell_type": "code",
   "execution_count": null,
   "metadata": {
    "scrolled": true
   },
   "outputs": [],
   "source": [
    "#新北市動物醫院。txt的json內容檔，可以無痛用json讀取\n",
    "\n",
    "\n",
    "import requests\n",
    "import csv\n",
    "import json\n",
    "import time\n",
    "\n",
    "\n",
    "with open('/home/ubuntu/Documents/Project_f/新北市動物醫院') as f:\n",
    "    inn = f.read()\n",
    "    trans = json.loads(inn)\n",
    "    print(len(trans))\n",
    "#     print(trans[0])\n",
    "    \n",
    "t1 = time.time() \n",
    "jsonarray = []\n",
    "for i in range(243):\n",
    "    try:\n",
    "        jsondict = {}\n",
    "        jsondict['name'] = trans[i]['name']\n",
    "        jsondict['address'] = '新北市'+trans[i]['address']#custumize values \n",
    "        jsondict['description'] = '02-'+trans[i]['Tel']\n",
    "\n",
    "        time.sleep(2)\n",
    "        api_url= \"https://maps.googleapis.com/maps/api/geocode/json?address={}&key=\"\n",
    "        get_location(jsondict['address'])\n",
    "        time.sleep(2)\n",
    "        jsondict['lat'] = get_location(jsondict['address'])[0]\n",
    "        jsondict['lng'] = get_location(jsondict['address'])[1]\n",
    "        jsondict['cityID'] = get_location(jsondict['address'])[2]\n",
    "        time.sleep(2)\n",
    "        jsonarray.append(jsondict)\n",
    "\n",
    "        print(len(jsonarray)) #to see how many i complete\n",
    "\n",
    "        with open('./CSV_Json/Animal/newTaipei/newTaipeiAnimal{}.json'.format(i),'w') as F:\n",
    "            json.dump(jsondict,F)\n",
    "    except:\n",
    "        print('error' +'  '+str(i))\n",
    "            \n",
    "with open('./CSV_Json/Animal/newTaipei/newTaipeiAnimalComplete_rest.json','w') as D:\n",
    "    json.dump(jsonarray,D)\n",
    "t2 = time.time()\n",
    "print(t2-t1)"
   ]
  },
  {
   "cell_type": "code",
   "execution_count": null,
   "metadata": {
    "collapsed": true
   },
   "outputs": [],
   "source": []
  },
  {
   "cell_type": "code",
   "execution_count": null,
   "metadata": {
    "collapsed": true
   },
   "outputs": [],
   "source": []
  },
  {
   "cell_type": "code",
   "execution_count": null,
   "metadata": {
    "collapsed": true
   },
   "outputs": [],
   "source": [
    "#處理台北住宅竊盜\n",
    "import json\n",
    "jsonarray = []\n",
    "for i in range(1375):\n",
    "    with open('./CSV_Json/django用/台北市住宅竊盜/tpe_burglar_{}'.format(i)) as f:\n",
    "        inn = f.read()\n",
    "        outt = json.loads(inn)\n",
    "        jsonarray.append(outt)\n",
    "\n",
    "with open('./CSV_Json/django用/台北市住宅竊盜/tpe_burglar_complete.json','w')as F:\n",
    "    json.dump(jsonarray,F)\n",
    "    "
   ]
  },
  {
   "cell_type": "code",
   "execution_count": null,
   "metadata": {
    "collapsed": true
   },
   "outputs": [],
   "source": [
    "#找出大安區\n",
    "\n",
    "import json\n",
    "with open('./CSV_Json/django用/台北市住宅竊盜/tpe_burglar_complete.json')as F:\n",
    "    inn = F.read()\n",
    "    outt = json.loads(inn)\n",
    "\n",
    "jsonarray1 = []\n",
    "for i in range(1375):\n",
    "    try:\n",
    "        if outt[i]['cityID'] == '106':\n",
    "    #         print(i)\n",
    "            jsonarray1.append(outt[i])\n",
    "        else:\n",
    "            pass\n",
    "    except:\n",
    "        print('jsondefect'+str(i))\n",
    "print(len(jsonarray1))\n",
    "with open('./CSV_Json/django用/台北市住宅竊盜/tpe_burglar_daan_116.json','w')as f:\n",
    "    json.dump(jsonarray1,f)"
   ]
  },
  {
   "cell_type": "code",
   "execution_count": null,
   "metadata": {
    "collapsed": true
   },
   "outputs": [],
   "source": []
  },
  {
   "cell_type": "code",
   "execution_count": null,
   "metadata": {
    "collapsed": true
   },
   "outputs": [],
   "source": []
  }
 ],
 "metadata": {
  "kernelspec": {
   "display_name": "Python 3",
   "language": "python",
   "name": "python3"
  },
  "language_info": {
   "codemirror_mode": {
    "name": "ipython",
    "version": 3
   },
   "file_extension": ".py",
   "mimetype": "text/x-python",
   "name": "python",
   "nbconvert_exporter": "python",
   "pygments_lexer": "ipython3",
   "version": "3.6.1"
  }
 },
 "nbformat": 4,
 "nbformat_minor": 2
}
