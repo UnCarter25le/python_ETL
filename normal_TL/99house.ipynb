{
 "cells": [
  {
   "cell_type": "markdown",
   "metadata": {},
   "source": [
    "# 幸福久久窩的物件爬取"
   ]
  },
  {
   "cell_type": "code",
   "execution_count": 1,
   "metadata": {
    "scrolled": false
   },
   "outputs": [
    {
     "name": "stdout",
     "output_type": "stream",
     "text": [
      "['http://www.995home.com/newhouse_form.asp?room_num=1175', 'http://www.995home.com/newhouse_form.asp?room_num=1170', 'http://www.995home.com/newhouse_form.asp?room_num=1162', 'http://www.995home.com/newhouse_form.asp?room_num=1135', 'http://www.995home.com/newhouse_form.asp?room_num=1094', 'http://www.995home.com/newhouse_form.asp?room_num=1021', 'http://www.995home.com/newhouse_form.asp?room_num=924', 'http://www.995home.com/newhouse_form.asp?room_num=879', 'http://www.995home.com/newhouse_form.asp?room_num=870', 'http://www.995home.com/newhouse_form.asp?room_num=868', 'http://www.995home.com/newhouse_form.asp?room_num=853', 'http://www.995home.com/newhouse_form.asp?room_num=837', 'http://www.995home.com/newhouse_form.asp?room_num=834', 'http://www.995home.com/newhouse_form.asp?room_num=832', 'http://www.995home.com/newhouse_form.asp?room_num=766', 'http://www.995home.com/newhouse_form.asp?room_num=638', 'http://www.995home.com/newhouse_form.asp?room_num=628', 'http://www.995home.com/newhouse_form.asp?room_num=597', 'http://www.995home.com/newhouse_form.asp?room_num=551', 'http://www.995home.com/newhouse_form.asp?room_num=546', 'http://www.995home.com/newhouse_form.asp?room_num=486', 'http://www.995home.com/newhouse_form.asp?room_num=462', 'http://www.995home.com/newhouse_form.asp?room_num=428', 'http://www.995home.com/newhouse_form.asp?room_num=406', 'http://www.995home.com/newhouse_form.asp?room_num=397', 'http://www.995home.com/newhouse_form.asp?room_num=374', 'http://www.995home.com/newhouse_form.asp?room_num=370', 'http://www.995home.com/newhouse_form.asp?room_num=368', 'http://www.995home.com/newhouse_form.asp?room_num=275', 'http://www.995home.com/newhouse_form.asp?room_num=248', 'http://www.995home.com/newhouse_form.asp?room_num=240', 'http://www.995home.com/newhouse_form.asp?room_num=236', 'http://www.995home.com/newhouse_form.asp?room_num=205', 'http://www.995home.com/newhouse_form.asp?room_num=196', 'http://www.995home.com/newhouse_form.asp?room_num=183', 'http://www.995home.com/newhouse_form.asp?room_num=173', 'http://www.995home.com/newhouse_form.asp?room_num=166', 'http://www.995home.com/newhouse_form.asp?room_num=149', 'http://www.995home.com/newhouse_form.asp?room_num=147', 'http://www.995home.com/newhouse_form.asp?room_num=102', 'http://www.995home.com/newhouse_form.asp?room_num=77', 'http://www.995home.com/newhouse_form.asp?room_num=74', 'http://www.995home.com/newhouse_form.asp?room_num=64', 'http://www.995home.com/newhouse_form.asp?room_num=31', 'http://www.995home.com/newhouse_form.asp?room_num=27']\n",
      "45\n"
     ]
    }
   ],
   "source": [
    "#針對99窩的物件網址下手\n",
    "\n",
    "import requests\n",
    "from bs4 import BeautifulSoup\n",
    "final = []\n",
    "\n",
    "for i in range(1,5):  #跑1~4頁\n",
    "    URL = 'http://www.995home.com/newhouse.asp?page='+str(i)+'&sort='\n",
    "\n",
    "    res = requests.get(URL)\n",
    "    res.encoding = 'utf-8'\n",
    "    soup = BeautifulSoup(res.text,'lxml').select('.newslist > li > a')   #找到連結那一項\n",
    "\n",
    "    a = ['http://www.995home.com/'+roww['href'] for roww in soup]\n",
    "           #它們的官網               串列生成式，roww['href']可以叫出網址\n",
    "    [final.append(row) for row in a]\n",
    "                      #把每個網址加入[]中\n",
    "print(final)\n",
    "print(len(final))\n"
   ]
  },
  {
   "cell_type": "code",
   "execution_count": 3,
   "metadata": {
    "scrolled": true
   },
   "outputs": [
    {
     "data": {
      "text/plain": [
       "45"
      ]
     },
     "execution_count": 3,
     "metadata": {},
     "output_type": "execute_result"
    }
   ],
   "source": [
    "len(final)"
   ]
  },
  {
   "cell_type": "code",
   "execution_count": 5,
   "metadata": {},
   "outputs": [
    {
     "name": "stdout",
     "output_type": "stream",
     "text": [
      "98.35583710670471\n"
     ]
    }
   ],
   "source": [
    "#存檔\n",
    "\n",
    "from bs4 import BeautifulSoup\n",
    "import requests\n",
    "import time\n",
    "import json\n",
    "import re\n",
    "\n",
    "t1 = time.time()  #計時\n",
    "jsonarray = []  #用來做jsonarray用\n",
    "\n",
    "for i in range(len(final)):   #final包的是所有的網址\n",
    "    house = {}  #存json用\n",
    "    \n",
    "    URL = final[i] \n",
    "    res = requests.get(URL)\n",
    "    \n",
    "    time.sleep(1)\n",
    "    house['url'] = URL             #存json file's key-value\n",
    "    house['html'] = res.text\n",
    "    house['update'] = '2017-08-16'\n",
    "    time.sleep(1)\n",
    "    jsonarray.append(house)    #把一個個json檔存進[]裡\n",
    "\n",
    "with open('99house_45.json','w') as f:  #輸出\n",
    "    json.dump(jsonarray,f)\n",
    "\n",
    "t2 = time.time()\n",
    "\n",
    "print(t2-t1)"
   ]
  },
  {
   "cell_type": "markdown",
   "metadata": {},
   "source": [
    "# 清洗"
   ]
  },
  {
   "cell_type": "code",
   "execution_count": 1,
   "metadata": {},
   "outputs": [
    {
     "data": {
      "text/plain": [
       "(25.0433553, 121.5687577, '110')"
      ]
     },
     "execution_count": 1,
     "metadata": {},
     "output_type": "execute_result"
    }
   ],
   "source": [
    "#google api 轉經緯度，郵遞區號\n",
    "\n",
    "import requests\n",
    "\n",
    "\n",
    "api_url= \"https://maps.googleapis.com/maps/api/geocode/json?address={}&key=\"\n",
    "def get_location(address):\n",
    "    URL=api_url.format(address)\n",
    "    res= requests.get(URL)\n",
    "    location_dict = res.json()\n",
    "    lat = location_dict['results'][0]['geometry']['location']['lat']\n",
    "    lng = location_dict['results'][0]['geometry']['location']['lng']\n",
    "    cityID = location_dict['results'][0]['address_components'][-1]['short_name']\n",
    "    res.close()\n",
    "    return lat,lng,cityID\n",
    "\n",
    "address = '台北市信義區永吉路30巷'\n",
    "get_location(address)  #tuple"
   ]
  },
  {
   "cell_type": "code",
   "execution_count": null,
   "metadata": {
    "collapsed": true
   },
   "outputs": [],
   "source": [
    "#預計要爬取的欄位\n",
    "id: INT               物件編號  X        \n",
    "cityID: INT           城市      V\n",
    "url: VARCHAR(100)     物件網址  V\n",
    "title:VARCHAR(100)    物件名稱  (學校名)\n",
    "address:VARCHAR(200)  地址   V\n",
    "pattern:VARCHAR(50)   隔間類型   V\n",
    "floor:INT             物件在的樓層   V\n",
    "stories:INT           總樓層   V\n",
    "label:char(1)         套房或雅房   V\n",
    "rent:INT              租金   V\n",
    "lat:DECIMAL(15,11)    經緯度   X\n",
    "lng:DECIAMAL(15,11)\n",
    "sex:CHAR(1)           性別   V\n",
    "space:DECIMAL(9,2)    坪數          V(但會標0坪)\n",
    "smoke:CHAR(1)         抽煙    V\n",
    "pet:CHAR(1)           寵物   X\n",
    "cook:CHAR(1)          烹飪   X\n",
    "update:date           物件更新時間   V\n",
    "landlord:             房東   V\n",
    "description:          物件描述   V\n",
    "tmp:                  可否短期租賃   x"
   ]
  },
  {
   "cell_type": "code",
   "execution_count": 9,
   "metadata": {
    "scrolled": true
   },
   "outputs": [
    {
     "name": "stdout",
     "output_type": "stream",
     "text": [
      "done_0\n",
      "done_1\n",
      "done_2\n",
      "done_3\n",
      "done_4\n",
      "done_5\n",
      "done_6\n",
      "done_7\n",
      "done_8\n",
      "done_9\n",
      "done_10\n",
      "done_11\n",
      "done_12\n",
      "done_13\n",
      "done_14\n",
      "done_15\n",
      "done_16\n",
      "done_17\n",
      "done_18\n",
      "done_19\n",
      "done_20\n",
      "done_21\n",
      "done_22\n",
      "done_23\n",
      "done_24\n",
      "done_25\n",
      "done_26\n",
      "done_27\n",
      "done_28\n",
      "done_29\n",
      "done_30\n",
      "done_31\n",
      "done_32\n",
      "done_33\n",
      "done_34\n",
      "done_35\n",
      "done_36\n",
      "done_37\n",
      "done_38\n",
      "done_39\n",
      "done_40\n",
      "done_41\n",
      "done_42\n",
      "done_43\n",
      "done_44\n",
      "184.83521914482117\n"
     ]
    }
   ],
   "source": [
    "#清洗存檔\n",
    "\n",
    "from bs4 import BeautifulSoup\n",
    "import requests\n",
    "import time\n",
    "import json\n",
    "import re\n",
    "\n",
    "jsonarray = []\n",
    "with open('99house_json/99house_original_45.json') as f:\n",
    "    read_in = f.read()\n",
    "    json_out = json.loads(read_in)\n",
    "\n",
    "t1 = time.time()\n",
    "\n",
    "\n",
    "def get_location(address):\n",
    "    URL=api_url.format(address)\n",
    "    res= requests.get(URL)\n",
    "    location_dict = res.json()\n",
    "    lat = location_dict['results'][0]['geometry']['location']['lat']\n",
    "    lng = location_dict['results'][0]['geometry']['location']['lng']\n",
    "    cityID = location_dict['results'][0]['address_components'][-1]['short_name']\n",
    "    res.close()\n",
    "    return lat,lng,cityID\n",
    "\n",
    "\n",
    "for i in range(len(json_out)):\n",
    "\n",
    "    soup = BeautifulSoup(json_out[i]['html'],'lxml')\n",
    "    jsondict = {}  #存每個物件的key-value\n",
    "\n",
    "\n",
    "    \n",
    "    jsondict['url'] = json_out[i]['url']\n",
    "    jsondict['update'] = json_out[i]['update']\n",
    "    jsondict['rent'] = re.findall('\\d+',soup.select_one('.housebox').text.replace('\\n',''))[0]\n",
    "\n",
    "    try:\n",
    "        jsondict['title'] = re.findall('.+',soup.select_one('.nes_houseinfo > h2').text)[0]\n",
    "    except:\n",
    "        jsondict['title'] = re.findall('\\:..市.+',soup.select_one('.housebox').text)[0][1:-3]\n",
    "\n",
    "    if re.findall('\\w\\房',soup.select_one('.housebox').text)[0][:1] == '套':\n",
    "        jsondict['label'] = \"套\"\n",
    "    else:\n",
    "        jsondict['label'] = \"套\"\n",
    "\n",
    "    jsondict['address'] = re.findall('\\:..市.+',soup.select_one('.housebox').text)[0][1:-3]\n",
    "\n",
    "    #從googlemap拿經緯度\n",
    "    time.sleep(1)\n",
    "    api_url= \"https://maps.googleapis.com/maps/api/geocode/json?address={}&key=\"\n",
    "    get_location(address = jsondict['address'])  \n",
    "    \n",
    "    \n",
    "    try:\n",
    "        time.sleep(2)\n",
    "        jsondict['cityID'] = get_location(address = jsondict['address'])[2]\n",
    "        jsondict['lng'] = get_location(address = jsondict['address'])[0]\n",
    "        jsondict['lat'] = get_location(address = jsondict['address'])[1]\n",
    "    except:\n",
    "        print(i)\n",
    "        print(json_out[i]['url'])\n",
    "\n",
    "\n",
    "    jsondict['pattern'] = 'NA'\n",
    "    jsondict['floor'] = re.findall('\\d+\\樓',soup.select_one('.houseinfobox').text.replace('\\n',''))[0][:-1]\n",
    "    jsondict['stories'] = 'NA'\n",
    "    jsondict['space'] = re.findall('\\d+\\坪',soup.select_one('.houseinfobox').text.replace('\\n',''))[0][:-1] \n",
    "    jsondict['description'] = re.findall('\\其他補充.+',soup.select_one('.houseinfobox').\\\n",
    "                              text.replace('\\n',''))[0].split('家')[0]\n",
    "    jsondict['landlord'] = re.findall('\\聯絡看屋.+',soup.select_one('.houseinfobox').\\\n",
    "                                      text.replace('\\n',''))[0][5:].replace(' ',',')\n",
    "    jsondict['temp'] = 'N'\n",
    "    jsondict['sex'] = 'A'\n",
    "    jsondict['pet'] = 'N'\n",
    "    jsondict['cook'] = 'N'\n",
    "    jsondict['smoke'] = 'N'\n",
    "\n",
    "    jsonarray.append(jsondict)\n",
    "\n",
    "    with open('./99house_json/99house_{0}.json'.format(i),'w') as D:\n",
    "        json.dump(jsondict,D)\n",
    "    print('done_%d'%i)\n",
    "        \n",
    "        \n",
    "with open('./99house_json/99house_complete_45.json','w') as F:\n",
    "    json.dump(jsonarray,F)\n",
    "    \n",
    "t2 = time.time()\n",
    "print(t2-t1)"
   ]
  },
  {
   "cell_type": "code",
   "execution_count": 10,
   "metadata": {
    "scrolled": true
   },
   "outputs": [
    {
     "name": "stdout",
     "output_type": "stream",
     "text": [
      "套\n",
      "套\n",
      "套\n",
      "套\n",
      "套\n",
      "套\n",
      "套\n",
      "套\n",
      "套\n",
      "套\n",
      "套\n",
      "套\n",
      "套\n",
      "套\n",
      "套\n",
      "套\n",
      "套\n",
      "套\n",
      "套\n",
      "套\n",
      "套\n",
      "套\n",
      "套\n",
      "套\n",
      "套\n",
      "套\n",
      "套\n",
      "套\n",
      "套\n",
      "套\n",
      "套\n",
      "套\n",
      "套\n",
      "套\n",
      "套\n",
      "套\n",
      "套\n",
      "套\n",
      "套\n",
      "套\n",
      "套\n",
      "套\n",
      "套\n",
      "套\n",
      "套\n"
     ]
    }
   ],
   "source": [
    "#check\n",
    "with open('99house_json/99house_complete_45.json') as f:\n",
    "    read_in = f.read()\n",
    "    json_out = json.loads(read_in)\n",
    "\n",
    "for i in range(len(json_out)):\n",
    "    print(json_out[i]['label'])"
   ]
  },
  {
   "cell_type": "code",
   "execution_count": 19,
   "metadata": {},
   "outputs": [
    {
     "name": "stdout",
     "output_type": "stream",
     "text": [
      "租金：13500 元房型:套房地址:台北市信義區永吉路30巷map\n",
      "13500\n"
     ]
    }
   ],
   "source": [
    "#殘酷測試區\n",
    "from bs4 import BeautifulSoup\n",
    "import requests\n",
    "import time\n",
    "import json\n",
    "import re\n",
    "\n",
    "\n",
    "with open('99house_json/99house_original_45.json') as f:\n",
    "    read_in = f.read()\n",
    "    json_out = json.loads(read_in)\n",
    "    \n",
    "    soup = BeautifulSoup(json_out[14]['html'],'lxml')\n",
    "\n",
    "    print(soup.select_one('.housebox').text.replace('\\n',''))\n",
    "    print(re.findall('\\d+',soup.select_one('.housebox').text.replace('\\n',''))[0])"
   ]
  },
  {
   "cell_type": "code",
   "execution_count": 2,
   "metadata": {},
   "outputs": [
    {
     "data": {
      "text/plain": [
       "'http://www.995home.com/newhouse_form.asp?room_num=1135'"
      ]
     },
     "execution_count": 2,
     "metadata": {},
     "output_type": "execute_result"
    }
   ],
   "source": [
    "json_out[3]['url']"
   ]
  }
 ],
 "metadata": {
  "kernelspec": {
   "display_name": "Python 3",
   "language": "python",
   "name": "python3"
  },
  "language_info": {
   "codemirror_mode": {
    "name": "ipython",
    "version": 3
   },
   "file_extension": ".py",
   "mimetype": "text/x-python",
   "name": "python",
   "nbconvert_exporter": "python",
   "pygments_lexer": "ipython3",
   "version": "3.6.1"
  }
 },
 "nbformat": 4,
 "nbformat_minor": 2
}
