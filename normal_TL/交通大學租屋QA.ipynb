{
 "cells": [
  {
   "cell_type": "code",
   "execution_count": null,
   "metadata": {
    "collapsed": true
   },
   "outputs": [],
   "source": [
    "#交通大學住宿組--http://housing.sa.nctu.edu.tw/?page_id=903--有新北市租屋停看聽-租屋懶人包（房東篇及房客篇）影片\n",
    "from bs4 import BeautifulSoup\n",
    "from splinter import Browser\n",
    "import requests\n",
    "import splinter\n",
    "import json\n",
    "import time\n",
    "\n",
    "jsondict = {}\n",
    "\n",
    "url = 'http://housing.sa.nctu.edu.tw/?page_id=903'\n",
    "res = requests.get(url)\n",
    "\n",
    "# jsondict['url'] = url\n",
    "# jsondict['html'] = res.text\n",
    "# jsondict['update'] = '2017-08-17'\n",
    "\n",
    "# with open('commute_college_law.json','w') as f:\n",
    "#     json.dump(jsondict,f)\n",
    "# f.close()\n",
    "\n",
    "\n",
    "soup = BeautifulSoup(res.text,'lxml')\n",
    "soup\n",
    "soup1 = soup.select('.hrf-title') #擷取問題\n",
    "aa = [row.text for row in soup1]\n",
    "print(aa)"
   ]
  },
  {
   "cell_type": "code",
   "execution_count": null,
   "metadata": {
    "collapsed": true
   },
   "outputs": [],
   "source": [
    "soup2 = soup.select('.hrf-content > p')#擷取問題的回答\n",
    "bb = [row.text for row in soup2]\n",
    "# print(bb[0])"
   ]
  },
  {
   "cell_type": "code",
   "execution_count": null,
   "metadata": {
    "collapsed": true
   },
   "outputs": [],
   "source": [
    "import json\n",
    "with open('./textmining/QA/交通大學_QA.json') as f:\n",
    "    inn = f.read()\n",
    "    outt = json.loads(inn)\n",
    "\n",
    "jsondict = {}\n",
    "\n",
    "soup = BeautifulSoup(outt['html'],'lxml')\n",
    "soup1 = soup.select('.hrf-title')           #每個Q\n",
    "soup2 = soup.select('.hrf-content > p')     #內容，排除table的\n",
    "soup3 = soup.select('.hrf-content > table') #table的內容\n",
    "\n",
    "note_list = [row.text for row in soup1] #每個Q\n",
    "note_content = [row.text for row in soup2] #內容，排除table的\n",
    "note_content_table =[row.text.replace('\\n\\n\\n','').replace('\\n','').replace(' ','') for row in soup3] #table的內容\n",
    "note_complete = note_content\n",
    "\n",
    "\n",
    "\n",
    "note_complete.insert(0,note_content_table[0])   #依序在第0,3,4,5,,,插入回應是table標籤包裹的內容\n",
    "note_complete.insert(3,note_content_table[1])\n",
    "note_complete.insert(4,note_content_table[2])\n",
    "note_complete.insert(5,note_content_table[3])\n",
    "note_complete.insert(6,note_content_table[4])\n",
    "note_complete.insert(7,note_content_table[5])\n",
    "note_complete.insert(9,note_content_table[6])\n",
    "note_complete.insert(10,note_content_table[7])\n",
    "note_complete.insert(14,note_content_table[8])\n",
    "note_complete.insert(17,note_content_table[9])\n",
    "note_complete.insert(22,note_content_table[10])\n",
    "note_complete.insert(23,note_content_table[11])\n",
    "note_complete.insert(28,note_content_table[12])\n",
    "note_complete.insert(37,note_content_table[13])\n",
    "note_complete.insert(46,note_content_table[14])\n",
    "note_complete.insert(48,note_content_table[15])\n",
    "\n",
    "\n",
    "len(note_complete)\n",
    "# note_list1[28]\n",
    "\n",
    "QA = [row for row in zip(note_list,note_complete)]  #將Q  &  A  合併 成tuple\n",
    "\n",
    "jsondict['url'] = outt['url']\n",
    "jsondict['update'] = outt['update']\n",
    "\n",
    "#製作json\n",
    "for i in range(49):\n",
    "    jsondict[QA[i][0]] = QA[i][1]\n",
    "\n",
    "with open('交通大學QA.json','w')as F:  #總覽QA的成果\n",
    "    json.dump(jsondict,F)"
   ]
  },
  {
   "cell_type": "code",
   "execution_count": null,
   "metadata": {
    "collapsed": true
   },
   "outputs": [],
   "source": [
    "#繼續清洗交通大學qa\n",
    "with open('交通大學QA.json')as F:\n",
    "    inn = F.read()\n",
    "    outt = json.loads(inn)\n",
    "jsonarray = []\n",
    "jsondict = {}\n",
    "\n",
    "key = list(outt.keys())\n",
    "value = list(outt.values())\n",
    "\n",
    "for i in range(2,50):\n",
    "    jsondict = {}\n",
    "    jsondict['url'] = outt['url']\n",
    "    jsondict['update'] = '2017-09-04'\n",
    "    jsondict['name'] = key[i]\n",
    "    jsondict['content'] = value[i]\n",
    "    jsonarray.append(jsondict)\n",
    "    \n",
    "with open('交通大學QA_complete.json','w')as F: \n",
    "    json.dump(jsonarray,F)"
   ]
  }
 ],
 "metadata": {
  "kernelspec": {
   "display_name": "Python 3",
   "language": "python",
   "name": "python3"
  },
  "language_info": {
   "codemirror_mode": {
    "name": "ipython",
    "version": 3
   },
   "file_extension": ".py",
   "mimetype": "text/x-python",
   "name": "python",
   "nbconvert_exporter": "python",
   "pygments_lexer": "ipython3",
   "version": "3.6.1"
  }
 },
 "nbformat": 4,
 "nbformat_minor": 2
}
