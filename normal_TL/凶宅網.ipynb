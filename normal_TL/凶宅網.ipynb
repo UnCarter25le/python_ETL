{
 "cells": [
  {
   "cell_type": "markdown",
   "metadata": {},
   "source": [
    "# 舊版的網頁，可以直接擷取連結。。。。。"
   ]
  },
  {
   "cell_type": "code",
   "execution_count": null,
   "metadata": {
    "collapsed": true
   },
   "outputs": [],
   "source": [
    "#練習list裡的element在分類成list\n",
    "a = [1,2,3,4,5,6,7,8,9,10,11,12]\n",
    "for i in range(0,12,2):\n",
    "    w=2\n",
    "    w += i\n",
    "    print(i,w)\n",
    "    print(a[i:w])"
   ]
  },
  {
   "cell_type": "code",
   "execution_count": null,
   "metadata": {
    "collapsed": true
   },
   "outputs": [],
   "source": [
    "#凶宅網  有評論  可以依區來統計\n",
    "# https://unluckyhouse.com/forumdisplay.php?f=6  台北\n",
    "# https://unluckyhouse.com/forumdisplay.php?f=8   新北\n",
    "\n",
    "# 抓台北市的\n",
    "from bs4 import BeautifulSoup\n",
    "from datetime import date\n",
    "import requests\n",
    "import time\n",
    "import json\n",
    "\n",
    "t1 = time.time()\n",
    "jsonarray = []\n",
    "for i in range(1,21):\n",
    "    time.sleep(2)\n",
    "    url = 'https://unluckyhouse.com/forumdisplay.php?f=6&order=desc&page='+str(i)\n",
    "    res = requests.get(url)\n",
    "    res.encoding = 'utf-8'\n",
    "    soup = BeautifulSoup(res.text,'lxml').select('td > div > a')\n",
    "\n",
    "\n",
    "    time.sleep(2)\n",
    "    #每一頁有20個物件，每一個物件平均會有4個連結，我只要前面2個\n",
    "    for w in range(0,80,4):\n",
    "        q = 2\n",
    "        q += w\n",
    "        jsonarray.append(['https://unluckyhouse.com/'+link.attrs['href'] \\\n",
    "                      for link in soup if 'href' in link.attrs][w:q])\n",
    "    #抓完整網址，可以查看那一頁有問題\n",
    "#     jsonarray.append(['https://unluckyhouse.com/'+link.attrs['href'] \\\n",
    "#                       for link in soup if 'href' in link.attrs])\n",
    "\n",
    "    print(len(jsonarray))     \n",
    "\n",
    "with open('凶宅網台北url_{0}_page1-{1}_{2}筆.json'.format(date.today(),i,len(jsonarray)),'w') as f:\n",
    "    json.dump(jsonarray,f)\n",
    "t2 =time.time()\n",
    "print(t2-t1)"
   ]
  },
  {
   "cell_type": "code",
   "execution_count": null,
   "metadata": {
    "collapsed": true
   },
   "outputs": [],
   "source": [
    "#若是採存取完整連結（4個連結為一組）的清洗參考\n",
    "\n",
    "aa = []\n",
    "for w in range(0,76,4):\n",
    "    e = 1\n",
    "    e += w\n",
    "    aa.append(outt[0][w])\n",
    "    aa.append(outt[0][e])\n",
    "print(len(aa))"
   ]
  },
  {
   "cell_type": "code",
   "execution_count": null,
   "metadata": {
    "collapsed": true
   },
   "outputs": [],
   "source": [
    "#洗資料台北第14頁\n",
    "import json\n",
    "\n",
    "\n",
    "tool = []\n",
    "tool2 = []\n",
    "with open('凶宅網台北url_2017-08-31_page14-14_1頁.json')as f:\n",
    "    inn = f.read()\n",
    "    outt = json.loads(inn)\n",
    "# for i in range(80):\n",
    "#     print(outt[0][3])\n",
    "\n",
    "# outt[0].index('https://unluckyhouse.com/showthread.php?s=3dc687a9a3e5b36b0caae9c98e3c8eb4&t=4108')\n",
    "#     32~34 異常值在32～34\n",
    "for i in range(3):\n",
    "    del outt[0][32]\n",
    "\n",
    "#四連結只要前兩個\n",
    "for w in range(0,76,4):\n",
    "    q = 1\n",
    "    q += w\n",
    "    tool.append(outt[0][w])\n",
    "    tool.append(outt[0][q])\n",
    "#將list裡的element再list\n",
    "for r in range(0,38,2):\n",
    "    z = 2\n",
    "    z += r\n",
    "    tool2.append(tool[r:z])\n",
    "    \n",
    "with open('凶宅網台北url_2017-08-31_page14-14_1頁(清洗完成19筆).json','w')as F:\n",
    "    json.dump(tool2,F)"
   ]
  },
  {
   "cell_type": "code",
   "execution_count": null,
   "metadata": {
    "collapsed": true
   },
   "outputs": [],
   "source": [
    "#台北沒有區號的\n",
    "https://unluckyhouse.com/showthread.php?t=2175\n",
    "    https://unluckyhouse.com/showthread.php?t=4108"
   ]
  },
  {
   "cell_type": "code",
   "execution_count": null,
   "metadata": {
    "collapsed": true
   },
   "outputs": [],
   "source": [
    "#凶宅網  有評論  可以依區來統計\n",
    "# https://unluckyhouse.com/forumdisplay.php?f=6  台北\n",
    "# https://unluckyhouse.com/forumdisplay.php?f=8   新北\n",
    "\n",
    "\n",
    "# 抓新北市的\n",
    "from bs4 import BeautifulSoup\n",
    "from datetime import date\n",
    "import requests\n",
    "import time\n",
    "import json\n",
    "\n",
    "t1 = time.time()\n",
    "jsonarray = []\n",
    "for i in range(1,41):\n",
    "    time.sleep(2)\n",
    "    url = 'https://unluckyhouse.com/forumdisplay.php?f=8&order=desc&page='+str(i)\n",
    "    res = requests.get(url)\n",
    "    res.encoding = 'utf-8'\n",
    "    soup = BeautifulSoup(res.text,'lxml').select('td > div > a')\n",
    "\n",
    "# soup\n",
    "    time.sleep(2)\n",
    "    #每一頁有20個物件，每一個物件平均會有4個連結，我只要前面2個\n",
    "#     for w in range(0,80,4):\n",
    "#         q = 2\n",
    "#         q += w\n",
    "#         jsonarray.append(['https://unluckyhouse.com/'+link.attrs['href'] \\\n",
    "#                       for link in soup if 'href' in link.attrs][w:q])\n",
    "\n",
    "#抓完整網址，可以查看那一頁有問題\n",
    "    jsonarray.append(['https://unluckyhouse.com/'+link.attrs['href'] \\\n",
    "                      for link in soup if 'href' in link.attrs])\n",
    "\n",
    "    print(len(jsonarray))     \n",
    "\n",
    "with open('凶宅網新北市url_{0}_page1-{1}_{2}筆_overview.json'.format(date.today(),i,len(jsonarray)),'w') as f:\n",
    "    json.dump(jsonarray,f)\n",
    "t2 =time.time()\n",
    "print(t2-t1)"
   ]
  },
  {
   "cell_type": "code",
   "execution_count": null,
   "metadata": {
    "collapsed": true
   },
   "outputs": [],
   "source": [
    "#檢視檔案哪裡出錯，搭配網頁來看（用大檔來刪除異常職）\n",
    "\n",
    "with open('凶宅網新北市url_2017-08-31_page1-40_40筆_overview.json') as f:\n",
    "    inn = f.read()\n",
    "    outt = json.loads(inn)\n",
    "# for w in range(40):\n",
    "#     for q in range(0,80,4):\n",
    "\n",
    "#         print(outt[w][q])\n",
    "#     print('==================以上==================='+str(w))\n",
    "    \n",
    "#異常值第10(索引9)頁的第四項https://unluckyhouse.com/showthread.php?t=8207\n",
    "#第14(索引13)頁第三項https://unluckyhouse.com/showthread.php?t=6686\n",
    "\n",
    "#第29頁(索引28)第六項https://unluckyhouse.com/showthread.php?t=4143\n",
    "                #第9項https://unluckyhouse.com/showthread.php?s=f5ee4370fafad15b5bfb81f5160b01e3&t=4133\n",
    "                #第11項https://unluckyhouse.com/showthread.php?t=4071\n",
    "#第30頁(索引29)第1項https://unluckyhouse.com/showthread.php?t=3780\n",
    "#第33頁(索引32)第5項https://unluckyhouse.com/showthread.php?t=679\n",
    "                #第10項https://unluckyhouse.com/showthread.php?t=808\n",
    "#第34頁(索引33)第3項https://unluckyhouse.com/showthread.php?t=3317\n",
    "                #第11項https://unluckyhouse.com/showthread.php?t=2966\n",
    "  #第37頁(索引36)第11項https://unluckyhouse.com/showthread.php?t=2170\n",
    "\n",
    "\n",
    "#要刪的的項次\n",
    "outt[9][12:16]#12\n",
    "# outt[13][8:12]#5\n",
    "\n",
    "# outt[28][20:24]#20\n",
    "# outt[28][31:35]#28\n",
    "# outt[28][38:42]#32\n",
    "\n",
    "# outt[29][0:4]#0\n",
    "\n",
    "# outt[32][16:20]#16\n",
    "# outt[32][35:39]#32\n",
    "\n",
    "# outt[33][8:12]#8\n",
    "# outt[33][39:43]#36\n",
    "\n",
    "# outt[36][40:44]#40"
   ]
  },
  {
   "cell_type": "code",
   "execution_count": null,
   "metadata": {
    "collapsed": true
   },
   "outputs": [],
   "source": [
    "with open('凶宅網新北市url_2017-08-31_page1-40_40筆_overview.json') as f:\n",
    "    inn = f.read()\n",
    "    outt = json.loads(inn)\n",
    "for i in range(3):\n",
    "    del outt[9][12]\n",
    "for i in range(3):\n",
    "    del outt[13][5]\n",
    "    \n",
    "for i in range(3):\n",
    "    del outt[28][20]\n",
    "for i in range(3):\n",
    "    del outt[28][28]\n",
    "for i in range(3):\n",
    "    del outt[28][32]\n",
    "    \n",
    "for i in range(3):\n",
    "    del outt[29][0]\n",
    "    \n",
    "for i in range(3):\n",
    "    del outt[32][16]\n",
    "for i in range(3):\n",
    "    del outt[32][32]\n",
    "    \n",
    "for i in range(3):\n",
    "    del outt[33][8]\n",
    "for i in range(3):\n",
    "    del outt[33][36]\n",
    "    \n",
    "for i in range(3):\n",
    "    del outt[36][40]\n",
    "\n",
    "with open('凶宅網新北市url_2017-08-31_page1-40_40筆_overview_清洗完成.json','w') as F:\n",
    "    json.dump(outt,F)"
   ]
  },
  {
   "cell_type": "code",
   "execution_count": null,
   "metadata": {
    "collapsed": true
   },
   "outputs": [],
   "source": [
    "#檢視檔案\n",
    "\n",
    "tool = []\n",
    "tool2 = []\n",
    "with open('凶宅網新北市url_2017-08-31_page1-40_40筆_overview_清洗完成.json') as f:\n",
    "    inn = f.read()\n",
    "    outt = json.loads(inn)\n",
    " # #四連結只要前兩個   \n",
    "for w in range(40):\n",
    "    try:\n",
    "        for q in range(0,80,4):\n",
    "            y = 1\n",
    "            y += q\n",
    "            tool.append(outt[w][q])\n",
    "            tool.append(outt[w][y])\n",
    "    except:\n",
    "        print(str(w)+'    '+str(q))\n",
    "        print('==================')\n",
    "        pass\n",
    "\n",
    "# print(len(tool))\n",
    "#將list裡的element再list\n",
    "\n",
    "try:\n",
    "    for r in range(0,len(tool),2):\n",
    "        z = 2\n",
    "        z += r\n",
    "        tool2.append(tool[r:z])\n",
    "except:\n",
    "    print(str(w)+'    '+str(r)) #有些頁的項目不足20項\n",
    "    pass\n",
    "with open('wowowowowow.json','w') as F:\n",
    "    json.dump(tool2,F)"
   ]
  },
  {
   "cell_type": "code",
   "execution_count": null,
   "metadata": {
    "collapsed": true
   },
   "outputs": [],
   "source": [
    "print(len(tool2))"
   ]
  }
 ],
 "metadata": {
  "kernelspec": {
   "display_name": "Python 3",
   "language": "python",
   "name": "python3"
  },
  "language_info": {
   "codemirror_mode": {
    "name": "ipython",
    "version": 3
   },
   "file_extension": ".py",
   "mimetype": "text/x-python",
   "name": "python",
   "nbconvert_exporter": "python",
   "pygments_lexer": "ipython3",
   "version": "3.6.1"
  }
 },
 "nbformat": 4,
 "nbformat_minor": 2
}
