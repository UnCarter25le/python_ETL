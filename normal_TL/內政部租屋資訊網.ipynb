{
 "cells": [
  {
   "cell_type": "code",
   "execution_count": null,
   "metadata": {
    "collapsed": true
   },
   "outputs": [],
   "source": [
    "http://houserent.cpami.gov.tw/docList.aspx?id=278"
   ]
  },
  {
   "cell_type": "code",
   "execution_count": 1,
   "metadata": {},
   "outputs": [
    {
     "name": "stdout",
     "output_type": "stream",
     "text": [
      "[1, 2, 4, 5, 7, 9, 10, 11, 12]\n"
     ]
    }
   ],
   "source": [
    "#一次刪除多筆list的元素\n",
    "a = [1,2,3,4,5,6,7,8,9,10,11,12]#要刪除3,6,8\n",
    "b = [2,5,7]#3,6,8的索引數\n",
    "w=0\n",
    "for i in b:   \n",
    "    i -= w \n",
    "    del a[i]\n",
    "    w += 1\n",
    "print(a)"
   ]
  },
  {
   "cell_type": "code",
   "execution_count": null,
   "metadata": {
    "collapsed": true
   },
   "outputs": [],
   "source": [
    "#租賃糾紛案例分析\n",
    "\n",
    "#抓租賃法規\n",
    "\n",
    "from bs4 import BeautifulSoup\n",
    "from splinter import Browser\n",
    "import requests\n",
    "import splinter\n",
    "import json\n",
    "import time\n",
    "\n",
    "url = \"http://houserent.cpami.gov.tw/newsDetail.aspx?func_id=290&doc_id=92\"\n",
    "res = requests.get(url)\n",
    "res.encoding = 'utf-8'\n",
    "soup =BeautifulSoup(res.text,'lxml').select('h4') #標題\n",
    "soup1 =BeautifulSoup(res.text,'lxml').select('div > p')#內文\n",
    "\n",
    "#每個標題的分類\n",
    "# soup1[2]\n",
    "# soup1[6]\n",
    "# soup1[11]\n",
    "# soup1[16]\n",
    "# soup1[25]\n",
    "# soup1[32]\n",
    "# soup1[41]\n",
    "# soup1[45]\n",
    "# soup1[52]\n",
    "# soup1[59]\n",
    "# soup1[64]\n",
    "# soup1[72]\n",
    "# soup1[81]\n",
    "# soup1[90]\n",
    "# soup1[96]\n",
    "# #將分類自成一個list\n",
    "genre0 = [soup1[2],soup1[6],soup1[11],soup1[16],soup1[25],soup1[32],soup1[41],soup1[45],soup1[52],soup1[59],\\\n",
    "          soup1[64],soup1[72],soup1[81],soup1[90],soup1[96]]\n",
    "genre1 = [row.text.replace(',\\xa0,','').replace(' ','').replace('\\r\\n','').replace('\\xa0','').\\\n",
    "        replace('\\n\\n','').replace('\\n','').replace(',参考法條',',參考法條')for row in genre0]\n",
    "\n",
    "# #將分類自內文清除\n",
    "q = 0\n",
    "for z in [2,6,11,16,25,32,41,45,52,59,64,72,81,90,96]:\n",
    "    z -= q\n",
    "    del soup1[z]\n",
    "    q += 1\n",
    "\n",
    "\n",
    "\n",
    "#清洗標題\n",
    "ccc = [row.text for row in soup]\n",
    "ddd = ccc[13]+ccc[14]\n",
    "del ccc[13]\n",
    "del ccc[13]\n",
    "ccc.insert(13,ddd)\n",
    "\n",
    "#清洗內文\n",
    "\n",
    "aaa = ','.join([row.text for row in soup1][2:-1])\n",
    "bbb = aaa.replace(',\\xa0,','').replace(' ','').replace('\\r\\n','').replace('\\xa0','').\\\n",
    "        replace('\\n\\n','').replace('\\n','').replace(',参考法條',',參考法條')\n",
    "\n",
    "content = bbb.split(',參考法條')[:-1]\n",
    "\n",
    "print(len(content))\n",
    "print(len(ccc))\n",
    "\n",
    "jsonarray = []\n",
    "for i in range(1,16):\n",
    "    jsondict = {}\n",
    "    w = i - 1\n",
    "    jsondict['url'] = 'http://houserent.cpami.gov.tw/newsDetail.aspx?func_id=290&doc_id=92#D'+str(i)\n",
    "    jsondict['update'] = '2017-09-02'\n",
    "    jsondict['name'] = ccc[w]\n",
    "    jsondict['genre'] = genre1[w]\n",
    "    jsondict['content'] = content[w]\n",
    "\n",
    "    jsonarray.append(jsondict)\n",
    "with open('內政部營建數租屋Q&A.json','w') as f:\n",
    "    json.dump(jsonarray,f)\n",
    "f.close()\n"
   ]
  },
  {
   "cell_type": "code",
   "execution_count": null,
   "metadata": {
    "collapsed": true
   },
   "outputs": [],
   "source": [
    "#洗成總攬面貌\n",
    "\n",
    "with open('./textmining/QA/內政部營建數租屋QA_complete2.json') as f:\n",
    "    inn = f.read()\n",
    "    outt = json.loads(inn)\n",
    "\n",
    "jsondict = {}\n",
    "\n",
    "jsondict['url'] = outt[0]['url']\n",
    "jsondict['update'] = outt[0]['update']\n",
    "for i in range(15):\n",
    "    jsondict[outt[i]['name']] = outt[i]['content']\n",
    "    \n",
    "with open('內政部營建數租屋QA.json','w') as F:\n",
    "    json.dump(jsondict,F)"
   ]
  },
  {
   "cell_type": "code",
   "execution_count": null,
   "metadata": {
    "collapsed": true
   },
   "outputs": [],
   "source": [
    "with open('./textmining/QA/內政部營建數租屋QA_complete2.json') as f:\n",
    "    inn = f.read()\n",
    "    outt = json.loads(inn)\n",
    "\n",
    "jsondict = {}\n",
    "\n",
    "\n",
    "for i in range(15):\n",
    "    jsondict['url'+str(i)] = outt[i]['url']\n",
    "    jsondict['update'] = outt[0]['update']\n",
    "    jsondict[outt[i]['name']] = outt[i]['content']\n",
    "    \n",
    "with open('內政部營建數租屋QA.json','w') as F:\n",
    "    json.dump(jsondict,F)"
   ]
  }
 ],
 "metadata": {
  "kernelspec": {
   "display_name": "Python 3",
   "language": "python",
   "name": "python3"
  },
  "language_info": {
   "codemirror_mode": {
    "name": "ipython",
    "version": 3
   },
   "file_extension": ".py",
   "mimetype": "text/x-python",
   "name": "python",
   "nbconvert_exporter": "python",
   "pygments_lexer": "ipython3",
   "version": "3.6.1"
  }
 },
 "nbformat": 4,
 "nbformat_minor": 2
}
