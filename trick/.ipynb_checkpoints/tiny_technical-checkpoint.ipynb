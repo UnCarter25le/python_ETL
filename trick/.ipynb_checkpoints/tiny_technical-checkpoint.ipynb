{
 "cells": [
  {
   "cell_type": "markdown",
   "metadata": {},
   "source": [
    "# 爬取多頁，每頁的連結數一致的迴圈邏輯。"
   ]
  },
  {
   "cell_type": "code",
   "execution_count": 2,
   "metadata": {},
   "outputs": [
    {
     "name": "stdout",
     "output_type": "stream",
     "text": [
      "0\n",
      "1\n",
      "====\n",
      "0\n",
      "1\n",
      "====\n",
      "0\n",
      "1\n",
      "====\n",
      "0\n",
      "1\n",
      "====\n"
     ]
    }
   ],
   "source": [
    "w = 0\n",
    "while w < 4:\n",
    "    for i in range(2):\n",
    "        print(i)\n",
    "       \n",
    "    w += 1 \n",
    "    print('====')"
   ]
  },
  {
   "cell_type": "markdown",
   "metadata": {},
   "source": [
    "# 練習list裡的element在分類成list"
   ]
  },
  {
   "cell_type": "code",
   "execution_count": 1,
   "metadata": {},
   "outputs": [
    {
     "name": "stdout",
     "output_type": "stream",
     "text": [
      "0 2\n",
      "[1, 2]\n",
      "2 4\n",
      "[3, 4]\n",
      "4 6\n",
      "[5, 6]\n",
      "6 8\n",
      "[7, 8]\n",
      "8 10\n",
      "[9, 10]\n",
      "10 12\n",
      "[11, 12]\n"
     ]
    }
   ],
   "source": [
    "#練習list裡的element在分類成list\n",
    "a = [1,2,3,4,5,6,7,8,9,10,11,12]\n",
    "for i in range(0,12,2):\n",
    "    w=2\n",
    "    w += i\n",
    "    print(i,w)\n",
    "    print(a[i:w])\n"
   ]
  },
  {
   "cell_type": "markdown",
   "metadata": {},
   "source": [
    "# 一次刪除多筆list的元素"
   ]
  },
  {
   "cell_type": "code",
   "execution_count": null,
   "metadata": {
    "collapsed": true
   },
   "outputs": [],
   "source": [
    "#一次刪除多筆list的元素\n",
    "a = [1,2,3,4,5,6,7,8,9,10,11,12]#要刪除3,6,8\n",
    "b = [2,5,7]#3,6,8的索引數\n",
    "w=0\n",
    "for i in b:   \n",
    "    i -= w \n",
    "    del a[i]\n",
    "    w += 1\n",
    "print(a)"
   ]
  },
  {
   "cell_type": "markdown",
   "metadata": {},
   "source": [
    "# headers 轉 dict "
   ]
  },
  {
   "cell_type": "code",
   "execution_count": null,
   "metadata": {},
   "outputs": [],
   "source": [
    "def str2dict(data_str):\n",
    "    data = {}\n",
    "    for row in data_str.split(\"\\n\"):\n",
    "        kv_list = row.split(\":\")\n",
    "        data[kn_list[0]] = kv_list[1]\n",
    "    return data\n",
    "\n",
    "form_data = str2dict(\"\"\"method:search\n",
    "searchMethod:true\n",
    "searchTarget:ATM\n",
    "orgName:\n",
    "orgId:\n",
    "hid_1:1\n",
    "tenderName:\n",
    "tenderId:\n",
    "tenderStatus:4,5,21,29\n",
    "tenderWay:\n",
    "awardAnnounceStartDate:106/07/06\n",
    "awardAnnounceEndDate:106/07/06\n",
    "proctrgCate:1\n",
    "radProctrgCate:1\n",
    "tenderRange:\n",
    "minBudget:\n",
    "maxBudget:\n",
    "item:\n",
    "hid_2:1\n",
    "gottenVendorName:\n",
    "gottenVendorId:\n",
    "hid_3:1\n",
    "submitVendorName:\n",
    "submitVendorId:\n",
    "location:\n",
    "execLocationArea:\n",
    "priorityCate:\n",
    "isReConstruct:\n",
    "btnQuery:查詢\"\"\")\n",
    "form_data"
   ]
  },
  {
   "cell_type": "markdown",
   "metadata": {},
   "source": [
    "# turn big json object (string type) into json"
   ]
  },
  {
   "cell_type": "code",
   "execution_count": null,
   "metadata": {},
   "outputs": [],
   "source": [
    "json.loads(\"\"\"{\n",
    "  \"folder_sharing_policy_type\": {\n",
    "    \".tag\": \"invite_only\"\n",
    "  },\n",
    "  \"folders\": [\n",
    "    {\n",
    "      \"id\": \"e.iX7ZavGxujPFwhjOZcQrb6zXmZURA1Nt955QQtJLGXFC83U3FN\",\n",
    "      \"name\": \"小宇宙就是中醫中醫就是小宇宙\"\n",
    "    },\n",
    "    {\n",
    "      \"id\": \"e.iX7ZavGxujPFwhjOZcQrb6AxtnLpUsss9hLEYlUjOZoYELtoDd\",\n",
    "      \"name\": \"文件\"\n",
    "    },\n",
    "    {\n",
    "      \"id\": \"e.iX7ZavGxujPFwhjOZcQrkj5m3vkUjSJG0Q9iQEMeYQr1G18Z4O\",\n",
    "      \"name\": \"技術訓練文件\"\n",
    "    },\n",
    "    {\n",
    "      \"id\": \"e.iX7ZavGxujPFwhjOZcQrkgApZv5hP2ycLIhYDt5h02HnsOXjCr\",\n",
    "      \"name\": \"Backend\"\n",
    "    },\n",
    "    {\n",
    "      \"id\": \"e.iX7ZavGxujPFwhjOZcQrvjkVeYb8bQqcn7jcmFFU36p34MtLHG\",\n",
    "      \"name\": \"Scala受訓計畫\"\n",
    "    }\n",
    "  ]\n",
    "}\"\"\")"
   ]
  },
  {
   "cell_type": "code",
   "execution_count": 2,
   "metadata": {},
   "outputs": [
    {
     "name": "stdout",
     "output_type": "stream",
     "text": [
      "{\"folder_sharing_policy_type\": {\".tag\": \"invite_only\"}, \"folders\": [{\"id\": \"e.iX7ZavGxujPFwhjOZcQrb6zXmZURA1Nt955QQtJLGXFC83U3FN\", \"name\": \"\\u5c0f\\u5b87\\u5b99\\u5c31\\u662f\\u4e2d\\u91ab\\u4e2d\\u91ab\\u5c31\\u662f\\u5c0f\\u5b87\\u5b99\"}, {\"id\": \"e.iX7ZavGxujPFwhjOZcQrb6AxtnLpUsss9hLEYlUjOZoYELtoDd\", \"name\": \"\\u6587\\u4ef6\"}, {\"id\": \"e.iX7ZavGxujPFwhjOZcQrkj5m3vkUjSJG0Q9iQEMeYQr1G18Z4O\", \"name\": \"\\u6280\\u8853\\u8a13\\u7df4\\u6587\\u4ef6\"}, {\"id\": \"e.iX7ZavGxujPFwhjOZcQrkgApZv5hP2ycLIhYDt5h02HnsOXjCr\", \"name\": \"Backend\"}, {\"id\": \"e.iX7ZavGxujPFwhjOZcQrvjkVeYb8bQqcn7jcmFFU36p34MtLHG\", \"name\": \"Scala\\u53d7\\u8a13\\u8a08\\u756b\"}]}\n",
      "==========\n",
      "小宇宙就是中醫中醫就是小宇宙\n",
      "文件\n",
      "技術訓練文件\n",
      "Backend\n",
      "Scala受訓計畫\n"
     ]
    }
   ],
   "source": [
    "import requests\n",
    "import json\n",
    "\n",
    "url = \"https://api.dropboxapi.com/2/paper/docs/get_folder_info\"\n",
    "\n",
    "headers = {\n",
    "    \"Authorization\": \"Bearer ===please get token by dropbox api====\",\n",
    "    \"Content-Type\": \"application/json\"\n",
    "}\n",
    "\n",
    "data = {\n",
    "    \"doc_id\": \"===dropbox paper's ID===\"\n",
    "}\n",
    "\n",
    "r = requests.post(url, headers=headers, data=json.dumps(data))\n",
    "\n",
    "#字串轉json!!!\n",
    "r.encoding = 'utf-8'\n",
    "print(r.text)\n",
    "print('==========')\n",
    "for row in range(len(json.loads(r.text)['folders'])):\n",
    "    print(json.loads(r.text)['folders'][row]['name'])"
   ]
  }
 ],
 "metadata": {
  "kernelspec": {
   "display_name": "Python 3",
   "language": "python",
   "name": "python3"
  },
  "language_info": {
   "codemirror_mode": {
    "name": "ipython",
    "version": 3
   },
   "file_extension": ".py",
   "mimetype": "text/x-python",
   "name": "python",
   "nbconvert_exporter": "python",
   "pygments_lexer": "ipython3",
   "version": "3.6.3"
  }
 },
 "nbformat": 4,
 "nbformat_minor": 2
}
