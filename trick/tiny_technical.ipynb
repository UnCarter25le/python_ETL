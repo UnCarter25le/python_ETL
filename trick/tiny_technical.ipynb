{
 "cells": [
  {
   "cell_type": "markdown",
   "metadata": {},
   "source": [
    "# 爬取多頁，每頁的連結數一致的迴圈邏輯。"
   ]
  },
  {
   "cell_type": "code",
   "execution_count": 2,
   "metadata": {},
   "outputs": [
    {
     "name": "stdout",
     "output_type": "stream",
     "text": [
      "0\n",
      "1\n",
      "====\n",
      "0\n",
      "1\n",
      "====\n",
      "0\n",
      "1\n",
      "====\n",
      "0\n",
      "1\n",
      "====\n"
     ]
    }
   ],
   "source": [
    "w = 0\n",
    "while w < 4:\n",
    "    for i in range(2):\n",
    "        print(i)\n",
    "       \n",
    "    w += 1 \n",
    "    print('====')"
   ]
  },
  {
   "cell_type": "markdown",
   "metadata": {},
   "source": [
    "# 練習list裡的element在分類成list"
   ]
  },
  {
   "cell_type": "code",
   "execution_count": 1,
   "metadata": {},
   "outputs": [
    {
     "name": "stdout",
     "output_type": "stream",
     "text": [
      "0 2\n",
      "[1, 2]\n",
      "2 4\n",
      "[3, 4]\n",
      "4 6\n",
      "[5, 6]\n",
      "6 8\n",
      "[7, 8]\n",
      "8 10\n",
      "[9, 10]\n",
      "10 12\n",
      "[11, 12]\n"
     ]
    }
   ],
   "source": [
    "#練習list裡的element在分類成list\n",
    "a = [1,2,3,4,5,6,7,8,9,10,11,12]\n",
    "for i in range(0,12,2):\n",
    "    w=2\n",
    "    w += i\n",
    "    print(i,w)\n",
    "    print(a[i:w])\n"
   ]
  },
  {
   "cell_type": "markdown",
   "metadata": {},
   "source": [
    "# 一次刪除多筆list的元素"
   ]
  },
  {
   "cell_type": "code",
   "execution_count": null,
   "metadata": {
    "collapsed": true
   },
   "outputs": [],
   "source": [
    "#一次刪除多筆list的元素\n",
    "a = [1,2,3,4,5,6,7,8,9,10,11,12]#要刪除3,6,8\n",
    "b = [2,5,7]#3,6,8的索引數\n",
    "w=0\n",
    "for i in b:   \n",
    "    i -= w \n",
    "    del a[i]\n",
    "    w += 1\n",
    "print(a)"
   ]
  }
 ],
 "metadata": {
  "kernelspec": {
   "display_name": "Python 3",
   "language": "python",
   "name": "python3"
  },
  "language_info": {
   "codemirror_mode": {
    "name": "ipython",
    "version": 3
   },
   "file_extension": ".py",
   "mimetype": "text/x-python",
   "name": "python",
   "nbconvert_exporter": "python",
   "pygments_lexer": "ipython3",
   "version": "3.6.1"
  }
 },
 "nbformat": 4,
 "nbformat_minor": 2
}
