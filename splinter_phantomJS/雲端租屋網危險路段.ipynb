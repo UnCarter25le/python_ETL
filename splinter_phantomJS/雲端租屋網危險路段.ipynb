{
 "cells": [
  {
   "cell_type": "code",
   "execution_count": null,
   "metadata": {
    "collapsed": true
   },
   "outputs": [],
   "source": [
    "#取路段名\n",
    "from bs4 import BeautifulSoup\n",
    "import requests\n",
    "url = 'http://house.nfu.edu.tw/FJU/acc_info/387.html'\n",
    "res = requests.get(url)\n",
    "res.encoding = 'utf-8'\n",
    "soup = BeautifulSoup(res.text,'lxml').select_one('table > tr > td').text\n",
    "soup"
   ]
  },
  {
   "cell_type": "code",
   "execution_count": null,
   "metadata": {
    "collapsed": true
   },
   "outputs": [],
   "source": [
    "#抓新北；台北市路段的網址\n",
    "from bs4 import BeautifulSoup\n",
    "import requests\n",
    "import splinter\n",
    "import json\n",
    "import time\n",
    "\n",
    "tool1 = []        #製作jsonarray用\n",
    "\n",
    "t1 = time.time()  #紀錄時間\n",
    "\n",
    "url = 'http://house.nfu.edu.tw/protal/all/3.html'\n",
    "res = requests.get(url)\n",
    "res.encoding = 'utf-8'\n",
    "soup = BeautifulSoup(res.text,'lxml').select('.readmore > a') \n",
    "schoollist = [row.text[2:] for row in soup]   #取得各大學英文代號\n",
    "\n",
    "for w in range(len(schoollist)):\n",
    "    URL = 'http://house.nfu.edu.tw/{}/accident.html'.format(schoollist[w])\n",
    "    browser = splinter.Browser(driver_name='chrome')   #以splinter開google chrome模擬\n",
    "    browser.visit(URL)\n",
    "    time.sleep(1)\n",
    "\n",
    "    try: #寫try except可以讓程式碰到索引超過的時候，依然進行\n",
    "        for i in range(1,20):\n",
    "            browser.click_link_by_id('gmapSidebarItem_'+str(i))       #點擊右側欄位\n",
    "            browser.find_by_id('gmapSidebarItem_'+str(i)).mouse_out() #模擬滑鼠移開\n",
    "            time.sleep(1)\n",
    "            element = browser.find_link_by_partial_text('詳細資料')    #抓取連結\n",
    "            tool1.append(element['href'])                           \n",
    "            browser.find_link_by_partial_text('詳細資料').mouse_out()  #模擬滑鼠移開\n",
    "\n",
    "    except Exception as e:\n",
    "        print(schoollist[w]+'  '+'out of range or no Object')\n",
    "\n",
    "    print(schoollist[w]+'  done'+'  目前共'+str(len(tool1)))           #目前總共抓了幾個網址\n",
    "    \n",
    "    browser.quit()                      #抓完一個學校的物件，瀏覽器要關閉\n",
    "    \n",
    "with open('./cloudDANGER/cloudrent_newtaipei_ROAD_link.json','w') as f:   #寫出檔案\n",
    "    json.dump(tool1,f)    \n",
    "    \n",
    "t3 = time.time()  #計算消耗時間\n",
    "print(t3-t1)"
   ]
  },
  {
   "cell_type": "code",
   "execution_count": null,
   "metadata": {
    "collapsed": true
   },
   "outputs": [],
   "source": [
    "taipei_postal_code = {'TNUA':112,'CUTE':116,'TCMT':111,'TMUST':114,'USCTP':104,'TPCU':112,'NTCB':100,\\\n",
    "                      'NTUNHS':112,'NTUT':106,'NTNU':106,'NTUST':106,'YM':112,'UTP':100,'PCCU':111,\\\n",
    "                      'TCPA':116,'MCU':111,'NTUE':106,'NCCU':116,'CUST':115,'SLHS':0,'Daan':0,'CCSH':0,\\\n",
    "                      'SAIHS':0,'FHSH':0,'HPSH':0,'DCSH':0,'TFVS':0,'CYHStp':0,'TMU':110}\n",
    "newtaipei_postal_code = {'AU':251,'HWH':235,'MMC':252,'HFU':223,'FJU':242,'NTPU':237,'MMNMC':112,'SJU':251,\\\n",
    "                         'TKU':251,'HWU':244,'NTUA':220,'JUST':231,'CLUT':220,'TNU':222,'OIT':220,\\\n",
    "                         'MCUT':243,'DLIT':236,'CTCN':231,'LITTP':243}"
   ]
  },
  {
   "cell_type": "code",
   "execution_count": null,
   "metadata": {
    "collapsed": true
   },
   "outputs": [],
   "source": [
    "with open('./cloudDANGER/cloudrent_newtaipei_ROAD_link.json') as D:\n",
    "    json_in = D.read()\n",
    "    json_out = json.loads(json_in)\n",
    "newtaipei_postal_code[re.findall('[A-Z]{2,4}',json_out[23])[0]]"
   ]
  },
  {
   "cell_type": "code",
   "execution_count": null,
   "metadata": {
    "collapsed": true
   },
   "outputs": [],
   "source": [
    "#google api 轉經緯度，郵遞區號\n",
    "\n",
    "import requests\n",
    "\n",
    "\n",
    "api_url= \"https://maps.googleapis.com/maps/api/geocode/json?address={}&key=\"\n",
    "def get_location(address):\n",
    "    URL=api_url.format(address)\n",
    "    res= requests.get(URL)\n",
    "    location_dict = res.json()\n",
    "    lat = location_dict['results'][0]['geometry']['location']['lat']\n",
    "    lng = location_dict['results'][0]['geometry']['location']['lng']\n",
    "    cityID = location_dict['results'][0]['address_components'][-1]['short_name']\n",
    "    res.close()\n",
    "    return lat,lng,cityID\n",
    "\n",
    "address = '工專路與華新街143巷路口'\n",
    "get_location(address)  #tuple"
   ]
  },
  {
   "cell_type": "code",
   "execution_count": null,
   "metadata": {
    "collapsed": true
   },
   "outputs": [],
   "source": [
    "#新北市路段存檔\n",
    "from bs4 import BeautifulSoup\n",
    "import requests\n",
    "import splinter\n",
    "import json\n",
    "import time\n",
    "import re\n",
    "\n",
    "\n",
    "def get_location(address):\n",
    "    URL=api_url.format(address)\n",
    "    res= requests.get(URL)\n",
    "    location_dict = res.json()\n",
    "    lat = location_dict['results'][0]['geometry']['location']['lat']\n",
    "    lng = location_dict['results'][0]['geometry']['location']['lng']\n",
    "    cityID = location_dict['results'][0]['address_components'][-1]['short_name']\n",
    "    res.close()\n",
    "    return lat,lng,cityID\n",
    "    \n",
    "with open('./cloudDANGER/Taipei/cloudrent_taipei_ROAD_link.json') as D:\n",
    "    json_in = D.read()\n",
    "    json_out = json.loads(json_in)\n",
    "    \n",
    "jsonarray = []   #製作jsonarray用    \n",
    "\n",
    "t1 = time.time()    \n",
    "#（三）利用phantomjs讓splinter背景執行---進到各物件的連結，抓取租屋的資訊\n",
    "from splinter import Browser\n",
    "executable_path = {'executable_path':'/usr/local/bin/phantomjs'}  #要先安裝好phantomjs。這兩行市基本的程式設定。\n",
    "browser = Browser('phantomjs', **executable_path)\n",
    "\n",
    "for i in range(len(json_out)):\n",
    "    try:\n",
    "        cloudDANGER = {}  #製作json用\n",
    "\n",
    "        time.sleep(1)\n",
    "\n",
    "        res = requests.get(json_out[i])\n",
    "        res.encoding = 'utf-8'\n",
    "        soup1 = BeautifulSoup(res.text,'lxml').select_one('table > tr > td').text\n",
    "\n",
    "        #存網頁連結，物件更新時間（年月日），網頁內容\n",
    "        cloudDANGER['url'] = json_out[i]\n",
    "        cloudDANGER['update'] = '2017-08-22'\n",
    "        cloudDANGER['road'] = soup1\n",
    "        try:\n",
    "            api_url= \"https://maps.googleapis.com/maps/api/geocode/json?address={}&key=\"   \n",
    "            get_location(address =  cloudDANGER['road'])  \n",
    "       \n",
    "            time.sleep(2)\n",
    "            cloudDANGER['cityID'] = get_location(address = cloudDANGER['road'])[2]\n",
    "            cloudDANGER['lng'] = get_location(address = cloudDANGER['road'])[0]\n",
    "            cloudDANGER['lat'] = get_location(address = cloudDANGER['road'])[1]\n",
    "        except:\n",
    "            cloudDANGER['cityID'] = taipei_postal_code[re.findall('[A-Z]{2,4}',json_out[i])[0]]\n",
    "            cloudDANGER['lng'] = \"NA\"\n",
    "            cloudDANGER['lat'] = \"NA\"\n",
    "            \n",
    "\n",
    "        jsonarray.append(cloudDANGER)   #將一個個物件存進array\n",
    "\n",
    "        print(len(jsonarray))   #紀錄完成幾筆\n",
    "\n",
    "        with open('./cloudDANGER/Taipei/\\\n",
    "        Taipei_ROAD_DANGER_{0}.json'.format(i),'w') as F:   #寫出檔案\n",
    "            json.dump(cloudDANGER,F)\n",
    "\n",
    "    except:\n",
    "         print(json_out[i]+'   '+'error')\n",
    "\n",
    "with open('./cloudDANGER/Taipei/cloudrent_taipei_ROAD_Complete.json','w') as f:   #寫出檔案\n",
    "    json.dump(jsonarray,f)\n",
    "    \n",
    "t2 = time.time()    \n",
    "print(t2-t1)"
   ]
  }
 ],
 "metadata": {
  "kernelspec": {
   "display_name": "Python 3",
   "language": "python",
   "name": "python3"
  },
  "language_info": {
   "codemirror_mode": {
    "name": "ipython",
    "version": 3
   },
   "file_extension": ".py",
   "mimetype": "text/x-python",
   "name": "python",
   "nbconvert_exporter": "python",
   "pygments_lexer": "ipython3",
   "version": "3.6.1"
  }
 },
 "nbformat": 4,
 "nbformat_minor": 2
}
