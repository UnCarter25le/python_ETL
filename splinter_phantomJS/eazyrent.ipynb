{
 "cells": [
  {
   "cell_type": "markdown",
   "metadata": {},
   "source": [
    "# 總共216筆， 房東電話是圖片；物件標題必須依靠splinter抓取"
   ]
  },
  {
   "cell_type": "markdown",
   "metadata": {},
   "source": [
    "#  類型的連結"
   ]
  },
  {
   "cell_type": "code",
   "execution_count": null,
   "metadata": {
    "collapsed": true
   },
   "outputs": [],
   "source": [
    "#合併連結\n",
    "\n",
    "eazy_taipei_url_0 獨立套房40\n",
    "eazy_taipei_url_1 分租套房27\n",
    "eazy_taipei_url_2 出租雅房42\n",
    "eazy_taipei_url_3 公寓華廈14\n",
    "eazy_newtaipei_url_0 獨立套房38\n",
    "eazy_newtaipei_url_1 商務套房2\n",
    "eazy_newtaipei_url_2 分租套房28\n",
    "eazy_newtaipei_url_3 出租雅房16\n",
    "eazy_newtaipei_url_4 公寓華廈9"
   ]
  },
  {
   "cell_type": "code",
   "execution_count": 23,
   "metadata": {},
   "outputs": [
    {
     "data": {
      "text/plain": [
       "135"
      ]
     },
     "execution_count": 23,
     "metadata": {},
     "output_type": "execute_result"
    }
   ],
   "source": [
    "#套房\n",
    "\n",
    "aaa = eazy_taipei_url_0+eazy_taipei_url_1+eazy_newtaipei_url_0+eazy_newtaipei_url_1+eazy_newtaipei_url_2\n",
    "len(aaa)"
   ]
  },
  {
   "cell_type": "code",
   "execution_count": 24,
   "metadata": {},
   "outputs": [
    {
     "data": {
      "text/plain": [
       "58"
      ]
     },
     "execution_count": 24,
     "metadata": {},
     "output_type": "execute_result"
    }
   ],
   "source": [
    "#雅房\n",
    "\n",
    "bbb = eazy_taipei_url_2+eazy_newtaipei_url_3 \n",
    "len(bbb)"
   ]
  },
  {
   "cell_type": "code",
   "execution_count": 25,
   "metadata": {},
   "outputs": [
    {
     "data": {
      "text/plain": [
       "23"
      ]
     },
     "execution_count": 25,
     "metadata": {},
     "output_type": "execute_result"
    }
   ],
   "source": [
    "#住\n",
    "ccc = eazy_taipei_url_3+eazy_newtaipei_url_4 \n",
    "\n",
    "len(ccc)"
   ]
  },
  {
   "cell_type": "markdown",
   "metadata": {},
   "source": [
    "# 存成整份網頁"
   ]
  },
  {
   "cell_type": "code",
   "execution_count": 37,
   "metadata": {},
   "outputs": [
    {
     "name": "stdout",
     "output_type": "stream",
     "text": [
      "135\n",
      "622.8440222740173\n"
     ]
    }
   ],
   "source": [
    "from bs4 import BeautifulSoup\n",
    "import requests\n",
    "import time\n",
    "import json\n",
    "import re\n",
    "\n",
    "t1 = time.time()  #計時\n",
    "jsonarray = []  #用來做jsonarray用\n",
    "\n",
    "for i in range(len(aaa)):   #包的是所有的網址\n",
    "    house = {}  #存json用\n",
    "    \n",
    "    URL = aaa[i] \n",
    "    res = requests.get(URL)\n",
    "    \n",
    "    time.sleep(1)\n",
    "    house['url'] = URL\n",
    "    house['update'] = BeautifulSoup(res.text,'lxml').select_one('.pull-right').\\\n",
    "                      text.replace(' ','')[5:].split('．')[0]\n",
    "    house['html'] = res.text\n",
    "   \n",
    "    time.sleep(1)\n",
    "    jsonarray.append(house)    #把一個個json檔存進[]裡\n",
    "\n",
    "with open('eazyrent_tao_135.json','w') as f:  #輸出\n",
    "    json.dump(jsonarray,f)\n",
    "\n",
    "t2 = time.time()\n",
    "\n",
    "print(len(jsonarray))\n",
    "print(t2-t1)"
   ]
  },
  {
   "cell_type": "code",
   "execution_count": null,
   "metadata": {
    "collapsed": true
   },
   "outputs": [],
   "source": []
  },
  {
   "cell_type": "code",
   "execution_count": 38,
   "metadata": {
    "scrolled": true
   },
   "outputs": [
    {
     "name": "stdout",
     "output_type": "stream",
     "text": [
      "1\n",
      "2\n",
      "3\n",
      "4\n",
      "5\n",
      "6\n",
      "7\n",
      "8\n",
      "9\n",
      "10\n",
      "11\n",
      "12\n",
      "13\n",
      "14\n",
      "15\n",
      "16\n",
      "17\n",
      "18\n",
      "19\n",
      "20\n",
      "21\n",
      "22\n",
      "23\n",
      "24\n",
      "25\n",
      "26\n",
      "27\n",
      "28\n",
      "29\n",
      "30\n",
      "31\n",
      "32\n",
      "33\n",
      "34\n",
      "35\n",
      "36\n",
      "37\n",
      "38\n",
      "39\n",
      "40\n",
      "41\n",
      "42\n",
      "43\n",
      "44\n",
      "45\n",
      "46\n",
      "47\n",
      "48\n",
      "49\n",
      "50\n",
      "51\n",
      "52\n",
      "53\n",
      "54\n",
      "55\n",
      "56\n",
      "57\n",
      "58\n",
      "58\n",
      "291.32407307624817\n"
     ]
    }
   ],
   "source": [
    "from bs4 import BeautifulSoup\n",
    "import requests\n",
    "import time\n",
    "import json\n",
    "import re\n",
    "\n",
    "t1 = time.time()  #計時\n",
    "jsonarray = []  #用來做jsonarray用\n",
    "\n",
    "for i in range(len(bbb)):   #包的是所有的網址\n",
    "    house = {}  #存json用\n",
    "    \n",
    "    URL = bbb[i] \n",
    "    res = requests.get(URL)\n",
    "    \n",
    "    time.sleep(1)\n",
    "    house['url'] = URL\n",
    "    house['update'] = BeautifulSoup(res.text,'lxml').select_one('.pull-right').\\\n",
    "                      text.replace(' ','')[5:].split('．')[0]\n",
    "    house['html'] = res.text\n",
    "   \n",
    "    time.sleep(1)\n",
    "    jsonarray.append(house)    #把一個個json檔存進[]裡\n",
    "\n",
    "    print(len(jsonarray))\n",
    "    \n",
    "with open('eazyrent_yiah_58.json','w') as f:  #輸出\n",
    "    json.dump(jsonarray,f)\n",
    "\n",
    "t2 = time.time()\n",
    "print(len(jsonarray))\n",
    "print(t2-t1)"
   ]
  },
  {
   "cell_type": "code",
   "execution_count": null,
   "metadata": {
    "collapsed": true
   },
   "outputs": [],
   "source": []
  },
  {
   "cell_type": "code",
   "execution_count": 39,
   "metadata": {},
   "outputs": [
    {
     "name": "stdout",
     "output_type": "stream",
     "text": [
      "1\n",
      "2\n",
      "3\n",
      "4\n",
      "5\n",
      "6\n",
      "7\n",
      "8\n",
      "9\n",
      "10\n",
      "11\n",
      "12\n",
      "13\n",
      "14\n",
      "15\n",
      "16\n",
      "17\n",
      "18\n",
      "19\n",
      "20\n",
      "21\n",
      "22\n",
      "23\n",
      "23\n",
      "116.44060039520264\n"
     ]
    }
   ],
   "source": [
    "from bs4 import BeautifulSoup\n",
    "import requests\n",
    "import time\n",
    "import json\n",
    "import re\n",
    "\n",
    "t1 = time.time()  #計時\n",
    "jsonarray = []  #用來做jsonarray用\n",
    "\n",
    "for i in range(len(ccc)):   #包的是所有的網址\n",
    "    house = {}  #存json用\n",
    "    \n",
    "    URL = ccc[i] \n",
    "    res = requests.get(URL)\n",
    "    \n",
    "    time.sleep(1)\n",
    "    house['url'] = URL\n",
    "    house['update'] = BeautifulSoup(res.text,'lxml').select_one('.pull-right').\\\n",
    "                      text.replace(' ','')[5:].split('．')[0]\n",
    "    house['html'] = res.text\n",
    "   \n",
    "    time.sleep(1)\n",
    "    jsonarray.append(house)    #把一個個json檔存進[]裡\n",
    "    print(len(jsonarray))\n",
    "    \n",
    "with open('eazyrent_zoo_23.json','w') as f:  #輸出\n",
    "    json.dump(jsonarray,f)\n",
    "\n",
    "t2 = time.time()\n",
    "print(len(jsonarray))\n",
    "print(t2-t1)"
   ]
  },
  {
   "cell_type": "markdown",
   "metadata": {
    "collapsed": true
   },
   "source": [
    "# clean"
   ]
  },
  {
   "cell_type": "code",
   "execution_count": 33,
   "metadata": {},
   "outputs": [
    {
     "data": {
      "text/plain": [
       "(25.1382167, 121.4920912, '112')"
      ]
     },
     "execution_count": 33,
     "metadata": {},
     "output_type": "execute_result"
    }
   ],
   "source": [
    "#google api 轉經緯度，郵遞區號\n",
    "\n",
    "import requests\n",
    "\n",
    "\n",
    "api_url= \"https://maps.googleapis.com/maps/api/geocode/json?address={}&key=\"\n",
    "def get_location(address):\n",
    "    URL=api_url.format(address)\n",
    "    res= requests.get(URL)\n",
    "    location_dict = res.json()\n",
    "    lat = location_dict['results'][0]['geometry']['location']['lat']\n",
    "    lng = location_dict['results'][0]['geometry']['location']['lng']\n",
    "    cityID = location_dict['results'][0]['address_components'][-1]['short_name']\n",
    "    res.close()\n",
    "    return lat,lng,cityID\n",
    "\n",
    "address = '台北市112北投區中央北路二段320巷......  '\n",
    "get_location(address)  #tuple"
   ]
  },
  {
   "cell_type": "code",
   "execution_count": null,
   "metadata": {
    "collapsed": true
   },
   "outputs": [],
   "source": [
    "#要存取的欄位\n",
    "id: INT               物件編號  X        \n",
    "cityID: INT           城市      V\n",
    "url: VARCHAR(100)     物件網址  V\n",
    "title:VARCHAR(100)    物件名稱  (學校名)\n",
    "address:VARCHAR(200)  地址   V\n",
    "pattern:VARCHAR(50)   隔間類型   V\n",
    "floor:INT             物件在的樓層   V\n",
    "stories:INT           總樓層   V\n",
    "label:char(1)         套房或雅房   V\n",
    "rent:INT              租金   V\n",
    "lat:DECIMAL(15,11)    經緯度   X\n",
    "lng:DECIAMAL(15,11)\n",
    "sex:CHAR(1)           性別   V\n",
    "space:DECIMAL(9,2)    坪數          V(但會標0坪)\n",
    "smoke:CHAR(1)         抽煙    V\n",
    "pet:CHAR(1)           寵物   X\n",
    "cook:CHAR(1)          烹飪   X\n",
    "update:date           物件更新時間   V\n",
    "landlord:             房東   V\n",
    "description:          物件描述   V\n",
    "tmp:                  可否短期租賃   x"
   ]
  },
  {
   "cell_type": "code",
   "execution_count": null,
   "metadata": {
    "collapsed": true
   },
   "outputs": [],
   "source": [
    "#套房\n",
    "from bs4 import BeautifulSoup\n",
    "import requests\n",
    "import time\n",
    "import json\n",
    "import re\n",
    "\n",
    "jsonarray = []\n",
    "with open('eazyrent_json/eazyrent_tao_135.json') as f:\n",
    "    read_in = f.read()\n",
    "    json_out = json.loads(read_in)\n",
    "\n",
    "t1 = time.time()\n",
    "\n",
    "for i in range(len(json_out)):\n",
    "\n",
    "    soup = BeautifulSoup(json_out[i]['html'],'lxml')\n",
    "    jsondict = {}  #存每個物件的key-value\n",
    "\n",
    "\n",
    "    jsondict['id'] = \"NA\"\n",
    "    jsondict['url'] = json_out[i]['url']\n",
    "    jsondict['update'] = json_out[i]['update']\n",
    "    jsondict['rent'] = re.findall('\\d+',soup.select_one('.table').text.replace('\\n',''))[0]\n",
    "    \n",
    "    jsondict['title'] = \n",
    "\n",
    "    \n",
    "    jsondict['label'] = \"套\"\n",
    "\n",
    "    jsondict['address'] = re.findall(re.findall('\\地址.+\\ ',soup.select_one('.table').\\\n",
    "                                                text.replace('\\n',''))[0][2:])\n",
    "\n",
    "    time.sleep(1)\n",
    "    get_location(address = jsondict['address'])  \n",
    "    api_url= \"https://maps.googleapis.com/maps/api/geocode/json?address={}&key=\"\n",
    "    def get_location(address):\n",
    "        URL=api_url.format(address)\n",
    "        res= requests.get(URL)\n",
    "        location_dict = res.json()\n",
    "        lat = location_dict['results'][0]['geometry']['location']['lat']\n",
    "        lng = location_dict['results'][0]['geometry']['location']['lng']\n",
    "        cityID = location_dict['results'][0]['address_components'][-1]['short_name']\n",
    "        res.close()\n",
    "        return lat,lng,cityID\n",
    "    try:\n",
    "        time.sleep(2)\n",
    "        jsondict['cityID'] = get_location(address = jsondict['address'])[2]\n",
    "        jsondict['lng'] = get_location(address = jsondict['address'])[0]\n",
    "        jsondict['lat'] = get_location(address = jsondict['address'])[1]\n",
    "    except:\n",
    "        print(i)\n",
    "        print(json_out[i]['url'])\n",
    "\n",
    "\n",
    "    jsondict['pattern'] = \n",
    "    jsondict['floor'] =\n",
    "    jsondict['stories'] = \n",
    "    jsondict['space'] = \n",
    "    jsondict['description'] = \n",
    "    jsondict['landlord'] = \n",
    "    jsondict['temp'] = 'N'\n",
    "    jsondict['sex'] = 'A'\n",
    "    jsondict['pet'] = 'N'\n",
    "    jsondict['cook'] = 'N'\n",
    "    jsondict['smoke'] = 'N'"
   ]
  },
  {
   "cell_type": "code",
   "execution_count": 59,
   "metadata": {
    "scrolled": true
   },
   "outputs": [
    {
     "name": "stdout",
     "output_type": "stream",
     "text": [
      "[<table class=\"table\">\n",
      "<td class=\"text-muted\" width=\"22%\">租金</td>\n",
      "<td><span class=\"price text-danger\" style=\"font-size:170%;\">10000</span> 元                    / 月 \n",
      "                    <ul class=\"bg-info text-info\" style=\"margin:0; padding:10px 30px; border-radius:4px;\">\n",
      "<li class=\"label-show\">租金包含 水費</li>\n",
      "<li class=\"label-hide\">租金包含 電費</li>\n",
      "<li class=\"label-show\">租金包含 瓦斯費</li>\n",
      "<li class=\"label-show\">租金包含 管理費</li>\n",
      "<li class=\"label-hide\">租金包含 汽車車位</li>\n",
      "<li>1 個月繳一次</li>\n",
      "</ul></td>\n",
      "<tr>\n",
      "<td class=\"text-muted\">押金</td>\n",
      "<td>2個月</td>\n",
      "</tr>\n",
      "<tr>\n",
      "<td class=\"text-muted\">地址</td>\n",
      "<td>台北市100中正區重慶南路三段21號6樓                    </td>\n",
      "</tr>\n",
      "<tr>\n",
      "<td class=\"text-muted\">類型</td>\n",
      "<td>獨立套房</td>\n",
      "</tr>\n",
      "<tr>\n",
      "<td class=\"text-muted\">格局</td>\n",
      "<td>1房0廳1衛，有對外窗戶</td>\n",
      "</tr>\n",
      "<tr>\n",
      "<td class=\"text-muted\">坪數</td>\n",
      "<td>10.00坪</td>\n",
      "</tr>\n",
      "<tr>\n",
      "<td class=\"text-muted\">屋齡</td>\n",
      "<td>0年</td>\n",
      "</tr>\n",
      "<tr>\n",
      "<td class=\"text-muted\">樓層</td>\n",
      "<td>在6樓，整棟共12層</td>\n",
      "</tr>\n",
      "</table>, <table class=\"table\">\n",
      "<tr>\n",
      "<td class=\"text-muted\" style=\"border-top:none;\" width=\"25%\">聯絡人</td>\n",
      "<td style=\"border-top:none;\">林小姐<span>﹝業主房東，自行招租﹞</span></td>\n",
      "</tr>\n",
      "<tr>\n",
      "<td class=\"text-muted\">電話</td>\n",
      "<td class=\"phone\">\n",
      "<img src=\"/getnum.php?t=1&amp;n=01HJOS0001&amp;v=1\"/> </td>\n",
      "</tr>\n",
      "<tr>\n",
      "<td class=\"text-muted\">信箱</td>\n",
      "<td> </td>\n",
      "</tr>\n",
      "</table>, <table class=\"table\">\n",
      "<tr>\n",
      "<td class=\"text-muted\" width=\"10%\">適合房客</td>\n",
      "<td><span class=\"label label-primary\">學生</span> <span class=\"label label-primary\">上班族</span> <span class=\"label label-nil\">外藉人士</span> <span class=\"label label-nil\">家庭</span> <span class=\"label label-nil\">情侶</span></td>\n",
      "</tr>\n",
      "<tr>\n",
      "<td class=\"text-muted\">居住條件</td>\n",
      "<td><span class=\"label label-nil\">限女生</span> <span class=\"label label-nil\">限男生</span> <span class=\"label label-nil\">房東同住</span> <span class=\"label label-nil\">可開伙</span> <span class=\"label label-nil\">可養寵物</span></td>\n",
      "</tr>\n",
      "<tr>\n",
      "<td class=\"text-muted\">附加設施</td>\n",
      "<td><span class=\"label label-primary\">單人床</span> <span class=\"label label-primary\">雙人床</span> <span class=\"label label-primary\">桌椅</span> <span class=\"label label-primary\">衣櫥</span> <span class=\"label label-nil\">梳妝台</span> <span class=\"label label-primary\">電視機</span> <span class=\"label label-primary\">冷氣機</span> <span class=\"label label-primary\">電冰箱</span> <span class=\"label label-primary\">脫水機</span> <span class=\"label label-primary\">洗衣機</span> <span class=\"label label-nil\">烘衣機</span> <span class=\"label label-nil\">電熱水器</span> <span class=\"label label-primary\">瓦斯熱水器</span> <span class=\"label label-nil\">太陽能熱水器</span> <span class=\"label label-nil\">電話</span> <span class=\"label label-nil\">飲水機</span> <span class=\"label label-primary\">有第四台</span> <span class=\"label label-primary\">寬頻網路</span></td>\n",
      "</tr>\n",
      "<tr>\n",
      "<td class=\"text-muted\">公共保全</td>\n",
      "<td><span class=\"label label-nil\">保全員</span> <span class=\"label label-primary\">電梯</span> <span class=\"label label-nil\">社區中庭</span> <span class=\"label label-primary\">公用陽台</span> <span class=\"label label-nil\">休閒設施</span> <span class=\"label label-nil\">刷卡機</span> <span class=\"label label-primary\">滅火器</span> <span class=\"label label-nil\">緩降梯</span> <span class=\"label label-primary\">監視系統</span> <span class=\"label label-primary\">緊急照明</span></td>\n",
      "</tr>\n",
      "<tr>\n",
      "<td class=\"text-muted\">交通設施</td>\n",
      "<td>離古亭捷運站約0.50公里<br/>離中正紀念堂捷運站約0.50公里</td>\n",
      "</tr>\n",
      "<tr>\n",
      "<td class=\"text-muted\">鄰近學區</td>\n",
      "<td>離台北市立教育大學約1.00公里、離國立台灣師範大學約1.00公里、離東吳大學約1.00公里</td>\n",
      "</tr>\n",
      "<tr>\n",
      "<td class=\"text-muted\">鄰近地標</td>\n",
      "<td>近經濟部、近建國中學、近南門教會、近郵政醫院</td>\n",
      "</tr>\n",
      "</table>]\n",
      "套\n"
     ]
    }
   ],
   "source": [
    "#殘酷測試區\n",
    "from bs4 import BeautifulSoup\n",
    "import requests\n",
    "import time\n",
    "import json\n",
    "import re\n",
    "\n",
    "\n",
    "with open('eazyrent_json/eazyrent_tao_135.json') as f:\n",
    "    read_in = f.read()\n",
    "    json_out = json.loads(read_in)\n",
    "    \n",
    "    soup = BeautifulSoup(json_out[0]['html'],'lxml')\n",
    "    print(soup.select('.table'))\n",
    "    print(re.findall('\\獨立.',soup.select_one('.table').text.replace('\\n',''))[0][2:])\n",
    "        \n",
    "f.close()"
   ]
  },
  {
   "cell_type": "markdown",
   "metadata": {
    "collapsed": true
   },
   "source": [
    "# splinter操作擷取連結（點擊下拉式選單）"
   ]
  },
  {
   "cell_type": "code",
   "execution_count": 3,
   "metadata": {
    "scrolled": true
   },
   "outputs": [
    {
     "name": "stdout",
     "output_type": "stream",
     "text": [
      "go_to_next_page\n",
      "mission_over\n",
      "['https://www.e-rent.com.tw/roomResult.php?t=1&n=01JAIJ0001', 'https://www.e-rent.com.tw/roomResult.php?t=1&n=01DDLL0001', 'https://www.e-rent.com.tw/roomResult.php?t=1&n=01HOGK0001', 'https://www.e-rent.com.tw/roomResult.php?t=1&n=01JRMX0001', 'https://www.e-rent.com.tw/roomResult.php?t=1&n=01HOQC0001', 'https://www.e-rent.com.tw/roomResult.php?t=1&n=01BJKS0001', 'https://www.e-rent.com.tw/roomResult.php?t=1&n=01HOQC0001', 'https://www.e-rent.com.tw/roomResult.php?t=1&n=01JCRU0001', 'https://www.e-rent.com.tw/roomResult.php?t=1&n=01JRCE0001', 'https://www.e-rent.com.tw/roomResult.php?t=1&n=01JRCD0001', 'https://www.e-rent.com.tw/roomResult.php?t=1&n=01DEMC0001', 'https://www.e-rent.com.tw/roomResult.php?t=1&n=01DBFZ0001', 'https://www.e-rent.com.tw/roomResult.php?t=1&n=01DBFZ0001', 'https://www.e-rent.com.tw/roomResult.php?t=1&n=01FXBE0001', 'https://www.e-rent.com.tw/roomResult.php?t=1&n=01CZQA0001', 'https://www.e-rent.com.tw/roomResult.php?t=1&n=01IQMD0001', 'https://www.e-rent.com.tw/roomResult.php?t=1&n=01IMFY0001', 'https://www.e-rent.com.tw/roomResult.php?t=1&n=01IMFE0001', 'https://www.e-rent.com.tw/roomResult.php?t=1&n=01IMFH0001', 'https://www.e-rent.com.tw/roomResult.php?t=1&n=01IMFI0001', 'https://www.e-rent.com.tw/roomResult.php?t=1&n=01CZQA0001', 'https://www.e-rent.com.tw/roomResult.php?t=1&n=01HJOS0001', 'https://www.e-rent.com.tw/roomResult.php?t=1&n=01CONB0001', 'https://www.e-rent.com.tw/roomResult.php?t=1&n=01EPRN0001', 'https://www.e-rent.com.tw/roomResult.php?t=1&n=01IODQ0001', 'https://www.e-rent.com.tw/roomResult.php?t=1&n=01IQMD0001', 'https://www.e-rent.com.tw/roomResult.php?t=1&n=01CADS0001', 'https://www.e-rent.com.tw/roomResult.php?t=1&n=01AFSR0001', 'https://www.e-rent.com.tw/roomResult.php?t=1&n=01JREP0001', 'https://www.e-rent.com.tw/roomResult.php?t=1&n=01IPZX0001', 'https://www.e-rent.com.tw/roomResult.php?t=1&n=01JRGN0001', 'https://www.e-rent.com.tw/roomResult.php?t=1&n=01IMFI0001', 'https://www.e-rent.com.tw/roomResult.php?t=1&n=01CLMO0001', 'https://www.e-rent.com.tw/roomResult.php?t=1&n=01FWMJ0001', 'https://www.e-rent.com.tw/roomResult.php?t=1&n=01FWNZ0001', 'https://www.e-rent.com.tw/roomResult.php?t=1&n=01FWNV0001', 'https://www.e-rent.com.tw/roomResult.php?t=1&n=01FWOB0001', 'https://www.e-rent.com.tw/roomResult.php?t=1&n=01GKIM0001', 'https://www.e-rent.com.tw/roomResult.php?t=1&n=01FXSV0001', 'https://www.e-rent.com.tw/roomResult.php?t=1&n=01CWMB0001', 'https://www.e-rent.com.tw/roomResult.php?t=1&n=01BOPY0001', 'https://www.e-rent.com.tw/roomResult.php?t=1&n=01JREP0001', 'https://www.e-rent.com.tw/roomResult.php?t=1&n=01FWNS0001', 'https://www.e-rent.com.tw/roomResult.php?t=1&n=01GHNN0001', 'https://www.e-rent.com.tw/roomResult.php?t=1&n=01JKHI0001', 'https://www.e-rent.com.tw/roomResult.php?t=1&n=01JRDW0001']\n",
      "46\n",
      "16.236743450164795\n"
     ]
    }
   ],
   "source": [
    "#台北市獨立套房\n",
    "\n",
    "from bs4 import BeautifulSoup\n",
    "from splinter import Browser\n",
    "import requests\n",
    "import splinter\n",
    "import json\n",
    "import time\n",
    "\n",
    "t1 = time.time()  #紀錄時間\n",
    "final = []\n",
    "\n",
    "URL = 'https://www.e-rent.com.tw/index.php3'\n",
    "executable_path = {'executable_path':'/usr/local/bin/phantomjs'}\n",
    "browser = Browser('phantomjs', **executable_path)\n",
    "\n",
    "# browser = splinter.Browser(driver_name='chrome')\n",
    "browser.encoding = 'utf-8'\n",
    "\n",
    "browser.visit(URL)\n",
    "browser.find_option_by_text('台北市').first.click()   #splinter 點擊下拉式選單操作\n",
    "browser.find_option_by_text('獨立套房').first.click()\n",
    "browser.find_by_css('#searchType1 > button').click()  #善用find_by_css\n",
    "\n",
    "\n",
    "for i in range(1,40):  #第一頁\n",
    "    try:\n",
    "        element = browser.find_by_xpath('//*[@id=\"showList\"]/a['+str(i)+']')\n",
    "        final.append(element['href'])    #以key-value的方式擷取連結\n",
    "    except:\n",
    "        browser.find_link_by_partial_href('#query_result').click()\n",
    "        print('go_to_next_page')\n",
    "        break\n",
    "for w in range(1,40):   #第二頁\n",
    "    try:\n",
    "        element1 = browser.find_by_xpath('//*[@id=\"showList\"]/a['+str(w)+']')\n",
    "        final.append(element1['href'])  \n",
    "    except:\n",
    "        print('mission_over')\n",
    "        break\n",
    "\n",
    "print(final)\n",
    "print(len(final))\n",
    "\n",
    "t2 = time.time()\n",
    "print(t2-t1)"
   ]
  },
  {
   "cell_type": "code",
   "execution_count": 6,
   "metadata": {},
   "outputs": [
    {
     "data": {
      "text/plain": [
       "40"
      ]
     },
     "execution_count": 6,
     "metadata": {},
     "output_type": "execute_result"
    }
   ],
   "source": [
    "eazy_taipei_url_0 = list(set(final))\n",
    "len(eazy_taipei_url_0)"
   ]
  },
  {
   "cell_type": "code",
   "execution_count": 7,
   "metadata": {
    "scrolled": true
   },
   "outputs": [
    {
     "name": "stdout",
     "output_type": "stream",
     "text": [
      "go_to_next_page\n",
      "mission_over\n",
      "['https://www.e-rent.com.tw/roomResult.php?t=1&n=01JREJ0001', 'https://www.e-rent.com.tw/roomResult.php?t=1&n=01GRQR0001', 'https://www.e-rent.com.tw/roomResult.php?t=1&n=01ATLD0001', 'https://www.e-rent.com.tw/roomResult.php?t=1&n=01JRLD0001', 'https://www.e-rent.com.tw/roomResult.php?t=1&n=01JRMG0001', 'https://www.e-rent.com.tw/roomResult.php?t=1&n=01ISWL0001', 'https://www.e-rent.com.tw/roomResult.php?t=1&n=01CDYK0001', 'https://www.e-rent.com.tw/roomResult.php?t=1&n=01JREG0001', 'https://www.e-rent.com.tw/roomResult.php?t=1&n=01CHFH0001', 'https://www.e-rent.com.tw/roomResult.php?t=1&n=01DZGR0001', 'https://www.e-rent.com.tw/roomResult.php?t=1&n=01GRQR0001', 'https://www.e-rent.com.tw/roomResult.php?t=1&n=01AIAK0001', 'https://www.e-rent.com.tw/roomResult.php?t=1&n=01DAHD0001', 'https://www.e-rent.com.tw/roomResult.php?t=1&n=01IYAD0001', 'https://www.e-rent.com.tw/roomResult.php?t=1&n=01IYAD0001', 'https://www.e-rent.com.tw/roomResult.php?t=1&n=01BLIQ0001', 'https://www.e-rent.com.tw/roomResult.php?t=1&n=01JREX0001', 'https://www.e-rent.com.tw/roomResult.php?t=1&n=01DBFA0001', 'https://www.e-rent.com.tw/roomResult.php?t=1&n=01BNMF0001', 'https://www.e-rent.com.tw/roomResult.php?t=1&n=01CAHF0001', 'https://www.e-rent.com.tw/roomResult.php?t=1&n=01BLIQ0001', 'https://www.e-rent.com.tw/roomResult.php?t=1&n=01FABM0001', 'https://www.e-rent.com.tw/roomResult.php?t=1&n=01JGJY0001', 'https://www.e-rent.com.tw/roomResult.php?t=1&n=01JQZM0001', 'https://www.e-rent.com.tw/roomResult.php?t=1&n=01JQZL0001', 'https://www.e-rent.com.tw/roomResult.php?t=1&n=01JQZK0001', 'https://www.e-rent.com.tw/roomResult.php?t=1&n=01JQZJ0001', 'https://www.e-rent.com.tw/roomResult.php?t=1&n=01JRMS0001', 'https://www.e-rent.com.tw/roomResult.php?t=1&n=01IVZG0001', 'https://www.e-rent.com.tw/roomResult.php?t=1&n=01JFXV0001']\n",
      "30\n",
      "15.590451002120972\n"
     ]
    }
   ],
   "source": [
    "#台北市分租套房\n",
    "\n",
    "from bs4 import BeautifulSoup\n",
    "from splinter import Browser\n",
    "import requests\n",
    "import splinter\n",
    "import json\n",
    "import time\n",
    "\n",
    "t1 = time.time()  #紀錄時間\n",
    "final_1 = []\n",
    "\n",
    "URL = 'https://www.e-rent.com.tw/index.php3'\n",
    "executable_path = {'executable_path':'/usr/local/bin/phantomjs'}\n",
    "browser = Browser('phantomjs', **executable_path)\n",
    "\n",
    "# browser = splinter.Browser(driver_name='chrome')\n",
    "browser.encoding = 'utf-8'\n",
    "\n",
    "browser.visit(URL)\n",
    "browser.find_option_by_text('台北市').first.click()\n",
    "browser.find_option_by_text('分租套房').first.click()\n",
    "browser.find_by_css('#searchType1 > button').click()\n",
    "\n",
    "\n",
    "for i in range(1,40):\n",
    "    try:\n",
    "        element_1 = browser.find_by_xpath('//*[@id=\"showList\"]/a['+str(i)+']')\n",
    "        final_1.append(element_1['href'])  \n",
    "    except:\n",
    "        browser.find_link_by_partial_href('#query_result').click()\n",
    "        print('go_to_next_page')\n",
    "        break\n",
    "for w in range(1,40):\n",
    "    try:\n",
    "        element_1 = browser.find_by_xpath('//*[@id=\"showList\"]/a['+str(w)+']')\n",
    "        final_1.append(element_1['href'])  \n",
    "    except:\n",
    "        print('mission_over')\n",
    "        break\n",
    "\n",
    "print(final_1)\n",
    "print(len(final_1))\n",
    "\n",
    "\n",
    "t2 = time.time()\n",
    "print(t2-t1)"
   ]
  },
  {
   "cell_type": "code",
   "execution_count": 8,
   "metadata": {},
   "outputs": [
    {
     "data": {
      "text/plain": [
       "27"
      ]
     },
     "execution_count": 8,
     "metadata": {},
     "output_type": "execute_result"
    }
   ],
   "source": [
    "eazy_taipei_url_1 = list(set(final_1))\n",
    "len(eazy_taipei_url_1)"
   ]
  },
  {
   "cell_type": "code",
   "execution_count": 9,
   "metadata": {},
   "outputs": [
    {
     "name": "stdout",
     "output_type": "stream",
     "text": [
      "go_to_next_page\n",
      "mission_over\n",
      "['https://www.e-rent.com.tw/roomResult.php?t=1&n=01AEBG0001', 'https://www.e-rent.com.tw/roomResult.php?t=1&n=01BGPX0001', 'https://www.e-rent.com.tw/roomResult.php?t=1&n=01DFRA0001', 'https://www.e-rent.com.tw/roomResult.php?t=1&n=01AEBG0001', 'https://www.e-rent.com.tw/roomResult.php?t=1&n=01ECQH0001', 'https://www.e-rent.com.tw/roomResult.php?t=1&n=01IQVV0001', 'https://www.e-rent.com.tw/roomResult.php?t=1&n=01BCSK0001', 'https://www.e-rent.com.tw/roomResult.php?t=1&n=01BBSM0001', 'https://www.e-rent.com.tw/roomResult.php?t=1&n=01DCOW0001', 'https://www.e-rent.com.tw/roomResult.php?t=1&n=01BADP0001', 'https://www.e-rent.com.tw/roomResult.php?t=1&n=01AHLJ0001', 'https://www.e-rent.com.tw/roomResult.php?t=1&n=01AIMM0001', 'https://www.e-rent.com.tw/roomResult.php?t=1&n=01AHEH0001', 'https://www.e-rent.com.tw/roomResult.php?t=1&n=01BEIA0001', 'https://www.e-rent.com.tw/roomResult.php?t=1&n=01IQBR0001', 'https://www.e-rent.com.tw/roomResult.php?t=1&n=01DCOW0001', 'https://www.e-rent.com.tw/roomResult.php?t=1&n=01BELZ0001', 'https://www.e-rent.com.tw/roomResult.php?t=1&n=01BELZ0001', 'https://www.e-rent.com.tw/roomResult.php?t=1&n=01BMLD0001', 'https://www.e-rent.com.tw/roomResult.php?t=1&n=01BHXN0001', 'https://www.e-rent.com.tw/roomResult.php?t=1&n=01BBJO0001', 'https://www.e-rent.com.tw/roomResult.php?t=1&n=01HOKT0001', 'https://www.e-rent.com.tw/roomResult.php?t=1&n=01JIHA0001', 'https://www.e-rent.com.tw/roomResult.php?t=1&n=01ADUP0001', 'https://www.e-rent.com.tw/roomResult.php?t=1&n=01BMLD0001', 'https://www.e-rent.com.tw/roomResult.php?t=1&n=01JRMC0001', 'https://www.e-rent.com.tw/roomResult.php?t=1&n=01IXAB0001', 'https://www.e-rent.com.tw/roomResult.php?t=1&n=01DATF0001', 'https://www.e-rent.com.tw/roomResult.php?t=1&n=01EEQM0001', 'https://www.e-rent.com.tw/roomResult.php?t=1&n=01ICPN0001', 'https://www.e-rent.com.tw/roomResult.php?t=1&n=01HWFF0001', 'https://www.e-rent.com.tw/roomResult.php?t=1&n=01JRDC0001', 'https://www.e-rent.com.tw/roomResult.php?t=1&n=01CRCE0001', 'https://www.e-rent.com.tw/roomResult.php?t=1&n=01IVAQ0001', 'https://www.e-rent.com.tw/roomResult.php?t=1&n=01BHXN0001', 'https://www.e-rent.com.tw/roomResult.php?t=1&n=01JRDB0001', 'https://www.e-rent.com.tw/roomResult.php?t=1&n=01GWKD0001', 'https://www.e-rent.com.tw/roomResult.php?t=1&n=01AXIB0001', 'https://www.e-rent.com.tw/roomResult.php?t=1&n=01AXRS0001', 'https://www.e-rent.com.tw/roomResult.php?t=1&n=01IDDJ0001', 'https://www.e-rent.com.tw/roomResult.php?t=1&n=01JRJO0001', 'https://www.e-rent.com.tw/roomResult.php?t=1&n=01HVTL0001', 'https://www.e-rent.com.tw/roomResult.php?t=1&n=01JKHJ0001', 'https://www.e-rent.com.tw/roomResult.php?t=1&n=01IQGE0001', 'https://www.e-rent.com.tw/roomResult.php?t=1&n=01BBJO0001', 'https://www.e-rent.com.tw/roomResult.php?t=1&n=01DHCX0001', 'https://www.e-rent.com.tw/roomResult.php?t=1&n=01JQZG0001', 'https://www.e-rent.com.tw/roomResult.php?t=1&n=01BDNA0001']\n",
      "48\n",
      "19.35590887069702\n"
     ]
    }
   ],
   "source": [
    "#台北市出租雅房\n",
    "\n",
    "from bs4 import BeautifulSoup\n",
    "from splinter import Browser\n",
    "import requests\n",
    "import splinter\n",
    "import json\n",
    "import time\n",
    "\n",
    "t1 = time.time()  #紀錄時間\n",
    "final_2 = []\n",
    "\n",
    "URL = 'https://www.e-rent.com.tw/index.php3'\n",
    "executable_path = {'executable_path':'/usr/local/bin/phantomjs'}\n",
    "browser = Browser('phantomjs', **executable_path)\n",
    "\n",
    "# browser = splinter.Browser(driver_name='chrome')\n",
    "browser.encoding = 'utf-8'\n",
    "\n",
    "browser.visit(URL)\n",
    "browser.find_option_by_text('台北市').first.click()\n",
    "browser.find_option_by_text('出租雅房').first.click()\n",
    "browser.find_by_css('#searchType1 > button').click()\n",
    "\n",
    "\n",
    "for i in range(1,40):\n",
    "    try:\n",
    "        element_2 = browser.find_by_xpath('//*[@id=\"showList\"]/a['+str(i)+']')\n",
    "        final_2.append(element_2['href'])  \n",
    "    except:\n",
    "        browser.find_link_by_partial_href('#query_result').click()\n",
    "        print('go_to_next_page')\n",
    "        break\n",
    "for w in range(1,40):\n",
    "    try:\n",
    "        element_2 = browser.find_by_xpath('//*[@id=\"showList\"]/a['+str(w)+']')\n",
    "        final_2.append(element_2['href'])  \n",
    "    except:\n",
    "        print('mission_over')\n",
    "        break\n",
    "\n",
    "print(final_2)\n",
    "print(len(final_2))\n",
    "\n",
    "t2 = time.time()\n",
    "print(t2-t1)"
   ]
  },
  {
   "cell_type": "code",
   "execution_count": 10,
   "metadata": {},
   "outputs": [
    {
     "data": {
      "text/plain": [
       "42"
      ]
     },
     "execution_count": 10,
     "metadata": {},
     "output_type": "execute_result"
    }
   ],
   "source": [
    "eazy_taipei_url_2 = list(set(final_2))\n",
    "len(eazy_taipei_url_2)"
   ]
  },
  {
   "cell_type": "code",
   "execution_count": 11,
   "metadata": {},
   "outputs": [
    {
     "name": "stdout",
     "output_type": "stream",
     "text": [
      "go_to_next_page\n",
      "['https://www.e-rent.com.tw/roomResult.php?t=1&n=01JQIS0001', 'https://www.e-rent.com.tw/roomResult.php?t=1&n=01JRMT0001', 'https://www.e-rent.com.tw/roomResult.php?t=1&n=01JRKW0001', 'https://www.e-rent.com.tw/roomResult.php?t=1&n=01JRFS0001', 'https://www.e-rent.com.tw/roomResult.php?t=1&n=01GBFX0001', 'https://www.e-rent.com.tw/roomResult.php?t=1&n=01JRKH0001', 'https://www.e-rent.com.tw/roomResult.php?t=1&n=01GBFX0001', 'https://www.e-rent.com.tw/roomResult.php?t=1&n=01DWZC0001', 'https://www.e-rent.com.tw/roomResult.php?t=1&n=01JGWY0001', 'https://www.e-rent.com.tw/roomResult.php?t=1&n=01IJSN0001', 'https://www.e-rent.com.tw/roomResult.php?t=1&n=01DWZC0001', 'https://www.e-rent.com.tw/roomResult.php?t=1&n=01JRKA0001', 'https://www.e-rent.com.tw/roomResult.php?t=1&n=01IATH0001', 'https://www.e-rent.com.tw/roomResult.php?t=1&n=01JREU0001', 'https://www.e-rent.com.tw/roomResult.php?t=1&n=01JRKA0001', 'https://www.e-rent.com.tw/roomResult.php?t=1&n=01JRET0001', 'https://www.e-rent.com.tw/roomResult.php?t=1&n=01JRKN0001']\n",
      "17\n",
      "12.286828756332397\n"
     ]
    }
   ],
   "source": [
    "#台北市公寓華夏\n",
    "\n",
    "from bs4 import BeautifulSoup\n",
    "from splinter import Browser\n",
    "import requests\n",
    "import splinter\n",
    "import json\n",
    "import time\n",
    "\n",
    "t1 = time.time()  #紀錄時間\n",
    "final_3 = []\n",
    "\n",
    "URL = 'https://www.e-rent.com.tw/index.php3'\n",
    "executable_path = {'executable_path':'/usr/local/bin/phantomjs'}\n",
    "browser = Browser('phantomjs', **executable_path)\n",
    "\n",
    "# browser = splinter.Browser(driver_name='chrome')\n",
    "browser.encoding = 'utf-8'\n",
    "\n",
    "browser.visit(URL)\n",
    "browser.find_option_by_text('台北市').first.click()\n",
    "browser.find_option_by_text('公寓華廈').first.click()\n",
    "browser.find_by_css('#searchType1 > button').click()\n",
    "\n",
    "\n",
    "for i in range(1,40):\n",
    "    try:\n",
    "        element_3 = browser.find_by_xpath('//*[@id=\"showList\"]/a['+str(i)+']')\n",
    "        final_3.append(element_3['href'])  \n",
    "    except:\n",
    "#         browser.find_link_by_partial_href('#query_result').click()\n",
    "        print('go_to_next_page')\n",
    "        break\n",
    "# for w in range(1,40):\n",
    "#     try:\n",
    "#         element_2 = browser.find_by_xpath('//*[@id=\"showList\"]/a['+str(w)+']')\n",
    "#         final_2.append(element_2['href'])  \n",
    "#     except:\n",
    "#         print('mission_over')\n",
    "#         break\n",
    "\n",
    "print(final_3)\n",
    "print(len(final_3))\n",
    "\n",
    "\n",
    "t2 = time.time()\n",
    "print(t2-t1)"
   ]
  },
  {
   "cell_type": "code",
   "execution_count": 12,
   "metadata": {},
   "outputs": [
    {
     "data": {
      "text/plain": [
       "14"
      ]
     },
     "execution_count": 12,
     "metadata": {},
     "output_type": "execute_result"
    }
   ],
   "source": [
    "eazy_taipei_url_3 = list(set(final_3))\n",
    "len(eazy_taipei_url_3)"
   ]
  },
  {
   "cell_type": "code",
   "execution_count": 13,
   "metadata": {},
   "outputs": [
    {
     "name": "stdout",
     "output_type": "stream",
     "text": [
      "go_to_next_page\n",
      "mission_over\n",
      "['https://www.e-rent.com.tw/roomResult.php?t=1&n=01JRKB0001', 'https://www.e-rent.com.tw/roomResult.php?t=1&n=01JRMY0001', 'https://www.e-rent.com.tw/roomResult.php?t=1&n=01JRKJ0001', 'https://www.e-rent.com.tw/roomResult.php?t=1&n=01JRFW0001', 'https://www.e-rent.com.tw/roomResult.php?t=1&n=01JRKB0001', 'https://www.e-rent.com.tw/roomResult.php?t=1&n=01IZRX0001', 'https://www.e-rent.com.tw/roomResult.php?t=1&n=01INKH0001', 'https://www.e-rent.com.tw/roomResult.php?t=1&n=01JBQO0001', 'https://www.e-rent.com.tw/roomResult.php?t=1&n=01FSAT0001', 'https://www.e-rent.com.tw/roomResult.php?t=1&n=01JELN0001', 'https://www.e-rent.com.tw/roomResult.php?t=1&n=01AJCJ0001', 'https://www.e-rent.com.tw/roomResult.php?t=1&n=01FTPT0001', 'https://www.e-rent.com.tw/roomResult.php?t=1&n=01IOFJ0001', 'https://www.e-rent.com.tw/roomResult.php?t=1&n=01JDCV0001', 'https://www.e-rent.com.tw/roomResult.php?t=1&n=01JRCF0001', 'https://www.e-rent.com.tw/roomResult.php?t=1&n=01JRCC0001', 'https://www.e-rent.com.tw/roomResult.php?t=1&n=01AJCJ0001', 'https://www.e-rent.com.tw/roomResult.php?t=1&n=01JDAZ0001', 'https://www.e-rent.com.tw/roomResult.php?t=1&n=01GRRQ0001', 'https://www.e-rent.com.tw/roomResult.php?t=1&n=01JRKF0001', 'https://www.e-rent.com.tw/roomResult.php?t=1&n=01GRRQ0001', 'https://www.e-rent.com.tw/roomResult.php?t=1&n=01JRML0001', 'https://www.e-rent.com.tw/roomResult.php?t=1&n=01DPOS0001', 'https://www.e-rent.com.tw/roomResult.php?t=1&n=01JRLY0001', 'https://www.e-rent.com.tw/roomResult.php?t=1&n=01CBIL0001', 'https://www.e-rent.com.tw/roomResult.php?t=1&n=01JRLE0001', 'https://www.e-rent.com.tw/roomResult.php?t=1&n=01JRLW0001', 'https://www.e-rent.com.tw/roomResult.php?t=1&n=01JRML0001', 'https://www.e-rent.com.tw/roomResult.php?t=1&n=01HOPK0001', 'https://www.e-rent.com.tw/roomResult.php?t=1&n=01HKLB0001', 'https://www.e-rent.com.tw/roomResult.php?t=1&n=01IWZI0001', 'https://www.e-rent.com.tw/roomResult.php?t=1&n=01EAZG0001', 'https://www.e-rent.com.tw/roomResult.php?t=1&n=01DPOS0001', 'https://www.e-rent.com.tw/roomResult.php?t=1&n=01JRJX0001', 'https://www.e-rent.com.tw/roomResult.php?t=1&n=01JCDN0001', 'https://www.e-rent.com.tw/roomResult.php?t=1&n=01CPUI0001', 'https://www.e-rent.com.tw/roomResult.php?t=1&n=01HLMO0001', 'https://www.e-rent.com.tw/roomResult.php?t=1&n=01IKDG0001', 'https://www.e-rent.com.tw/roomResult.php?t=1&n=01JRLE0001', 'https://www.e-rent.com.tw/roomResult.php?t=1&n=01JRFR0001', 'https://www.e-rent.com.tw/roomResult.php?t=1&n=01JRFH0001', 'https://www.e-rent.com.tw/roomResult.php?t=1&n=01GGJD0001', 'https://www.e-rent.com.tw/roomResult.php?t=1&n=01JRKZ0001', 'https://www.e-rent.com.tw/roomResult.php?t=1&n=01JOBD0001']\n",
      "44\n",
      "16.800134420394897\n"
     ]
    }
   ],
   "source": [
    "#新北市獨立套房\n",
    "\n",
    "from bs4 import BeautifulSoup\n",
    "from splinter import Browser\n",
    "import requests\n",
    "import splinter\n",
    "import json\n",
    "import time\n",
    "\n",
    "t1 = time.time()  #紀錄時間\n",
    "tool_0 = []\n",
    "\n",
    "URL = 'https://www.e-rent.com.tw/index.php3'\n",
    "executable_path = {'executable_path':'/usr/local/bin/phantomjs'}\n",
    "browser = Browser('phantomjs', **executable_path)\n",
    "\n",
    "# browser = splinter.Browser(driver_name='chrome')\n",
    "browser.encoding = 'utf-8'\n",
    "\n",
    "browser.visit(URL)\n",
    "browser.find_option_by_text('新北市').first.click()\n",
    "browser.find_option_by_text('獨立套房').first.click()\n",
    "browser.find_by_css('#searchType1 > button').click()\n",
    "\n",
    "\n",
    "for i in range(1,40):\n",
    "    try:\n",
    "        element_0 = browser.find_by_xpath('//*[@id=\"showList\"]/a['+str(i)+']')\n",
    "        tool_0.append(element_0['href'])  \n",
    "    except:\n",
    "        browser.find_link_by_partial_href('#query_result').click()\n",
    "        print('go_to_next_page')\n",
    "        break\n",
    "for w in range(1,40):\n",
    "    try:\n",
    "        element_0 = browser.find_by_xpath('//*[@id=\"showList\"]/a['+str(w)+']')\n",
    "        tool_0.append(element_0['href'])  \n",
    "    except:\n",
    "        print('mission_over')\n",
    "        break\n",
    "\n",
    "print(tool_0)\n",
    "print(len(tool_0))\n",
    "\n",
    "t2 = time.time()\n",
    "print(t2-t1)"
   ]
  },
  {
   "cell_type": "code",
   "execution_count": 14,
   "metadata": {},
   "outputs": [
    {
     "data": {
      "text/plain": [
       "38"
      ]
     },
     "execution_count": 14,
     "metadata": {},
     "output_type": "execute_result"
    }
   ],
   "source": [
    "eazy_newtaipei_url_0 = list(set(tool_0))\n",
    "len(eazy_newtaipei_url_0)"
   ]
  },
  {
   "cell_type": "code",
   "execution_count": 15,
   "metadata": {},
   "outputs": [
    {
     "name": "stdout",
     "output_type": "stream",
     "text": [
      "go_to_next_page\n",
      "['https://www.e-rent.com.tw/roomResult.php?t=1&n=01CVIL0001', 'https://www.e-rent.com.tw/roomResult.php?t=1&n=01CVIL0001', 'https://www.e-rent.com.tw/roomResult.php?t=1&n=01JRFK0001']\n",
      "3\n",
      "11.652084589004517\n"
     ]
    }
   ],
   "source": [
    "#新北市商務套房\n",
    "\n",
    "from bs4 import BeautifulSoup\n",
    "from splinter import Browser\n",
    "import requests\n",
    "import splinter\n",
    "import json\n",
    "import time\n",
    "\n",
    "t1 = time.time()  #紀錄時間\n",
    "tool_1 = []\n",
    "\n",
    "URL = 'https://www.e-rent.com.tw/index.php3'\n",
    "executable_path = {'executable_path':'/usr/local/bin/phantomjs'}\n",
    "browser = Browser('phantomjs', **executable_path)\n",
    "\n",
    "# browser = splinter.Browser(driver_name='chrome')\n",
    "browser.encoding = 'utf-8'\n",
    "\n",
    "browser.visit(URL)\n",
    "browser.find_option_by_text('新北市').first.click()\n",
    "browser.find_option_by_text('商務套房').first.click()\n",
    "browser.find_by_css('#searchType1 > button').click()\n",
    "\n",
    "\n",
    "for i in range(1,40):\n",
    "    try:\n",
    "        element_1 = browser.find_by_xpath('//*[@id=\"showList\"]/a['+str(i)+']')\n",
    "        tool_1.append(element_1['href'])  \n",
    "    except:\n",
    "#         browser.find_link_by_partial_href('#query_result').click()\n",
    "        print('go_to_next_page')\n",
    "        break\n",
    "# for w in range(1,40):\n",
    "#     try:\n",
    "#         element_0 = browser.find_by_xpath('//*[@id=\"showList\"]/a['+str(w)+']')\n",
    "#         tool_0.append(element_0['href'])  \n",
    "#     except:\n",
    "#         print('mission_over')\n",
    "#         break\n",
    "\n",
    "print(tool_1)\n",
    "print(len(tool_1))\n",
    "\n",
    "t2 = time.time()\n",
    "print(t2-t1)"
   ]
  },
  {
   "cell_type": "code",
   "execution_count": 16,
   "metadata": {},
   "outputs": [
    {
     "data": {
      "text/plain": [
       "2"
      ]
     },
     "execution_count": 16,
     "metadata": {},
     "output_type": "execute_result"
    }
   ],
   "source": [
    "eazy_newtaipei_url_1 = list(set(tool_1))\n",
    "len(eazy_newtaipei_url_1)"
   ]
  },
  {
   "cell_type": "code",
   "execution_count": 17,
   "metadata": {},
   "outputs": [
    {
     "name": "stdout",
     "output_type": "stream",
     "text": [
      "go_to_next_page\n",
      "mission_over\n",
      "['https://www.e-rent.com.tw/roomResult.php?t=1&n=01JRMO0001', 'https://www.e-rent.com.tw/roomResult.php?t=1&n=01JDJF0001', 'https://www.e-rent.com.tw/roomResult.php?t=1&n=01HIMR0001', 'https://www.e-rent.com.tw/roomResult.php?t=1&n=01DCOU0001', 'https://www.e-rent.com.tw/roomResult.php?t=1&n=01DOLF0001', 'https://www.e-rent.com.tw/roomResult.php?t=1&n=01JQMO0001', 'https://www.e-rent.com.tw/roomResult.php?t=1&n=01IHMF0001', 'https://www.e-rent.com.tw/roomResult.php?t=1&n=01JRJT0001', 'https://www.e-rent.com.tw/roomResult.php?t=1&n=01FUFL0001', 'https://www.e-rent.com.tw/roomResult.php?t=1&n=01FUOU0001', 'https://www.e-rent.com.tw/roomResult.php?t=1&n=01JRMR0001', 'https://www.e-rent.com.tw/roomResult.php?t=1&n=01JQOE0001', 'https://www.e-rent.com.tw/roomResult.php?t=1&n=01HDYF0001', 'https://www.e-rent.com.tw/roomResult.php?t=1&n=01EPOB0001', 'https://www.e-rent.com.tw/roomResult.php?t=1&n=01HEBA0001', 'https://www.e-rent.com.tw/roomResult.php?t=1&n=01ILDY0001', 'https://www.e-rent.com.tw/roomResult.php?t=1&n=01GHFM0001', 'https://www.e-rent.com.tw/roomResult.php?t=1&n=01BWDG0001', 'https://www.e-rent.com.tw/roomResult.php?t=1&n=01JERQ0001', 'https://www.e-rent.com.tw/roomResult.php?t=1&n=01JRDU0001', 'https://www.e-rent.com.tw/roomResult.php?t=1&n=01JNVM0001', 'https://www.e-rent.com.tw/roomResult.php?t=1&n=01JRKY0001', 'https://www.e-rent.com.tw/roomResult.php?t=1&n=01JCWT0001', 'https://www.e-rent.com.tw/roomResult.php?t=1&n=01JNCD0001', 'https://www.e-rent.com.tw/roomResult.php?t=1&n=01CFJF0001', 'https://www.e-rent.com.tw/roomResult.php?t=1&n=01CFJC0001', 'https://www.e-rent.com.tw/roomResult.php?t=1&n=01HNAH0001', 'https://www.e-rent.com.tw/roomResult.php?t=1&n=01JQMO0001', 'https://www.e-rent.com.tw/roomResult.php?t=1&n=01JJLX0001', 'https://www.e-rent.com.tw/roomResult.php?t=1&n=01JQMO0001']\n",
      "30\n",
      "19.71631693840027\n"
     ]
    }
   ],
   "source": [
    "#新北市分租套房\n",
    "\n",
    "from bs4 import BeautifulSoup\n",
    "from splinter import Browser\n",
    "import requests\n",
    "import splinter\n",
    "import json\n",
    "import time\n",
    "\n",
    "t1 = time.time()  #紀錄時間\n",
    "tool_2 = []\n",
    "\n",
    "URL = 'https://www.e-rent.com.tw/index.php3'\n",
    "executable_path = {'executable_path':'/usr/local/bin/phantomjs'}\n",
    "browser = Browser('phantomjs', **executable_path)\n",
    "\n",
    "# browser = splinter.Browser(driver_name='chrome')\n",
    "browser.encoding = 'utf-8'\n",
    "\n",
    "browser.visit(URL)\n",
    "browser.find_option_by_text('新北市').first.click()\n",
    "browser.find_option_by_text('分租套房').first.click()\n",
    "browser.find_by_css('#searchType1 > button').click()\n",
    "\n",
    "\n",
    "for i in range(1,40):\n",
    "    try:\n",
    "        element_2 = browser.find_by_xpath('//*[@id=\"showList\"]/a['+str(i)+']')\n",
    "        tool_2.append(element_2['href'])  \n",
    "    except:\n",
    "        browser.find_link_by_partial_href('#query_result').click()\n",
    "        print('go_to_next_page')\n",
    "        break\n",
    "for w in range(1,40):\n",
    "    try:\n",
    "        element_2 = browser.find_by_xpath('//*[@id=\"showList\"]/a['+str(w)+']')\n",
    "        tool_2.append(element_2['href'])  \n",
    "    except:\n",
    "        print('mission_over')\n",
    "        break\n",
    "\n",
    "print(tool_2)\n",
    "print(len(tool_2))\n",
    "\n",
    "t2 = time.time()\n",
    "print(t2-t1)"
   ]
  },
  {
   "cell_type": "code",
   "execution_count": 18,
   "metadata": {},
   "outputs": [
    {
     "data": {
      "text/plain": [
       "28"
      ]
     },
     "execution_count": 18,
     "metadata": {},
     "output_type": "execute_result"
    }
   ],
   "source": [
    "eazy_newtaipei_url_2 = list(set(tool_2))\n",
    "len(eazy_newtaipei_url_2)"
   ]
  },
  {
   "cell_type": "code",
   "execution_count": 19,
   "metadata": {},
   "outputs": [
    {
     "name": "stdout",
     "output_type": "stream",
     "text": [
      "go_to_next_page\n",
      "['https://www.e-rent.com.tw/roomResult.php?t=1&n=01GFUJ0001', 'https://www.e-rent.com.tw/roomResult.php?t=1&n=01JRMV0001', 'https://www.e-rent.com.tw/roomResult.php?t=1&n=01HBEC0001', 'https://www.e-rent.com.tw/roomResult.php?t=1&n=01JRIX0001', 'https://www.e-rent.com.tw/roomResult.php?t=1&n=01JQDC0001', 'https://www.e-rent.com.tw/roomResult.php?t=1&n=01JRBX0001', 'https://www.e-rent.com.tw/roomResult.php?t=1&n=01JRIX0001', 'https://www.e-rent.com.tw/roomResult.php?t=1&n=01JRGD0001', 'https://www.e-rent.com.tw/roomResult.php?t=1&n=01JRGD0001', 'https://www.e-rent.com.tw/roomResult.php?t=1&n=01JRGH0001', 'https://www.e-rent.com.tw/roomResult.php?t=1&n=01IYJF0001', 'https://www.e-rent.com.tw/roomResult.php?t=1&n=19AABT0001', 'https://www.e-rent.com.tw/roomResult.php?t=1&n=01BZAG0001', 'https://www.e-rent.com.tw/roomResult.php?t=1&n=01BXAW0001', 'https://www.e-rent.com.tw/roomResult.php?t=1&n=01BIHZ0001', 'https://www.e-rent.com.tw/roomResult.php?t=1&n=01GXZI0001', 'https://www.e-rent.com.tw/roomResult.php?t=1&n=01JRIV0001', 'https://www.e-rent.com.tw/roomResult.php?t=1&n=01EHTO0001']\n",
      "18\n",
      "11.86716628074646\n"
     ]
    }
   ],
   "source": [
    "#新北市出租雅房\n",
    "\n",
    "from bs4 import BeautifulSoup\n",
    "from splinter import Browser\n",
    "import requests\n",
    "import splinter\n",
    "import json\n",
    "import time\n",
    "\n",
    "t1 = time.time()  #紀錄時間\n",
    "tool_3 = []\n",
    "\n",
    "URL = 'https://www.e-rent.com.tw/index.php3'\n",
    "executable_path = {'executable_path':'/usr/local/bin/phantomjs'}\n",
    "browser = Browser('phantomjs', **executable_path)\n",
    "\n",
    "# browser = splinter.Browser(driver_name='chrome')\n",
    "browser.encoding = 'utf-8'\n",
    "\n",
    "browser.visit(URL)\n",
    "browser.find_option_by_text('新北市').first.click()\n",
    "browser.find_option_by_text('出租雅房').first.click()\n",
    "browser.find_by_css('#searchType1 > button').click()\n",
    "\n",
    "\n",
    "for i in range(1,40):\n",
    "    try:\n",
    "        element_3 = browser.find_by_xpath('//*[@id=\"showList\"]/a['+str(i)+']')\n",
    "        tool_3.append(element_3['href'])  \n",
    "    except:\n",
    "#         browser.find_link_by_partial_href('#query_result').click()\n",
    "        print('go_to_next_page')\n",
    "        break\n",
    "# for w in range(1,40):\n",
    "#     try:\n",
    "#         element_3 = browser.find_by_xpath('//*[@id=\"showList\"]/a['+str(w)+']')\n",
    "#         tool_3.append(element_3['href'])  \n",
    "#     except:\n",
    "#         print('mission_over')\n",
    "#         break\n",
    "\n",
    "print(tool_3)\n",
    "print(len(tool_3))\n",
    "\n",
    "t2 = time.time()\n",
    "print(t2-t1)"
   ]
  },
  {
   "cell_type": "code",
   "execution_count": 20,
   "metadata": {},
   "outputs": [
    {
     "data": {
      "text/plain": [
       "16"
      ]
     },
     "execution_count": 20,
     "metadata": {},
     "output_type": "execute_result"
    }
   ],
   "source": [
    "eazy_newtaipei_url_3 = list(set(tool_3))\n",
    "len(eazy_newtaipei_url_3)"
   ]
  },
  {
   "cell_type": "code",
   "execution_count": 21,
   "metadata": {},
   "outputs": [
    {
     "name": "stdout",
     "output_type": "stream",
     "text": [
      "go_to_next_page\n",
      "['https://www.e-rent.com.tw/roomResult.php?t=1&n=01JETL0001', 'https://www.e-rent.com.tw/roomResult.php?t=1&n=01IIJA0001', 'https://www.e-rent.com.tw/roomResult.php?t=1&n=01AWXD0001', 'https://www.e-rent.com.tw/roomResult.php?t=1&n=01JRKM0001', 'https://www.e-rent.com.tw/roomResult.php?t=1&n=01JRGK0001', 'https://www.e-rent.com.tw/roomResult.php?t=1&n=01JRGM0001', 'https://www.e-rent.com.tw/roomResult.php?t=1&n=01JRGK0001', 'https://www.e-rent.com.tw/roomResult.php?t=1&n=01JREN0001', 'https://www.e-rent.com.tw/roomResult.php?t=1&n=01JRJU0001', 'https://www.e-rent.com.tw/roomResult.php?t=1&n=01JRAY0001']\n",
      "10\n",
      "11.64488410949707\n"
     ]
    }
   ],
   "source": [
    "#新北市公寓華廈\n",
    "\n",
    "from bs4 import BeautifulSoup\n",
    "from splinter import Browser\n",
    "import requests\n",
    "import splinter\n",
    "import json\n",
    "import time\n",
    "\n",
    "t1 = time.time()  #紀錄時間\n",
    "tool_4 = []\n",
    "\n",
    "URL = 'https://www.e-rent.com.tw/index.php3'\n",
    "executable_path = {'executable_path':'/usr/local/bin/phantomjs'}\n",
    "browser = Browser('phantomjs', **executable_path)\n",
    "\n",
    "# browser = splinter.Browser(driver_name='chrome')\n",
    "browser.encoding = 'utf-8'\n",
    "\n",
    "browser.visit(URL)\n",
    "browser.find_option_by_text('新北市').first.click()\n",
    "browser.find_option_by_text('公寓華廈').first.click()\n",
    "browser.find_by_css('#searchType1 > button').click()\n",
    "\n",
    "\n",
    "for i in range(1,40):\n",
    "    try:\n",
    "        element_4 = browser.find_by_xpath('//*[@id=\"showList\"]/a['+str(i)+']')\n",
    "        tool_4.append(element_4['href'])  \n",
    "    except:\n",
    "#         browser.find_link_by_partial_href('#query_result').click()\n",
    "        print('go_to_next_page')\n",
    "        break\n",
    "# for w in range(1,40):\n",
    "#     try:\n",
    "#         element_3 = browser.find_by_xpath('//*[@id=\"showList\"]/a['+str(w)+']')\n",
    "#         tool_3.append(element_3['href'])  \n",
    "#     except:\n",
    "#         print('mission_over')\n",
    "#         break\n",
    "\n",
    "print(tool_4)\n",
    "print(len(tool_4))\n",
    "\n",
    "t2 = time.time()\n",
    "print(t2-t1)"
   ]
  },
  {
   "cell_type": "code",
   "execution_count": 22,
   "metadata": {},
   "outputs": [
    {
     "data": {
      "text/plain": [
       "9"
      ]
     },
     "execution_count": 22,
     "metadata": {},
     "output_type": "execute_result"
    }
   ],
   "source": [
    "eazy_newtaipei_url_4 = list(set(tool_4))\n",
    "len(eazy_newtaipei_url_4)"
   ]
  },
  {
   "cell_type": "code",
   "execution_count": 85,
   "metadata": {
    "collapsed": true
   },
   "outputs": [],
   "source": [
    "aaa = eazy_taipei_url_0+eazy_taipei_url_1+eazy_taipei_url_2+eazy_taipei_url_3+\\\n",
    "eazy_newtaipei_url_0+eazy_newtaipei_url_1+eazy_newtaipei_url_2+eazy_newtaipei_url_3+eazy_newtaipei_url_4"
   ]
  },
  {
   "cell_type": "code",
   "execution_count": 86,
   "metadata": {},
   "outputs": [
    {
     "data": {
      "text/plain": [
       "216"
      ]
     },
     "execution_count": 86,
     "metadata": {},
     "output_type": "execute_result"
    }
   ],
   "source": [
    "len(aaa)  #總共的物件數"
   ]
  }
 ],
 "metadata": {
  "kernelspec": {
   "display_name": "Python 3",
   "language": "python",
   "name": "python3"
  },
  "language_info": {
   "codemirror_mode": {
    "name": "ipython",
    "version": 3
   },
   "file_extension": ".py",
   "mimetype": "text/x-python",
   "name": "python",
   "nbconvert_exporter": "python",
   "pygments_lexer": "ipython3",
   "version": "3.6.1"
  }
 },
 "nbformat": 4,
 "nbformat_minor": 2
}
